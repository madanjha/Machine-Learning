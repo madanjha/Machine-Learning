{
  "nbformat": 4,
  "nbformat_minor": 0,
  "metadata": {
    "colab": {
      "provenance": [],
      "authorship_tag": "ABX9TyO+VggcPXmUGGIt9a72TfrH",
      "include_colab_link": true
    },
    "kernelspec": {
      "name": "python3",
      "display_name": "Python 3"
    },
    "language_info": {
      "name": "python"
    }
  },
  "cells": [
    {
      "cell_type": "markdown",
      "metadata": {
        "id": "view-in-github",
        "colab_type": "text"
      },
      "source": [
        "<a href=\"https://colab.research.google.com/github/madanjha/Machine-Learning/blob/main/Linear_Regression_Assignment_Qui.ipynb\" target=\"_parent\"><img src=\"https://colab.research.google.com/assets/colab-badge.svg\" alt=\"Open In Colab\"/></a>"
      ]
    },
    {
      "cell_type": "code",
      "execution_count": 1,
      "metadata": {
        "id": "2Uz3_Wrz2y7i",
        "colab": {
          "base_uri": "https://localhost:8080/"
        },
        "outputId": "f4fc7abf-bc61-4a4a-85e2-78a640c3ada1"
      },
      "outputs": [
        {
          "output_type": "stream",
          "name": "stdout",
          "text": [
            "Mounted at /content/drive\n"
          ]
        }
      ],
      "source": [
        "from google.colab import drive\n",
        "drive.mount('/content/drive')"
      ]
    },
    {
      "cell_type": "code",
      "source": [
        "# Import libraries\n",
        "import numpy as np\n",
        "import pandas as pd\n",
        "import matplotlib.pyplot as plt\n",
        "import math\n"
      ],
      "metadata": {
        "id": "OB419czVTTr3"
      },
      "execution_count": 3,
      "outputs": []
    },
    {
      "cell_type": "code",
      "source": [
        "di_dataset= pd.read_csv('/content/drive/MyDrive/DataSetEPDA/Diamond.csv')"
      ],
      "metadata": {
        "id": "nlVT7ZIsTYCw"
      },
      "execution_count": 5,
      "outputs": []
    },
    {
      "cell_type": "code",
      "source": [
        "di_dataset.head()"
      ],
      "metadata": {
        "colab": {
          "base_uri": "https://localhost:8080/",
          "height": 206
        },
        "id": "F3ghUthUTsWw",
        "outputId": "5e4160aa-4e02-480f-d41b-384ce4e7afab"
      },
      "execution_count": 6,
      "outputs": [
        {
          "output_type": "execute_result",
          "data": {
            "text/plain": [
              "   Unnamed: 0  carat      cut color clarity  depth  table  price     x     y  \\\n",
              "0           1   0.23    Ideal     E     SI2   61.5   55.0    326  3.95  3.98   \n",
              "1           2   0.21  Premium     E     SI1   59.8   61.0    326  3.89  3.84   \n",
              "2           3   0.23     Good     E     VS1   56.9   65.0    327  4.05  4.07   \n",
              "3           4   0.29  Premium     I     VS2   62.4   58.0    334  4.20  4.23   \n",
              "4           5   0.31     Good     J     SI2   63.3   58.0    335  4.34  4.35   \n",
              "\n",
              "      z  \n",
              "0  2.43  \n",
              "1  2.31  \n",
              "2  2.31  \n",
              "3  2.63  \n",
              "4  2.75  "
            ],
            "text/html": [
              "\n",
              "  <div id=\"df-ff72b116-e5ef-47d2-b3bb-ddc5292f678e\" class=\"colab-df-container\">\n",
              "    <div>\n",
              "<style scoped>\n",
              "    .dataframe tbody tr th:only-of-type {\n",
              "        vertical-align: middle;\n",
              "    }\n",
              "\n",
              "    .dataframe tbody tr th {\n",
              "        vertical-align: top;\n",
              "    }\n",
              "\n",
              "    .dataframe thead th {\n",
              "        text-align: right;\n",
              "    }\n",
              "</style>\n",
              "<table border=\"1\" class=\"dataframe\">\n",
              "  <thead>\n",
              "    <tr style=\"text-align: right;\">\n",
              "      <th></th>\n",
              "      <th>Unnamed: 0</th>\n",
              "      <th>carat</th>\n",
              "      <th>cut</th>\n",
              "      <th>color</th>\n",
              "      <th>clarity</th>\n",
              "      <th>depth</th>\n",
              "      <th>table</th>\n",
              "      <th>price</th>\n",
              "      <th>x</th>\n",
              "      <th>y</th>\n",
              "      <th>z</th>\n",
              "    </tr>\n",
              "  </thead>\n",
              "  <tbody>\n",
              "    <tr>\n",
              "      <th>0</th>\n",
              "      <td>1</td>\n",
              "      <td>0.23</td>\n",
              "      <td>Ideal</td>\n",
              "      <td>E</td>\n",
              "      <td>SI2</td>\n",
              "      <td>61.5</td>\n",
              "      <td>55.0</td>\n",
              "      <td>326</td>\n",
              "      <td>3.95</td>\n",
              "      <td>3.98</td>\n",
              "      <td>2.43</td>\n",
              "    </tr>\n",
              "    <tr>\n",
              "      <th>1</th>\n",
              "      <td>2</td>\n",
              "      <td>0.21</td>\n",
              "      <td>Premium</td>\n",
              "      <td>E</td>\n",
              "      <td>SI1</td>\n",
              "      <td>59.8</td>\n",
              "      <td>61.0</td>\n",
              "      <td>326</td>\n",
              "      <td>3.89</td>\n",
              "      <td>3.84</td>\n",
              "      <td>2.31</td>\n",
              "    </tr>\n",
              "    <tr>\n",
              "      <th>2</th>\n",
              "      <td>3</td>\n",
              "      <td>0.23</td>\n",
              "      <td>Good</td>\n",
              "      <td>E</td>\n",
              "      <td>VS1</td>\n",
              "      <td>56.9</td>\n",
              "      <td>65.0</td>\n",
              "      <td>327</td>\n",
              "      <td>4.05</td>\n",
              "      <td>4.07</td>\n",
              "      <td>2.31</td>\n",
              "    </tr>\n",
              "    <tr>\n",
              "      <th>3</th>\n",
              "      <td>4</td>\n",
              "      <td>0.29</td>\n",
              "      <td>Premium</td>\n",
              "      <td>I</td>\n",
              "      <td>VS2</td>\n",
              "      <td>62.4</td>\n",
              "      <td>58.0</td>\n",
              "      <td>334</td>\n",
              "      <td>4.20</td>\n",
              "      <td>4.23</td>\n",
              "      <td>2.63</td>\n",
              "    </tr>\n",
              "    <tr>\n",
              "      <th>4</th>\n",
              "      <td>5</td>\n",
              "      <td>0.31</td>\n",
              "      <td>Good</td>\n",
              "      <td>J</td>\n",
              "      <td>SI2</td>\n",
              "      <td>63.3</td>\n",
              "      <td>58.0</td>\n",
              "      <td>335</td>\n",
              "      <td>4.34</td>\n",
              "      <td>4.35</td>\n",
              "      <td>2.75</td>\n",
              "    </tr>\n",
              "  </tbody>\n",
              "</table>\n",
              "</div>\n",
              "    <div class=\"colab-df-buttons\">\n",
              "\n",
              "  <div class=\"colab-df-container\">\n",
              "    <button class=\"colab-df-convert\" onclick=\"convertToInteractive('df-ff72b116-e5ef-47d2-b3bb-ddc5292f678e')\"\n",
              "            title=\"Convert this dataframe to an interactive table.\"\n",
              "            style=\"display:none;\">\n",
              "\n",
              "  <svg xmlns=\"http://www.w3.org/2000/svg\" height=\"24px\" viewBox=\"0 -960 960 960\">\n",
              "    <path d=\"M120-120v-720h720v720H120Zm60-500h600v-160H180v160Zm220 220h160v-160H400v160Zm0 220h160v-160H400v160ZM180-400h160v-160H180v160Zm440 0h160v-160H620v160ZM180-180h160v-160H180v160Zm440 0h160v-160H620v160Z\"/>\n",
              "  </svg>\n",
              "    </button>\n",
              "\n",
              "  <style>\n",
              "    .colab-df-container {\n",
              "      display:flex;\n",
              "      gap: 12px;\n",
              "    }\n",
              "\n",
              "    .colab-df-convert {\n",
              "      background-color: #E8F0FE;\n",
              "      border: none;\n",
              "      border-radius: 50%;\n",
              "      cursor: pointer;\n",
              "      display: none;\n",
              "      fill: #1967D2;\n",
              "      height: 32px;\n",
              "      padding: 0 0 0 0;\n",
              "      width: 32px;\n",
              "    }\n",
              "\n",
              "    .colab-df-convert:hover {\n",
              "      background-color: #E2EBFA;\n",
              "      box-shadow: 0px 1px 2px rgba(60, 64, 67, 0.3), 0px 1px 3px 1px rgba(60, 64, 67, 0.15);\n",
              "      fill: #174EA6;\n",
              "    }\n",
              "\n",
              "    .colab-df-buttons div {\n",
              "      margin-bottom: 4px;\n",
              "    }\n",
              "\n",
              "    [theme=dark] .colab-df-convert {\n",
              "      background-color: #3B4455;\n",
              "      fill: #D2E3FC;\n",
              "    }\n",
              "\n",
              "    [theme=dark] .colab-df-convert:hover {\n",
              "      background-color: #434B5C;\n",
              "      box-shadow: 0px 1px 3px 1px rgba(0, 0, 0, 0.15);\n",
              "      filter: drop-shadow(0px 1px 2px rgba(0, 0, 0, 0.3));\n",
              "      fill: #FFFFFF;\n",
              "    }\n",
              "  </style>\n",
              "\n",
              "    <script>\n",
              "      const buttonEl =\n",
              "        document.querySelector('#df-ff72b116-e5ef-47d2-b3bb-ddc5292f678e button.colab-df-convert');\n",
              "      buttonEl.style.display =\n",
              "        google.colab.kernel.accessAllowed ? 'block' : 'none';\n",
              "\n",
              "      async function convertToInteractive(key) {\n",
              "        const element = document.querySelector('#df-ff72b116-e5ef-47d2-b3bb-ddc5292f678e');\n",
              "        const dataTable =\n",
              "          await google.colab.kernel.invokeFunction('convertToInteractive',\n",
              "                                                    [key], {});\n",
              "        if (!dataTable) return;\n",
              "\n",
              "        const docLinkHtml = 'Like what you see? Visit the ' +\n",
              "          '<a target=\"_blank\" href=https://colab.research.google.com/notebooks/data_table.ipynb>data table notebook</a>'\n",
              "          + ' to learn more about interactive tables.';\n",
              "        element.innerHTML = '';\n",
              "        dataTable['output_type'] = 'display_data';\n",
              "        await google.colab.output.renderOutput(dataTable, element);\n",
              "        const docLink = document.createElement('div');\n",
              "        docLink.innerHTML = docLinkHtml;\n",
              "        element.appendChild(docLink);\n",
              "      }\n",
              "    </script>\n",
              "  </div>\n",
              "\n",
              "\n",
              "    <div id=\"df-7b91b16a-b7b3-4877-bc3b-ef0e1b714cb7\">\n",
              "      <button class=\"colab-df-quickchart\" onclick=\"quickchart('df-7b91b16a-b7b3-4877-bc3b-ef0e1b714cb7')\"\n",
              "                title=\"Suggest charts\"\n",
              "                style=\"display:none;\">\n",
              "\n",
              "<svg xmlns=\"http://www.w3.org/2000/svg\" height=\"24px\"viewBox=\"0 0 24 24\"\n",
              "     width=\"24px\">\n",
              "    <g>\n",
              "        <path d=\"M19 3H5c-1.1 0-2 .9-2 2v14c0 1.1.9 2 2 2h14c1.1 0 2-.9 2-2V5c0-1.1-.9-2-2-2zM9 17H7v-7h2v7zm4 0h-2V7h2v10zm4 0h-2v-4h2v4z\"/>\n",
              "    </g>\n",
              "</svg>\n",
              "      </button>\n",
              "\n",
              "<style>\n",
              "  .colab-df-quickchart {\n",
              "      --bg-color: #E8F0FE;\n",
              "      --fill-color: #1967D2;\n",
              "      --hover-bg-color: #E2EBFA;\n",
              "      --hover-fill-color: #174EA6;\n",
              "      --disabled-fill-color: #AAA;\n",
              "      --disabled-bg-color: #DDD;\n",
              "  }\n",
              "\n",
              "  [theme=dark] .colab-df-quickchart {\n",
              "      --bg-color: #3B4455;\n",
              "      --fill-color: #D2E3FC;\n",
              "      --hover-bg-color: #434B5C;\n",
              "      --hover-fill-color: #FFFFFF;\n",
              "      --disabled-bg-color: #3B4455;\n",
              "      --disabled-fill-color: #666;\n",
              "  }\n",
              "\n",
              "  .colab-df-quickchart {\n",
              "    background-color: var(--bg-color);\n",
              "    border: none;\n",
              "    border-radius: 50%;\n",
              "    cursor: pointer;\n",
              "    display: none;\n",
              "    fill: var(--fill-color);\n",
              "    height: 32px;\n",
              "    padding: 0;\n",
              "    width: 32px;\n",
              "  }\n",
              "\n",
              "  .colab-df-quickchart:hover {\n",
              "    background-color: var(--hover-bg-color);\n",
              "    box-shadow: 0 1px 2px rgba(60, 64, 67, 0.3), 0 1px 3px 1px rgba(60, 64, 67, 0.15);\n",
              "    fill: var(--button-hover-fill-color);\n",
              "  }\n",
              "\n",
              "  .colab-df-quickchart-complete:disabled,\n",
              "  .colab-df-quickchart-complete:disabled:hover {\n",
              "    background-color: var(--disabled-bg-color);\n",
              "    fill: var(--disabled-fill-color);\n",
              "    box-shadow: none;\n",
              "  }\n",
              "\n",
              "  .colab-df-spinner {\n",
              "    border: 2px solid var(--fill-color);\n",
              "    border-color: transparent;\n",
              "    border-bottom-color: var(--fill-color);\n",
              "    animation:\n",
              "      spin 1s steps(1) infinite;\n",
              "  }\n",
              "\n",
              "  @keyframes spin {\n",
              "    0% {\n",
              "      border-color: transparent;\n",
              "      border-bottom-color: var(--fill-color);\n",
              "      border-left-color: var(--fill-color);\n",
              "    }\n",
              "    20% {\n",
              "      border-color: transparent;\n",
              "      border-left-color: var(--fill-color);\n",
              "      border-top-color: var(--fill-color);\n",
              "    }\n",
              "    30% {\n",
              "      border-color: transparent;\n",
              "      border-left-color: var(--fill-color);\n",
              "      border-top-color: var(--fill-color);\n",
              "      border-right-color: var(--fill-color);\n",
              "    }\n",
              "    40% {\n",
              "      border-color: transparent;\n",
              "      border-right-color: var(--fill-color);\n",
              "      border-top-color: var(--fill-color);\n",
              "    }\n",
              "    60% {\n",
              "      border-color: transparent;\n",
              "      border-right-color: var(--fill-color);\n",
              "    }\n",
              "    80% {\n",
              "      border-color: transparent;\n",
              "      border-right-color: var(--fill-color);\n",
              "      border-bottom-color: var(--fill-color);\n",
              "    }\n",
              "    90% {\n",
              "      border-color: transparent;\n",
              "      border-bottom-color: var(--fill-color);\n",
              "    }\n",
              "  }\n",
              "</style>\n",
              "\n",
              "      <script>\n",
              "        async function quickchart(key) {\n",
              "          const quickchartButtonEl =\n",
              "            document.querySelector('#' + key + ' button');\n",
              "          quickchartButtonEl.disabled = true;  // To prevent multiple clicks.\n",
              "          quickchartButtonEl.classList.add('colab-df-spinner');\n",
              "          try {\n",
              "            const charts = await google.colab.kernel.invokeFunction(\n",
              "                'suggestCharts', [key], {});\n",
              "          } catch (error) {\n",
              "            console.error('Error during call to suggestCharts:', error);\n",
              "          }\n",
              "          quickchartButtonEl.classList.remove('colab-df-spinner');\n",
              "          quickchartButtonEl.classList.add('colab-df-quickchart-complete');\n",
              "        }\n",
              "        (() => {\n",
              "          let quickchartButtonEl =\n",
              "            document.querySelector('#df-7b91b16a-b7b3-4877-bc3b-ef0e1b714cb7 button');\n",
              "          quickchartButtonEl.style.display =\n",
              "            google.colab.kernel.accessAllowed ? 'block' : 'none';\n",
              "        })();\n",
              "      </script>\n",
              "    </div>\n",
              "\n",
              "    </div>\n",
              "  </div>\n"
            ],
            "application/vnd.google.colaboratory.intrinsic+json": {
              "type": "dataframe",
              "variable_name": "di_dataset",
              "summary": "{\n  \"name\": \"di_dataset\",\n  \"rows\": 53940,\n  \"fields\": [\n    {\n      \"column\": \"Unnamed: 0\",\n      \"properties\": {\n        \"dtype\": \"number\",\n        \"std\": 15571,\n        \"min\": 1,\n        \"max\": 53940,\n        \"num_unique_values\": 53940,\n        \"samples\": [\n          1389,\n          50053,\n          41646\n        ],\n        \"semantic_type\": \"\",\n        \"description\": \"\"\n      }\n    },\n    {\n      \"column\": \"carat\",\n      \"properties\": {\n        \"dtype\": \"number\",\n        \"std\": 0.47401124440538067,\n        \"min\": 0.2,\n        \"max\": 5.01,\n        \"num_unique_values\": 273,\n        \"samples\": [\n          0.77,\n          1.58,\n          0.65\n        ],\n        \"semantic_type\": \"\",\n        \"description\": \"\"\n      }\n    },\n    {\n      \"column\": \"cut\",\n      \"properties\": {\n        \"dtype\": \"category\",\n        \"num_unique_values\": 5,\n        \"samples\": [\n          \"Premium\",\n          \"Fair\",\n          \"Good\"\n        ],\n        \"semantic_type\": \"\",\n        \"description\": \"\"\n      }\n    },\n    {\n      \"column\": \"color\",\n      \"properties\": {\n        \"dtype\": \"category\",\n        \"num_unique_values\": 7,\n        \"samples\": [\n          \"E\",\n          \"I\",\n          \"G\"\n        ],\n        \"semantic_type\": \"\",\n        \"description\": \"\"\n      }\n    },\n    {\n      \"column\": \"clarity\",\n      \"properties\": {\n        \"dtype\": \"category\",\n        \"num_unique_values\": 8,\n        \"samples\": [\n          \"SI1\",\n          \"VVS1\",\n          \"SI2\"\n        ],\n        \"semantic_type\": \"\",\n        \"description\": \"\"\n      }\n    },\n    {\n      \"column\": \"depth\",\n      \"properties\": {\n        \"dtype\": \"number\",\n        \"std\": 1.4326213188337733,\n        \"min\": 43.0,\n        \"max\": 79.0,\n        \"num_unique_values\": 184,\n        \"samples\": [\n          61.0,\n          62.9,\n          70.2\n        ],\n        \"semantic_type\": \"\",\n        \"description\": \"\"\n      }\n    },\n    {\n      \"column\": \"table\",\n      \"properties\": {\n        \"dtype\": \"number\",\n        \"std\": 2.234490562820938,\n        \"min\": 43.0,\n        \"max\": 95.0,\n        \"num_unique_values\": 127,\n        \"samples\": [\n          54.8,\n          61.5,\n          57.6\n        ],\n        \"semantic_type\": \"\",\n        \"description\": \"\"\n      }\n    },\n    {\n      \"column\": \"price\",\n      \"properties\": {\n        \"dtype\": \"number\",\n        \"std\": 3989,\n        \"min\": 326,\n        \"max\": 18823,\n        \"num_unique_values\": 11602,\n        \"samples\": [\n          16368,\n          895,\n          748\n        ],\n        \"semantic_type\": \"\",\n        \"description\": \"\"\n      }\n    },\n    {\n      \"column\": \"x\",\n      \"properties\": {\n        \"dtype\": \"number\",\n        \"std\": 1.1217607467924422,\n        \"min\": 0.0,\n        \"max\": 10.74,\n        \"num_unique_values\": 554,\n        \"samples\": [\n          5.88,\n          5.69,\n          4.61\n        ],\n        \"semantic_type\": \"\",\n        \"description\": \"\"\n      }\n    },\n    {\n      \"column\": \"y\",\n      \"properties\": {\n        \"dtype\": \"number\",\n        \"std\": 1.1421346741235396,\n        \"min\": 0.0,\n        \"max\": 58.9,\n        \"num_unique_values\": 552,\n        \"samples\": [\n          5.33,\n          5.61,\n          5.25\n        ],\n        \"semantic_type\": \"\",\n        \"description\": \"\"\n      }\n    },\n    {\n      \"column\": \"z\",\n      \"properties\": {\n        \"dtype\": \"number\",\n        \"std\": 0.7056988469499964,\n        \"min\": 0.0,\n        \"max\": 31.8,\n        \"num_unique_values\": 375,\n        \"samples\": [\n          3.36,\n          2.45,\n          2.7\n        ],\n        \"semantic_type\": \"\",\n        \"description\": \"\"\n      }\n    }\n  ]\n}"
            }
          },
          "metadata": {},
          "execution_count": 6
        }
      ]
    },
    {
      "cell_type": "code",
      "source": [
        "toy_dataset= pd.read_csv('/content/drive/MyDrive/DataSetEPDA/ToyotaCorolla.csv')"
      ],
      "metadata": {
        "id": "0oKiarHrTvmM"
      },
      "execution_count": 7,
      "outputs": []
    },
    {
      "cell_type": "code",
      "source": [
        "toy_dataset.head()"
      ],
      "metadata": {
        "colab": {
          "base_uri": "https://localhost:8080/",
          "height": 206
        },
        "id": "V3JOmLJZT5u6",
        "outputId": "d74a5787-d79c-4c7c-a021-e19f5f73d978"
      },
      "execution_count": 8,
      "outputs": [
        {
          "output_type": "execute_result",
          "data": {
            "text/plain": [
              "   Unnamed: 0  Price   Age     KM FuelType  HP  MetColor  Automatic    CC  \\\n",
              "0           0  13500  23.0  46986   Diesel  90       1.0          0  2000   \n",
              "1           1  13750  23.0  72937   Diesel  90       1.0          0  2000   \n",
              "2           2  13950  24.0  41711   Diesel  90       NaN          0  2000   \n",
              "3           3  14950  26.0  48000   Diesel  90       0.0          0  2000   \n",
              "4           4  13750  30.0  38500   Diesel  90       0.0          0  2000   \n",
              "\n",
              "   Doors  Weight  \n",
              "0      3    1165  \n",
              "1      3    1165  \n",
              "2      3    1165  \n",
              "3      3    1165  \n",
              "4      3    1170  "
            ],
            "text/html": [
              "\n",
              "  <div id=\"df-941fca57-8d21-43cb-8173-5b9adbeeb445\" class=\"colab-df-container\">\n",
              "    <div>\n",
              "<style scoped>\n",
              "    .dataframe tbody tr th:only-of-type {\n",
              "        vertical-align: middle;\n",
              "    }\n",
              "\n",
              "    .dataframe tbody tr th {\n",
              "        vertical-align: top;\n",
              "    }\n",
              "\n",
              "    .dataframe thead th {\n",
              "        text-align: right;\n",
              "    }\n",
              "</style>\n",
              "<table border=\"1\" class=\"dataframe\">\n",
              "  <thead>\n",
              "    <tr style=\"text-align: right;\">\n",
              "      <th></th>\n",
              "      <th>Unnamed: 0</th>\n",
              "      <th>Price</th>\n",
              "      <th>Age</th>\n",
              "      <th>KM</th>\n",
              "      <th>FuelType</th>\n",
              "      <th>HP</th>\n",
              "      <th>MetColor</th>\n",
              "      <th>Automatic</th>\n",
              "      <th>CC</th>\n",
              "      <th>Doors</th>\n",
              "      <th>Weight</th>\n",
              "    </tr>\n",
              "  </thead>\n",
              "  <tbody>\n",
              "    <tr>\n",
              "      <th>0</th>\n",
              "      <td>0</td>\n",
              "      <td>13500</td>\n",
              "      <td>23.0</td>\n",
              "      <td>46986</td>\n",
              "      <td>Diesel</td>\n",
              "      <td>90</td>\n",
              "      <td>1.0</td>\n",
              "      <td>0</td>\n",
              "      <td>2000</td>\n",
              "      <td>3</td>\n",
              "      <td>1165</td>\n",
              "    </tr>\n",
              "    <tr>\n",
              "      <th>1</th>\n",
              "      <td>1</td>\n",
              "      <td>13750</td>\n",
              "      <td>23.0</td>\n",
              "      <td>72937</td>\n",
              "      <td>Diesel</td>\n",
              "      <td>90</td>\n",
              "      <td>1.0</td>\n",
              "      <td>0</td>\n",
              "      <td>2000</td>\n",
              "      <td>3</td>\n",
              "      <td>1165</td>\n",
              "    </tr>\n",
              "    <tr>\n",
              "      <th>2</th>\n",
              "      <td>2</td>\n",
              "      <td>13950</td>\n",
              "      <td>24.0</td>\n",
              "      <td>41711</td>\n",
              "      <td>Diesel</td>\n",
              "      <td>90</td>\n",
              "      <td>NaN</td>\n",
              "      <td>0</td>\n",
              "      <td>2000</td>\n",
              "      <td>3</td>\n",
              "      <td>1165</td>\n",
              "    </tr>\n",
              "    <tr>\n",
              "      <th>3</th>\n",
              "      <td>3</td>\n",
              "      <td>14950</td>\n",
              "      <td>26.0</td>\n",
              "      <td>48000</td>\n",
              "      <td>Diesel</td>\n",
              "      <td>90</td>\n",
              "      <td>0.0</td>\n",
              "      <td>0</td>\n",
              "      <td>2000</td>\n",
              "      <td>3</td>\n",
              "      <td>1165</td>\n",
              "    </tr>\n",
              "    <tr>\n",
              "      <th>4</th>\n",
              "      <td>4</td>\n",
              "      <td>13750</td>\n",
              "      <td>30.0</td>\n",
              "      <td>38500</td>\n",
              "      <td>Diesel</td>\n",
              "      <td>90</td>\n",
              "      <td>0.0</td>\n",
              "      <td>0</td>\n",
              "      <td>2000</td>\n",
              "      <td>3</td>\n",
              "      <td>1170</td>\n",
              "    </tr>\n",
              "  </tbody>\n",
              "</table>\n",
              "</div>\n",
              "    <div class=\"colab-df-buttons\">\n",
              "\n",
              "  <div class=\"colab-df-container\">\n",
              "    <button class=\"colab-df-convert\" onclick=\"convertToInteractive('df-941fca57-8d21-43cb-8173-5b9adbeeb445')\"\n",
              "            title=\"Convert this dataframe to an interactive table.\"\n",
              "            style=\"display:none;\">\n",
              "\n",
              "  <svg xmlns=\"http://www.w3.org/2000/svg\" height=\"24px\" viewBox=\"0 -960 960 960\">\n",
              "    <path d=\"M120-120v-720h720v720H120Zm60-500h600v-160H180v160Zm220 220h160v-160H400v160Zm0 220h160v-160H400v160ZM180-400h160v-160H180v160Zm440 0h160v-160H620v160ZM180-180h160v-160H180v160Zm440 0h160v-160H620v160Z\"/>\n",
              "  </svg>\n",
              "    </button>\n",
              "\n",
              "  <style>\n",
              "    .colab-df-container {\n",
              "      display:flex;\n",
              "      gap: 12px;\n",
              "    }\n",
              "\n",
              "    .colab-df-convert {\n",
              "      background-color: #E8F0FE;\n",
              "      border: none;\n",
              "      border-radius: 50%;\n",
              "      cursor: pointer;\n",
              "      display: none;\n",
              "      fill: #1967D2;\n",
              "      height: 32px;\n",
              "      padding: 0 0 0 0;\n",
              "      width: 32px;\n",
              "    }\n",
              "\n",
              "    .colab-df-convert:hover {\n",
              "      background-color: #E2EBFA;\n",
              "      box-shadow: 0px 1px 2px rgba(60, 64, 67, 0.3), 0px 1px 3px 1px rgba(60, 64, 67, 0.15);\n",
              "      fill: #174EA6;\n",
              "    }\n",
              "\n",
              "    .colab-df-buttons div {\n",
              "      margin-bottom: 4px;\n",
              "    }\n",
              "\n",
              "    [theme=dark] .colab-df-convert {\n",
              "      background-color: #3B4455;\n",
              "      fill: #D2E3FC;\n",
              "    }\n",
              "\n",
              "    [theme=dark] .colab-df-convert:hover {\n",
              "      background-color: #434B5C;\n",
              "      box-shadow: 0px 1px 3px 1px rgba(0, 0, 0, 0.15);\n",
              "      filter: drop-shadow(0px 1px 2px rgba(0, 0, 0, 0.3));\n",
              "      fill: #FFFFFF;\n",
              "    }\n",
              "  </style>\n",
              "\n",
              "    <script>\n",
              "      const buttonEl =\n",
              "        document.querySelector('#df-941fca57-8d21-43cb-8173-5b9adbeeb445 button.colab-df-convert');\n",
              "      buttonEl.style.display =\n",
              "        google.colab.kernel.accessAllowed ? 'block' : 'none';\n",
              "\n",
              "      async function convertToInteractive(key) {\n",
              "        const element = document.querySelector('#df-941fca57-8d21-43cb-8173-5b9adbeeb445');\n",
              "        const dataTable =\n",
              "          await google.colab.kernel.invokeFunction('convertToInteractive',\n",
              "                                                    [key], {});\n",
              "        if (!dataTable) return;\n",
              "\n",
              "        const docLinkHtml = 'Like what you see? Visit the ' +\n",
              "          '<a target=\"_blank\" href=https://colab.research.google.com/notebooks/data_table.ipynb>data table notebook</a>'\n",
              "          + ' to learn more about interactive tables.';\n",
              "        element.innerHTML = '';\n",
              "        dataTable['output_type'] = 'display_data';\n",
              "        await google.colab.output.renderOutput(dataTable, element);\n",
              "        const docLink = document.createElement('div');\n",
              "        docLink.innerHTML = docLinkHtml;\n",
              "        element.appendChild(docLink);\n",
              "      }\n",
              "    </script>\n",
              "  </div>\n",
              "\n",
              "\n",
              "    <div id=\"df-bf93d411-a61a-43d3-bed8-00185f7003ca\">\n",
              "      <button class=\"colab-df-quickchart\" onclick=\"quickchart('df-bf93d411-a61a-43d3-bed8-00185f7003ca')\"\n",
              "                title=\"Suggest charts\"\n",
              "                style=\"display:none;\">\n",
              "\n",
              "<svg xmlns=\"http://www.w3.org/2000/svg\" height=\"24px\"viewBox=\"0 0 24 24\"\n",
              "     width=\"24px\">\n",
              "    <g>\n",
              "        <path d=\"M19 3H5c-1.1 0-2 .9-2 2v14c0 1.1.9 2 2 2h14c1.1 0 2-.9 2-2V5c0-1.1-.9-2-2-2zM9 17H7v-7h2v7zm4 0h-2V7h2v10zm4 0h-2v-4h2v4z\"/>\n",
              "    </g>\n",
              "</svg>\n",
              "      </button>\n",
              "\n",
              "<style>\n",
              "  .colab-df-quickchart {\n",
              "      --bg-color: #E8F0FE;\n",
              "      --fill-color: #1967D2;\n",
              "      --hover-bg-color: #E2EBFA;\n",
              "      --hover-fill-color: #174EA6;\n",
              "      --disabled-fill-color: #AAA;\n",
              "      --disabled-bg-color: #DDD;\n",
              "  }\n",
              "\n",
              "  [theme=dark] .colab-df-quickchart {\n",
              "      --bg-color: #3B4455;\n",
              "      --fill-color: #D2E3FC;\n",
              "      --hover-bg-color: #434B5C;\n",
              "      --hover-fill-color: #FFFFFF;\n",
              "      --disabled-bg-color: #3B4455;\n",
              "      --disabled-fill-color: #666;\n",
              "  }\n",
              "\n",
              "  .colab-df-quickchart {\n",
              "    background-color: var(--bg-color);\n",
              "    border: none;\n",
              "    border-radius: 50%;\n",
              "    cursor: pointer;\n",
              "    display: none;\n",
              "    fill: var(--fill-color);\n",
              "    height: 32px;\n",
              "    padding: 0;\n",
              "    width: 32px;\n",
              "  }\n",
              "\n",
              "  .colab-df-quickchart:hover {\n",
              "    background-color: var(--hover-bg-color);\n",
              "    box-shadow: 0 1px 2px rgba(60, 64, 67, 0.3), 0 1px 3px 1px rgba(60, 64, 67, 0.15);\n",
              "    fill: var(--button-hover-fill-color);\n",
              "  }\n",
              "\n",
              "  .colab-df-quickchart-complete:disabled,\n",
              "  .colab-df-quickchart-complete:disabled:hover {\n",
              "    background-color: var(--disabled-bg-color);\n",
              "    fill: var(--disabled-fill-color);\n",
              "    box-shadow: none;\n",
              "  }\n",
              "\n",
              "  .colab-df-spinner {\n",
              "    border: 2px solid var(--fill-color);\n",
              "    border-color: transparent;\n",
              "    border-bottom-color: var(--fill-color);\n",
              "    animation:\n",
              "      spin 1s steps(1) infinite;\n",
              "  }\n",
              "\n",
              "  @keyframes spin {\n",
              "    0% {\n",
              "      border-color: transparent;\n",
              "      border-bottom-color: var(--fill-color);\n",
              "      border-left-color: var(--fill-color);\n",
              "    }\n",
              "    20% {\n",
              "      border-color: transparent;\n",
              "      border-left-color: var(--fill-color);\n",
              "      border-top-color: var(--fill-color);\n",
              "    }\n",
              "    30% {\n",
              "      border-color: transparent;\n",
              "      border-left-color: var(--fill-color);\n",
              "      border-top-color: var(--fill-color);\n",
              "      border-right-color: var(--fill-color);\n",
              "    }\n",
              "    40% {\n",
              "      border-color: transparent;\n",
              "      border-right-color: var(--fill-color);\n",
              "      border-top-color: var(--fill-color);\n",
              "    }\n",
              "    60% {\n",
              "      border-color: transparent;\n",
              "      border-right-color: var(--fill-color);\n",
              "    }\n",
              "    80% {\n",
              "      border-color: transparent;\n",
              "      border-right-color: var(--fill-color);\n",
              "      border-bottom-color: var(--fill-color);\n",
              "    }\n",
              "    90% {\n",
              "      border-color: transparent;\n",
              "      border-bottom-color: var(--fill-color);\n",
              "    }\n",
              "  }\n",
              "</style>\n",
              "\n",
              "      <script>\n",
              "        async function quickchart(key) {\n",
              "          const quickchartButtonEl =\n",
              "            document.querySelector('#' + key + ' button');\n",
              "          quickchartButtonEl.disabled = true;  // To prevent multiple clicks.\n",
              "          quickchartButtonEl.classList.add('colab-df-spinner');\n",
              "          try {\n",
              "            const charts = await google.colab.kernel.invokeFunction(\n",
              "                'suggestCharts', [key], {});\n",
              "          } catch (error) {\n",
              "            console.error('Error during call to suggestCharts:', error);\n",
              "          }\n",
              "          quickchartButtonEl.classList.remove('colab-df-spinner');\n",
              "          quickchartButtonEl.classList.add('colab-df-quickchart-complete');\n",
              "        }\n",
              "        (() => {\n",
              "          let quickchartButtonEl =\n",
              "            document.querySelector('#df-bf93d411-a61a-43d3-bed8-00185f7003ca button');\n",
              "          quickchartButtonEl.style.display =\n",
              "            google.colab.kernel.accessAllowed ? 'block' : 'none';\n",
              "        })();\n",
              "      </script>\n",
              "    </div>\n",
              "\n",
              "    </div>\n",
              "  </div>\n"
            ],
            "application/vnd.google.colaboratory.intrinsic+json": {
              "type": "dataframe",
              "variable_name": "toy_dataset",
              "summary": "{\n  \"name\": \"toy_dataset\",\n  \"rows\": 1436,\n  \"fields\": [\n    {\n      \"column\": \"Unnamed: 0\",\n      \"properties\": {\n        \"dtype\": \"number\",\n        \"std\": 414,\n        \"min\": 0,\n        \"max\": 1435,\n        \"num_unique_values\": 1436,\n        \"samples\": [\n          594,\n          754,\n          630\n        ],\n        \"semantic_type\": \"\",\n        \"description\": \"\"\n      }\n    },\n    {\n      \"column\": \"Price\",\n      \"properties\": {\n        \"dtype\": \"number\",\n        \"std\": 3626,\n        \"min\": 4350,\n        \"max\": 32500,\n        \"num_unique_values\": 236,\n        \"samples\": [\n          17795,\n          10350,\n          8995\n        ],\n        \"semantic_type\": \"\",\n        \"description\": \"\"\n      }\n    },\n    {\n      \"column\": \"Age\",\n      \"properties\": {\n        \"dtype\": \"number\",\n        \"std\": 18.589804386002132,\n        \"min\": 1.0,\n        \"max\": 80.0,\n        \"num_unique_values\": 77,\n        \"samples\": [\n          32.0,\n          39.0,\n          29.0\n        ],\n        \"semantic_type\": \"\",\n        \"description\": \"\"\n      }\n    },\n    {\n      \"column\": \"KM\",\n      \"properties\": {\n        \"dtype\": \"number\",\n        \"std\": 37506,\n        \"min\": 1,\n        \"max\": 243000,\n        \"num_unique_values\": 1263,\n        \"samples\": [\n          57829,\n          51000,\n          34882\n        ],\n        \"semantic_type\": \"\",\n        \"description\": \"\"\n      }\n    },\n    {\n      \"column\": \"FuelType\",\n      \"properties\": {\n        \"dtype\": \"category\",\n        \"num_unique_values\": 3,\n        \"samples\": [\n          \"Diesel\",\n          \"Petrol\",\n          \"CNG\"\n        ],\n        \"semantic_type\": \"\",\n        \"description\": \"\"\n      }\n    },\n    {\n      \"column\": \"HP\",\n      \"properties\": {\n        \"dtype\": \"number\",\n        \"std\": 14,\n        \"min\": 69,\n        \"max\": 192,\n        \"num_unique_values\": 12,\n        \"samples\": [\n          107,\n          72,\n          90\n        ],\n        \"semantic_type\": \"\",\n        \"description\": \"\"\n      }\n    },\n    {\n      \"column\": \"MetColor\",\n      \"properties\": {\n        \"dtype\": \"number\",\n        \"std\": 0.4685715921911492,\n        \"min\": 0.0,\n        \"max\": 1.0,\n        \"num_unique_values\": 2,\n        \"samples\": [\n          0.0,\n          1.0\n        ],\n        \"semantic_type\": \"\",\n        \"description\": \"\"\n      }\n    },\n    {\n      \"column\": \"Automatic\",\n      \"properties\": {\n        \"dtype\": \"number\",\n        \"std\": 0,\n        \"min\": 0,\n        \"max\": 1,\n        \"num_unique_values\": 2,\n        \"samples\": [\n          1,\n          0\n        ],\n        \"semantic_type\": \"\",\n        \"description\": \"\"\n      }\n    },\n    {\n      \"column\": \"CC\",\n      \"properties\": {\n        \"dtype\": \"number\",\n        \"std\": 187,\n        \"min\": 1300,\n        \"max\": 2000,\n        \"num_unique_values\": 12,\n        \"samples\": [\n          1975,\n          1587\n        ],\n        \"semantic_type\": \"\",\n        \"description\": \"\"\n      }\n    },\n    {\n      \"column\": \"Doors\",\n      \"properties\": {\n        \"dtype\": \"number\",\n        \"std\": 0,\n        \"min\": 2,\n        \"max\": 5,\n        \"num_unique_values\": 4,\n        \"samples\": [\n          5,\n          2\n        ],\n        \"semantic_type\": \"\",\n        \"description\": \"\"\n      }\n    },\n    {\n      \"column\": \"Weight\",\n      \"properties\": {\n        \"dtype\": \"number\",\n        \"std\": 52,\n        \"min\": 1000,\n        \"max\": 1615,\n        \"num_unique_values\": 59,\n        \"samples\": [\n          1165,\n          1065\n        ],\n        \"semantic_type\": \"\",\n        \"description\": \"\"\n      }\n    }\n  ]\n}"
            }
          },
          "metadata": {},
          "execution_count": 8
        }
      ]
    },
    {
      "cell_type": "code",
      "source": [
        "dataset= pd.read_csv('/content/drive/MyDrive/DataSetEPDA/data.csv')"
      ],
      "metadata": {
        "id": "KP-J3U9CT8UE"
      },
      "execution_count": 9,
      "outputs": []
    },
    {
      "cell_type": "code",
      "source": [
        "dataset.head()"
      ],
      "metadata": {
        "colab": {
          "base_uri": "https://localhost:8080/",
          "height": 206
        },
        "id": "L0RYTregUETs",
        "outputId": "14e068b1-7497-46ec-9d84-76dcc36a090b"
      },
      "execution_count": 10,
      "outputs": [
        {
          "output_type": "execute_result",
          "data": {
            "text/plain": [
              "   YearsExperience   Salary\n",
              "0              1.1  39343.0\n",
              "1              1.3  46205.0\n",
              "2              1.5  37731.0\n",
              "3              2.0  43525.0\n",
              "4              2.2  39891.0"
            ],
            "text/html": [
              "\n",
              "  <div id=\"df-22b5965f-aa09-47c7-bed3-52a6bd48f651\" class=\"colab-df-container\">\n",
              "    <div>\n",
              "<style scoped>\n",
              "    .dataframe tbody tr th:only-of-type {\n",
              "        vertical-align: middle;\n",
              "    }\n",
              "\n",
              "    .dataframe tbody tr th {\n",
              "        vertical-align: top;\n",
              "    }\n",
              "\n",
              "    .dataframe thead th {\n",
              "        text-align: right;\n",
              "    }\n",
              "</style>\n",
              "<table border=\"1\" class=\"dataframe\">\n",
              "  <thead>\n",
              "    <tr style=\"text-align: right;\">\n",
              "      <th></th>\n",
              "      <th>YearsExperience</th>\n",
              "      <th>Salary</th>\n",
              "    </tr>\n",
              "  </thead>\n",
              "  <tbody>\n",
              "    <tr>\n",
              "      <th>0</th>\n",
              "      <td>1.1</td>\n",
              "      <td>39343.0</td>\n",
              "    </tr>\n",
              "    <tr>\n",
              "      <th>1</th>\n",
              "      <td>1.3</td>\n",
              "      <td>46205.0</td>\n",
              "    </tr>\n",
              "    <tr>\n",
              "      <th>2</th>\n",
              "      <td>1.5</td>\n",
              "      <td>37731.0</td>\n",
              "    </tr>\n",
              "    <tr>\n",
              "      <th>3</th>\n",
              "      <td>2.0</td>\n",
              "      <td>43525.0</td>\n",
              "    </tr>\n",
              "    <tr>\n",
              "      <th>4</th>\n",
              "      <td>2.2</td>\n",
              "      <td>39891.0</td>\n",
              "    </tr>\n",
              "  </tbody>\n",
              "</table>\n",
              "</div>\n",
              "    <div class=\"colab-df-buttons\">\n",
              "\n",
              "  <div class=\"colab-df-container\">\n",
              "    <button class=\"colab-df-convert\" onclick=\"convertToInteractive('df-22b5965f-aa09-47c7-bed3-52a6bd48f651')\"\n",
              "            title=\"Convert this dataframe to an interactive table.\"\n",
              "            style=\"display:none;\">\n",
              "\n",
              "  <svg xmlns=\"http://www.w3.org/2000/svg\" height=\"24px\" viewBox=\"0 -960 960 960\">\n",
              "    <path d=\"M120-120v-720h720v720H120Zm60-500h600v-160H180v160Zm220 220h160v-160H400v160Zm0 220h160v-160H400v160ZM180-400h160v-160H180v160Zm440 0h160v-160H620v160ZM180-180h160v-160H180v160Zm440 0h160v-160H620v160Z\"/>\n",
              "  </svg>\n",
              "    </button>\n",
              "\n",
              "  <style>\n",
              "    .colab-df-container {\n",
              "      display:flex;\n",
              "      gap: 12px;\n",
              "    }\n",
              "\n",
              "    .colab-df-convert {\n",
              "      background-color: #E8F0FE;\n",
              "      border: none;\n",
              "      border-radius: 50%;\n",
              "      cursor: pointer;\n",
              "      display: none;\n",
              "      fill: #1967D2;\n",
              "      height: 32px;\n",
              "      padding: 0 0 0 0;\n",
              "      width: 32px;\n",
              "    }\n",
              "\n",
              "    .colab-df-convert:hover {\n",
              "      background-color: #E2EBFA;\n",
              "      box-shadow: 0px 1px 2px rgba(60, 64, 67, 0.3), 0px 1px 3px 1px rgba(60, 64, 67, 0.15);\n",
              "      fill: #174EA6;\n",
              "    }\n",
              "\n",
              "    .colab-df-buttons div {\n",
              "      margin-bottom: 4px;\n",
              "    }\n",
              "\n",
              "    [theme=dark] .colab-df-convert {\n",
              "      background-color: #3B4455;\n",
              "      fill: #D2E3FC;\n",
              "    }\n",
              "\n",
              "    [theme=dark] .colab-df-convert:hover {\n",
              "      background-color: #434B5C;\n",
              "      box-shadow: 0px 1px 3px 1px rgba(0, 0, 0, 0.15);\n",
              "      filter: drop-shadow(0px 1px 2px rgba(0, 0, 0, 0.3));\n",
              "      fill: #FFFFFF;\n",
              "    }\n",
              "  </style>\n",
              "\n",
              "    <script>\n",
              "      const buttonEl =\n",
              "        document.querySelector('#df-22b5965f-aa09-47c7-bed3-52a6bd48f651 button.colab-df-convert');\n",
              "      buttonEl.style.display =\n",
              "        google.colab.kernel.accessAllowed ? 'block' : 'none';\n",
              "\n",
              "      async function convertToInteractive(key) {\n",
              "        const element = document.querySelector('#df-22b5965f-aa09-47c7-bed3-52a6bd48f651');\n",
              "        const dataTable =\n",
              "          await google.colab.kernel.invokeFunction('convertToInteractive',\n",
              "                                                    [key], {});\n",
              "        if (!dataTable) return;\n",
              "\n",
              "        const docLinkHtml = 'Like what you see? Visit the ' +\n",
              "          '<a target=\"_blank\" href=https://colab.research.google.com/notebooks/data_table.ipynb>data table notebook</a>'\n",
              "          + ' to learn more about interactive tables.';\n",
              "        element.innerHTML = '';\n",
              "        dataTable['output_type'] = 'display_data';\n",
              "        await google.colab.output.renderOutput(dataTable, element);\n",
              "        const docLink = document.createElement('div');\n",
              "        docLink.innerHTML = docLinkHtml;\n",
              "        element.appendChild(docLink);\n",
              "      }\n",
              "    </script>\n",
              "  </div>\n",
              "\n",
              "\n",
              "    <div id=\"df-6ebe6557-b925-464d-aa12-6f26d7b687a0\">\n",
              "      <button class=\"colab-df-quickchart\" onclick=\"quickchart('df-6ebe6557-b925-464d-aa12-6f26d7b687a0')\"\n",
              "                title=\"Suggest charts\"\n",
              "                style=\"display:none;\">\n",
              "\n",
              "<svg xmlns=\"http://www.w3.org/2000/svg\" height=\"24px\"viewBox=\"0 0 24 24\"\n",
              "     width=\"24px\">\n",
              "    <g>\n",
              "        <path d=\"M19 3H5c-1.1 0-2 .9-2 2v14c0 1.1.9 2 2 2h14c1.1 0 2-.9 2-2V5c0-1.1-.9-2-2-2zM9 17H7v-7h2v7zm4 0h-2V7h2v10zm4 0h-2v-4h2v4z\"/>\n",
              "    </g>\n",
              "</svg>\n",
              "      </button>\n",
              "\n",
              "<style>\n",
              "  .colab-df-quickchart {\n",
              "      --bg-color: #E8F0FE;\n",
              "      --fill-color: #1967D2;\n",
              "      --hover-bg-color: #E2EBFA;\n",
              "      --hover-fill-color: #174EA6;\n",
              "      --disabled-fill-color: #AAA;\n",
              "      --disabled-bg-color: #DDD;\n",
              "  }\n",
              "\n",
              "  [theme=dark] .colab-df-quickchart {\n",
              "      --bg-color: #3B4455;\n",
              "      --fill-color: #D2E3FC;\n",
              "      --hover-bg-color: #434B5C;\n",
              "      --hover-fill-color: #FFFFFF;\n",
              "      --disabled-bg-color: #3B4455;\n",
              "      --disabled-fill-color: #666;\n",
              "  }\n",
              "\n",
              "  .colab-df-quickchart {\n",
              "    background-color: var(--bg-color);\n",
              "    border: none;\n",
              "    border-radius: 50%;\n",
              "    cursor: pointer;\n",
              "    display: none;\n",
              "    fill: var(--fill-color);\n",
              "    height: 32px;\n",
              "    padding: 0;\n",
              "    width: 32px;\n",
              "  }\n",
              "\n",
              "  .colab-df-quickchart:hover {\n",
              "    background-color: var(--hover-bg-color);\n",
              "    box-shadow: 0 1px 2px rgba(60, 64, 67, 0.3), 0 1px 3px 1px rgba(60, 64, 67, 0.15);\n",
              "    fill: var(--button-hover-fill-color);\n",
              "  }\n",
              "\n",
              "  .colab-df-quickchart-complete:disabled,\n",
              "  .colab-df-quickchart-complete:disabled:hover {\n",
              "    background-color: var(--disabled-bg-color);\n",
              "    fill: var(--disabled-fill-color);\n",
              "    box-shadow: none;\n",
              "  }\n",
              "\n",
              "  .colab-df-spinner {\n",
              "    border: 2px solid var(--fill-color);\n",
              "    border-color: transparent;\n",
              "    border-bottom-color: var(--fill-color);\n",
              "    animation:\n",
              "      spin 1s steps(1) infinite;\n",
              "  }\n",
              "\n",
              "  @keyframes spin {\n",
              "    0% {\n",
              "      border-color: transparent;\n",
              "      border-bottom-color: var(--fill-color);\n",
              "      border-left-color: var(--fill-color);\n",
              "    }\n",
              "    20% {\n",
              "      border-color: transparent;\n",
              "      border-left-color: var(--fill-color);\n",
              "      border-top-color: var(--fill-color);\n",
              "    }\n",
              "    30% {\n",
              "      border-color: transparent;\n",
              "      border-left-color: var(--fill-color);\n",
              "      border-top-color: var(--fill-color);\n",
              "      border-right-color: var(--fill-color);\n",
              "    }\n",
              "    40% {\n",
              "      border-color: transparent;\n",
              "      border-right-color: var(--fill-color);\n",
              "      border-top-color: var(--fill-color);\n",
              "    }\n",
              "    60% {\n",
              "      border-color: transparent;\n",
              "      border-right-color: var(--fill-color);\n",
              "    }\n",
              "    80% {\n",
              "      border-color: transparent;\n",
              "      border-right-color: var(--fill-color);\n",
              "      border-bottom-color: var(--fill-color);\n",
              "    }\n",
              "    90% {\n",
              "      border-color: transparent;\n",
              "      border-bottom-color: var(--fill-color);\n",
              "    }\n",
              "  }\n",
              "</style>\n",
              "\n",
              "      <script>\n",
              "        async function quickchart(key) {\n",
              "          const quickchartButtonEl =\n",
              "            document.querySelector('#' + key + ' button');\n",
              "          quickchartButtonEl.disabled = true;  // To prevent multiple clicks.\n",
              "          quickchartButtonEl.classList.add('colab-df-spinner');\n",
              "          try {\n",
              "            const charts = await google.colab.kernel.invokeFunction(\n",
              "                'suggestCharts', [key], {});\n",
              "          } catch (error) {\n",
              "            console.error('Error during call to suggestCharts:', error);\n",
              "          }\n",
              "          quickchartButtonEl.classList.remove('colab-df-spinner');\n",
              "          quickchartButtonEl.classList.add('colab-df-quickchart-complete');\n",
              "        }\n",
              "        (() => {\n",
              "          let quickchartButtonEl =\n",
              "            document.querySelector('#df-6ebe6557-b925-464d-aa12-6f26d7b687a0 button');\n",
              "          quickchartButtonEl.style.display =\n",
              "            google.colab.kernel.accessAllowed ? 'block' : 'none';\n",
              "        })();\n",
              "      </script>\n",
              "    </div>\n",
              "\n",
              "    </div>\n",
              "  </div>\n"
            ],
            "application/vnd.google.colaboratory.intrinsic+json": {
              "type": "dataframe",
              "variable_name": "dataset",
              "summary": "{\n  \"name\": \"dataset\",\n  \"rows\": 30,\n  \"fields\": [\n    {\n      \"column\": \"YearsExperience\",\n      \"properties\": {\n        \"dtype\": \"number\",\n        \"std\": 2.8378881576627184,\n        \"min\": 1.1,\n        \"max\": 10.5,\n        \"num_unique_values\": 28,\n        \"samples\": [\n          3.9,\n          9.6,\n          3.7\n        ],\n        \"semantic_type\": \"\",\n        \"description\": \"\"\n      }\n    },\n    {\n      \"column\": \"Salary\",\n      \"properties\": {\n        \"dtype\": \"number\",\n        \"std\": 27414.4297845823,\n        \"min\": 37731.0,\n        \"max\": 122391.0,\n        \"num_unique_values\": 30,\n        \"samples\": [\n          112635.0,\n          67938.0,\n          113812.0\n        ],\n        \"semantic_type\": \"\",\n        \"description\": \"\"\n      }\n    }\n  ]\n}"
            }
          },
          "metadata": {},
          "execution_count": 10
        }
      ]
    },
    {
      "cell_type": "code",
      "source": [
        "ho_dataset= pd.read_csv('/content/drive/MyDrive/DataSetEPDA/housing.csv')"
      ],
      "metadata": {
        "id": "VC_EyADGUHV0"
      },
      "execution_count": 11,
      "outputs": []
    },
    {
      "cell_type": "code",
      "source": [
        "ho_dataset.head()"
      ],
      "metadata": {
        "colab": {
          "base_uri": "https://localhost:8080/",
          "height": 255
        },
        "id": "P3i9tDr_UMlF",
        "outputId": "627fcbee-561a-4322-e4cc-d508466d25b3"
      },
      "execution_count": 12,
      "outputs": [
        {
          "output_type": "execute_result",
          "data": {
            "text/plain": [
              "           id             date   price  bedrooms  bathrooms  sqft_living  \\\n",
              "0  7129300520  20141013T000000  221900         3       1.00         1180   \n",
              "1  6414100192  20141209T000000  538000         3       2.25         2570   \n",
              "2  5631500400  20150225T000000  180000         2       1.00          770   \n",
              "3  2487200875  20141209T000000  604000         4       3.00         1960   \n",
              "4  1954400510  20150218T000000  510000         3       2.00         1680   \n",
              "\n",
              "   sqft_lot  floors  waterfront  view  ...  grade  sqft_above  sqft_basement  \\\n",
              "0      5650     1.0           0     0  ...      7        1180              0   \n",
              "1      7242     2.0           0     0  ...      7        2170            400   \n",
              "2     10000     1.0           0     0  ...      6         770              0   \n",
              "3      5000     1.0           0     0  ...      7        1050            910   \n",
              "4      8080     1.0           0     0  ...      8        1680              0   \n",
              "\n",
              "   yr_built  yr_renovated  zipcode      lat     long  sqft_living15  \\\n",
              "0      1955             0    98178  47.5112 -122.257           1340   \n",
              "1      1951          1991    98125  47.7210 -122.319           1690   \n",
              "2      1933             0    98028  47.7379 -122.233           2720   \n",
              "3      1965             0    98136  47.5208 -122.393           1360   \n",
              "4      1987             0    98074  47.6168 -122.045           1800   \n",
              "\n",
              "   sqft_lot15  \n",
              "0        5650  \n",
              "1        7639  \n",
              "2        8062  \n",
              "3        5000  \n",
              "4        7503  \n",
              "\n",
              "[5 rows x 21 columns]"
            ],
            "text/html": [
              "\n",
              "  <div id=\"df-aef6b363-9336-4975-88bc-c844a490caa2\" class=\"colab-df-container\">\n",
              "    <div>\n",
              "<style scoped>\n",
              "    .dataframe tbody tr th:only-of-type {\n",
              "        vertical-align: middle;\n",
              "    }\n",
              "\n",
              "    .dataframe tbody tr th {\n",
              "        vertical-align: top;\n",
              "    }\n",
              "\n",
              "    .dataframe thead th {\n",
              "        text-align: right;\n",
              "    }\n",
              "</style>\n",
              "<table border=\"1\" class=\"dataframe\">\n",
              "  <thead>\n",
              "    <tr style=\"text-align: right;\">\n",
              "      <th></th>\n",
              "      <th>id</th>\n",
              "      <th>date</th>\n",
              "      <th>price</th>\n",
              "      <th>bedrooms</th>\n",
              "      <th>bathrooms</th>\n",
              "      <th>sqft_living</th>\n",
              "      <th>sqft_lot</th>\n",
              "      <th>floors</th>\n",
              "      <th>waterfront</th>\n",
              "      <th>view</th>\n",
              "      <th>...</th>\n",
              "      <th>grade</th>\n",
              "      <th>sqft_above</th>\n",
              "      <th>sqft_basement</th>\n",
              "      <th>yr_built</th>\n",
              "      <th>yr_renovated</th>\n",
              "      <th>zipcode</th>\n",
              "      <th>lat</th>\n",
              "      <th>long</th>\n",
              "      <th>sqft_living15</th>\n",
              "      <th>sqft_lot15</th>\n",
              "    </tr>\n",
              "  </thead>\n",
              "  <tbody>\n",
              "    <tr>\n",
              "      <th>0</th>\n",
              "      <td>7129300520</td>\n",
              "      <td>20141013T000000</td>\n",
              "      <td>221900</td>\n",
              "      <td>3</td>\n",
              "      <td>1.00</td>\n",
              "      <td>1180</td>\n",
              "      <td>5650</td>\n",
              "      <td>1.0</td>\n",
              "      <td>0</td>\n",
              "      <td>0</td>\n",
              "      <td>...</td>\n",
              "      <td>7</td>\n",
              "      <td>1180</td>\n",
              "      <td>0</td>\n",
              "      <td>1955</td>\n",
              "      <td>0</td>\n",
              "      <td>98178</td>\n",
              "      <td>47.5112</td>\n",
              "      <td>-122.257</td>\n",
              "      <td>1340</td>\n",
              "      <td>5650</td>\n",
              "    </tr>\n",
              "    <tr>\n",
              "      <th>1</th>\n",
              "      <td>6414100192</td>\n",
              "      <td>20141209T000000</td>\n",
              "      <td>538000</td>\n",
              "      <td>3</td>\n",
              "      <td>2.25</td>\n",
              "      <td>2570</td>\n",
              "      <td>7242</td>\n",
              "      <td>2.0</td>\n",
              "      <td>0</td>\n",
              "      <td>0</td>\n",
              "      <td>...</td>\n",
              "      <td>7</td>\n",
              "      <td>2170</td>\n",
              "      <td>400</td>\n",
              "      <td>1951</td>\n",
              "      <td>1991</td>\n",
              "      <td>98125</td>\n",
              "      <td>47.7210</td>\n",
              "      <td>-122.319</td>\n",
              "      <td>1690</td>\n",
              "      <td>7639</td>\n",
              "    </tr>\n",
              "    <tr>\n",
              "      <th>2</th>\n",
              "      <td>5631500400</td>\n",
              "      <td>20150225T000000</td>\n",
              "      <td>180000</td>\n",
              "      <td>2</td>\n",
              "      <td>1.00</td>\n",
              "      <td>770</td>\n",
              "      <td>10000</td>\n",
              "      <td>1.0</td>\n",
              "      <td>0</td>\n",
              "      <td>0</td>\n",
              "      <td>...</td>\n",
              "      <td>6</td>\n",
              "      <td>770</td>\n",
              "      <td>0</td>\n",
              "      <td>1933</td>\n",
              "      <td>0</td>\n",
              "      <td>98028</td>\n",
              "      <td>47.7379</td>\n",
              "      <td>-122.233</td>\n",
              "      <td>2720</td>\n",
              "      <td>8062</td>\n",
              "    </tr>\n",
              "    <tr>\n",
              "      <th>3</th>\n",
              "      <td>2487200875</td>\n",
              "      <td>20141209T000000</td>\n",
              "      <td>604000</td>\n",
              "      <td>4</td>\n",
              "      <td>3.00</td>\n",
              "      <td>1960</td>\n",
              "      <td>5000</td>\n",
              "      <td>1.0</td>\n",
              "      <td>0</td>\n",
              "      <td>0</td>\n",
              "      <td>...</td>\n",
              "      <td>7</td>\n",
              "      <td>1050</td>\n",
              "      <td>910</td>\n",
              "      <td>1965</td>\n",
              "      <td>0</td>\n",
              "      <td>98136</td>\n",
              "      <td>47.5208</td>\n",
              "      <td>-122.393</td>\n",
              "      <td>1360</td>\n",
              "      <td>5000</td>\n",
              "    </tr>\n",
              "    <tr>\n",
              "      <th>4</th>\n",
              "      <td>1954400510</td>\n",
              "      <td>20150218T000000</td>\n",
              "      <td>510000</td>\n",
              "      <td>3</td>\n",
              "      <td>2.00</td>\n",
              "      <td>1680</td>\n",
              "      <td>8080</td>\n",
              "      <td>1.0</td>\n",
              "      <td>0</td>\n",
              "      <td>0</td>\n",
              "      <td>...</td>\n",
              "      <td>8</td>\n",
              "      <td>1680</td>\n",
              "      <td>0</td>\n",
              "      <td>1987</td>\n",
              "      <td>0</td>\n",
              "      <td>98074</td>\n",
              "      <td>47.6168</td>\n",
              "      <td>-122.045</td>\n",
              "      <td>1800</td>\n",
              "      <td>7503</td>\n",
              "    </tr>\n",
              "  </tbody>\n",
              "</table>\n",
              "<p>5 rows × 21 columns</p>\n",
              "</div>\n",
              "    <div class=\"colab-df-buttons\">\n",
              "\n",
              "  <div class=\"colab-df-container\">\n",
              "    <button class=\"colab-df-convert\" onclick=\"convertToInteractive('df-aef6b363-9336-4975-88bc-c844a490caa2')\"\n",
              "            title=\"Convert this dataframe to an interactive table.\"\n",
              "            style=\"display:none;\">\n",
              "\n",
              "  <svg xmlns=\"http://www.w3.org/2000/svg\" height=\"24px\" viewBox=\"0 -960 960 960\">\n",
              "    <path d=\"M120-120v-720h720v720H120Zm60-500h600v-160H180v160Zm220 220h160v-160H400v160Zm0 220h160v-160H400v160ZM180-400h160v-160H180v160Zm440 0h160v-160H620v160ZM180-180h160v-160H180v160Zm440 0h160v-160H620v160Z\"/>\n",
              "  </svg>\n",
              "    </button>\n",
              "\n",
              "  <style>\n",
              "    .colab-df-container {\n",
              "      display:flex;\n",
              "      gap: 12px;\n",
              "    }\n",
              "\n",
              "    .colab-df-convert {\n",
              "      background-color: #E8F0FE;\n",
              "      border: none;\n",
              "      border-radius: 50%;\n",
              "      cursor: pointer;\n",
              "      display: none;\n",
              "      fill: #1967D2;\n",
              "      height: 32px;\n",
              "      padding: 0 0 0 0;\n",
              "      width: 32px;\n",
              "    }\n",
              "\n",
              "    .colab-df-convert:hover {\n",
              "      background-color: #E2EBFA;\n",
              "      box-shadow: 0px 1px 2px rgba(60, 64, 67, 0.3), 0px 1px 3px 1px rgba(60, 64, 67, 0.15);\n",
              "      fill: #174EA6;\n",
              "    }\n",
              "\n",
              "    .colab-df-buttons div {\n",
              "      margin-bottom: 4px;\n",
              "    }\n",
              "\n",
              "    [theme=dark] .colab-df-convert {\n",
              "      background-color: #3B4455;\n",
              "      fill: #D2E3FC;\n",
              "    }\n",
              "\n",
              "    [theme=dark] .colab-df-convert:hover {\n",
              "      background-color: #434B5C;\n",
              "      box-shadow: 0px 1px 3px 1px rgba(0, 0, 0, 0.15);\n",
              "      filter: drop-shadow(0px 1px 2px rgba(0, 0, 0, 0.3));\n",
              "      fill: #FFFFFF;\n",
              "    }\n",
              "  </style>\n",
              "\n",
              "    <script>\n",
              "      const buttonEl =\n",
              "        document.querySelector('#df-aef6b363-9336-4975-88bc-c844a490caa2 button.colab-df-convert');\n",
              "      buttonEl.style.display =\n",
              "        google.colab.kernel.accessAllowed ? 'block' : 'none';\n",
              "\n",
              "      async function convertToInteractive(key) {\n",
              "        const element = document.querySelector('#df-aef6b363-9336-4975-88bc-c844a490caa2');\n",
              "        const dataTable =\n",
              "          await google.colab.kernel.invokeFunction('convertToInteractive',\n",
              "                                                    [key], {});\n",
              "        if (!dataTable) return;\n",
              "\n",
              "        const docLinkHtml = 'Like what you see? Visit the ' +\n",
              "          '<a target=\"_blank\" href=https://colab.research.google.com/notebooks/data_table.ipynb>data table notebook</a>'\n",
              "          + ' to learn more about interactive tables.';\n",
              "        element.innerHTML = '';\n",
              "        dataTable['output_type'] = 'display_data';\n",
              "        await google.colab.output.renderOutput(dataTable, element);\n",
              "        const docLink = document.createElement('div');\n",
              "        docLink.innerHTML = docLinkHtml;\n",
              "        element.appendChild(docLink);\n",
              "      }\n",
              "    </script>\n",
              "  </div>\n",
              "\n",
              "\n",
              "    <div id=\"df-a22e3b66-4559-473b-96bf-c275d60af886\">\n",
              "      <button class=\"colab-df-quickchart\" onclick=\"quickchart('df-a22e3b66-4559-473b-96bf-c275d60af886')\"\n",
              "                title=\"Suggest charts\"\n",
              "                style=\"display:none;\">\n",
              "\n",
              "<svg xmlns=\"http://www.w3.org/2000/svg\" height=\"24px\"viewBox=\"0 0 24 24\"\n",
              "     width=\"24px\">\n",
              "    <g>\n",
              "        <path d=\"M19 3H5c-1.1 0-2 .9-2 2v14c0 1.1.9 2 2 2h14c1.1 0 2-.9 2-2V5c0-1.1-.9-2-2-2zM9 17H7v-7h2v7zm4 0h-2V7h2v10zm4 0h-2v-4h2v4z\"/>\n",
              "    </g>\n",
              "</svg>\n",
              "      </button>\n",
              "\n",
              "<style>\n",
              "  .colab-df-quickchart {\n",
              "      --bg-color: #E8F0FE;\n",
              "      --fill-color: #1967D2;\n",
              "      --hover-bg-color: #E2EBFA;\n",
              "      --hover-fill-color: #174EA6;\n",
              "      --disabled-fill-color: #AAA;\n",
              "      --disabled-bg-color: #DDD;\n",
              "  }\n",
              "\n",
              "  [theme=dark] .colab-df-quickchart {\n",
              "      --bg-color: #3B4455;\n",
              "      --fill-color: #D2E3FC;\n",
              "      --hover-bg-color: #434B5C;\n",
              "      --hover-fill-color: #FFFFFF;\n",
              "      --disabled-bg-color: #3B4455;\n",
              "      --disabled-fill-color: #666;\n",
              "  }\n",
              "\n",
              "  .colab-df-quickchart {\n",
              "    background-color: var(--bg-color);\n",
              "    border: none;\n",
              "    border-radius: 50%;\n",
              "    cursor: pointer;\n",
              "    display: none;\n",
              "    fill: var(--fill-color);\n",
              "    height: 32px;\n",
              "    padding: 0;\n",
              "    width: 32px;\n",
              "  }\n",
              "\n",
              "  .colab-df-quickchart:hover {\n",
              "    background-color: var(--hover-bg-color);\n",
              "    box-shadow: 0 1px 2px rgba(60, 64, 67, 0.3), 0 1px 3px 1px rgba(60, 64, 67, 0.15);\n",
              "    fill: var(--button-hover-fill-color);\n",
              "  }\n",
              "\n",
              "  .colab-df-quickchart-complete:disabled,\n",
              "  .colab-df-quickchart-complete:disabled:hover {\n",
              "    background-color: var(--disabled-bg-color);\n",
              "    fill: var(--disabled-fill-color);\n",
              "    box-shadow: none;\n",
              "  }\n",
              "\n",
              "  .colab-df-spinner {\n",
              "    border: 2px solid var(--fill-color);\n",
              "    border-color: transparent;\n",
              "    border-bottom-color: var(--fill-color);\n",
              "    animation:\n",
              "      spin 1s steps(1) infinite;\n",
              "  }\n",
              "\n",
              "  @keyframes spin {\n",
              "    0% {\n",
              "      border-color: transparent;\n",
              "      border-bottom-color: var(--fill-color);\n",
              "      border-left-color: var(--fill-color);\n",
              "    }\n",
              "    20% {\n",
              "      border-color: transparent;\n",
              "      border-left-color: var(--fill-color);\n",
              "      border-top-color: var(--fill-color);\n",
              "    }\n",
              "    30% {\n",
              "      border-color: transparent;\n",
              "      border-left-color: var(--fill-color);\n",
              "      border-top-color: var(--fill-color);\n",
              "      border-right-color: var(--fill-color);\n",
              "    }\n",
              "    40% {\n",
              "      border-color: transparent;\n",
              "      border-right-color: var(--fill-color);\n",
              "      border-top-color: var(--fill-color);\n",
              "    }\n",
              "    60% {\n",
              "      border-color: transparent;\n",
              "      border-right-color: var(--fill-color);\n",
              "    }\n",
              "    80% {\n",
              "      border-color: transparent;\n",
              "      border-right-color: var(--fill-color);\n",
              "      border-bottom-color: var(--fill-color);\n",
              "    }\n",
              "    90% {\n",
              "      border-color: transparent;\n",
              "      border-bottom-color: var(--fill-color);\n",
              "    }\n",
              "  }\n",
              "</style>\n",
              "\n",
              "      <script>\n",
              "        async function quickchart(key) {\n",
              "          const quickchartButtonEl =\n",
              "            document.querySelector('#' + key + ' button');\n",
              "          quickchartButtonEl.disabled = true;  // To prevent multiple clicks.\n",
              "          quickchartButtonEl.classList.add('colab-df-spinner');\n",
              "          try {\n",
              "            const charts = await google.colab.kernel.invokeFunction(\n",
              "                'suggestCharts', [key], {});\n",
              "          } catch (error) {\n",
              "            console.error('Error during call to suggestCharts:', error);\n",
              "          }\n",
              "          quickchartButtonEl.classList.remove('colab-df-spinner');\n",
              "          quickchartButtonEl.classList.add('colab-df-quickchart-complete');\n",
              "        }\n",
              "        (() => {\n",
              "          let quickchartButtonEl =\n",
              "            document.querySelector('#df-a22e3b66-4559-473b-96bf-c275d60af886 button');\n",
              "          quickchartButtonEl.style.display =\n",
              "            google.colab.kernel.accessAllowed ? 'block' : 'none';\n",
              "        })();\n",
              "      </script>\n",
              "    </div>\n",
              "\n",
              "    </div>\n",
              "  </div>\n"
            ],
            "application/vnd.google.colaboratory.intrinsic+json": {
              "type": "dataframe",
              "variable_name": "ho_dataset"
            }
          },
          "metadata": {},
          "execution_count": 12
        }
      ]
    },
    {
      "cell_type": "code",
      "source": [
        "\n",
        "\n",
        "# Create a DataFrame\n",
        "df = pd.DataFrame(dataset)\n",
        "\n",
        "# Apply filtering conditions\n",
        "filtered_df = df[(df['YearsExperience'] > 5) & (df['Salary'] > 60000)]\n",
        "\n",
        "# Count the number of employees\n",
        "num_employees = len(filtered_df)\n",
        "\n",
        "print(f'Number of employees with more than 5 years experience earning more than 60000: {num_employees}')"
      ],
      "metadata": {
        "colab": {
          "base_uri": "https://localhost:8080/"
        },
        "id": "3Exu58m6U8DZ",
        "outputId": "64a855c5-625a-4b16-c5ae-3857e1efff8f"
      },
      "execution_count": 14,
      "outputs": [
        {
          "output_type": "stream",
          "name": "stdout",
          "text": [
            "Number of employees with more than 5 years experience earning more than 60000: 14\n"
          ]
        }
      ]
    },
    {
      "cell_type": "code",
      "source": [
        "\n",
        "\n",
        "# Create a DataFrame\n",
        "df = pd.DataFrame(dataset)\n",
        "\n",
        "# Apply filtering conditions\n",
        "filtered_df = df[(df['Salary'] >= 50000) & (df['Salary'] <= 80000)]\n",
        "\n",
        "# Count the number of employees\n",
        "num_employees = len(filtered_df)\n",
        "\n",
        "print(f'Number of employees earning between 50,000 and 80,000: {num_employees}')"
      ],
      "metadata": {
        "colab": {
          "base_uri": "https://localhost:8080/"
        },
        "id": "7I_zhqrhV87o",
        "outputId": "6636490d-530b-41ba-d866-979d9fb44232"
      },
      "execution_count": 15,
      "outputs": [
        {
          "output_type": "stream",
          "name": "stdout",
          "text": [
            "Number of employees earning between 50,000 and 80,000: 12\n"
          ]
        }
      ]
    },
    {
      "cell_type": "markdown",
      "source": [
        "Let me analyze the image to determine insights from the scatter plot. Give me a moment.\n",
        "![image.png](data:image/png;base64,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)"
      ],
      "metadata": {
        "id": "s6pY6mVZXXI8"
      }
    },
    {
      "cell_type": "markdown",
      "source": [
        "From the scatter plot, you can infer a **positive correlation** between \"YearsExperience\" and \"Salary.\" As the years of experience increase, salaries tend to rise as well. This suggests:\n",
        "\n",
        "- **Direct Relationship**: More experienced individuals generally earn higher salaries.\n",
        "- **Consistent Trend**: If the data points follow a fairly linear pattern, it implies a steady salary increase with experience.\n",
        "- **Potential Outliers**: If there are points that don’t fit the trend (e.g., someone with fewer years of experience earning a high salary or vice versa), they may indicate exceptions due to factors like industry differences, promotions, or specialized skills.\n",
        "\n",
        "Would you like to quantify this relationship using regression analysis or correlation coefficients in Python? I can help with that!"
      ],
      "metadata": {
        "id": "kKc6LKHGXgjY"
      }
    },
    {
      "cell_type": "markdown",
      "source": [
        "The distribution plot of the column “YearsExperience” is shown in the image below, what possible inferences can be drawn from the plot."
      ],
      "metadata": {
        "id": "gnPYn3vdX0uy"
      }
    },
    {
      "cell_type": "markdown",
      "source": [
        "![image.png](data:image/png;base64,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)"
      ],
      "metadata": {
        "id": "qd90Ttr-XlWI"
      }
    },
    {
      "cell_type": "markdown",
      "source": [
        "From the distribution plot of \"YearsExperience,\" here are some key insights:\n",
        "\n",
        "- **Unimodal Distribution**: The plot has a single peak, suggesting that most individuals in the dataset have a similar range of experience.\n",
        "- **Right-Skewed Trend**: The distribution appears slightly skewed to the right, meaning a higher concentration of individuals have fewer years of experience, while fewer individuals have extensive experience.\n",
        "- **Density Drop & Secondary Peak**: There's a noticeable decrease in density around 7.5 years, followed by a second peak near 10 years, indicating that experience levels may cluster around certain career stages.\n",
        "- **Common Experience Range**: Most data points seem to fall between 0 to 10 years, implying that the dataset predominantly consists of early- to mid-career professionals.\n",
        "\n",
        "Would you like to delve deeper into this distribution by calculating summary statistics like mean, median, and standard deviation using Python? I can guide you through it!\n"
      ],
      "metadata": {
        "id": "FynZiFilX2O_"
      }
    },
    {
      "cell_type": "markdown",
      "source": [
        "5.What all inferences can be drawn from the table shown below:\n",
        "\n",
        "*   List item\n",
        "*   List item\n",
        "\n"
      ],
      "metadata": {
        "id": "4a_pDrSMYVYp"
      }
    },
    {
      "cell_type": "markdown",
      "source": [
        "![image.png](data:image/png;base64,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)"
      ],
      "metadata": {
        "id": "dSUCTNNWX6eB"
      }
    },
    {
      "cell_type": "markdown",
      "source": [],
      "metadata": {
        "id": "fE-6-xfOYaxH"
      }
    },
    {
      "cell_type": "code",
      "source": [
        "# Create a DataFrame\n",
        "df = pd.DataFrame(dataset)\n",
        "\n",
        "# Calculate range for each column\n",
        "experience_range = df['YearsExperience'].max() - df['YearsExperience'].min()\n",
        "salary_range = df['Salary'].max() - df['Salary'].min()\n",
        "\n",
        "print(f'Range of YearsExperience: {experience_range}')\n",
        "print(f'Range of Salary: {salary_range}')"
      ],
      "metadata": {
        "colab": {
          "base_uri": "https://localhost:8080/"
        },
        "id": "Tr7r97C5Zqbz",
        "outputId": "9ee42a66-262b-47d0-d1e1-b837c22c2885"
      },
      "execution_count": 16,
      "outputs": [
        {
          "output_type": "stream",
          "name": "stdout",
          "text": [
            "Range of YearsExperience: 9.4\n",
            "Range of Salary: 84660.0\n"
          ]
        }
      ]
    },
    {
      "cell_type": "markdown",
      "source": [
        "6) To split the dataset into training and testing data, if we use the following code. X = data['YearsExperience'] y = data['Salary'] X_train, X_test, y_train, y_test = train_test_split(X, y, test_size=0.2, random_state=0) What does it mean when we write the test size as 0.2?"
      ],
      "metadata": {
        "id": "xGR0WPeaZzJy"
      }
    },
    {
      "cell_type": "code",
      "source": [
        "from sklearn.model_selection import train_test_split\n",
        "\n",
        "# Create a DataFrame\n",
        "df = pd.DataFrame(dataset)\n",
        "\n",
        "# Define features (X) and target variable (y)\n",
        "X = df[['YearsExperience']]  # Independent variable\n",
        "y = df['Salary']  # Dependent variable\n",
        "\n",
        "# Split the dataset (80% training, 20% testing)\n",
        "X_train, X_test, y_train, y_test = train_test_split(X, y, test_size=0.2, random_state=0)\n",
        "\n",
        "# Output the sizes of the training and testing sets\n",
        "print(f'Training data size: {X_train.shape[0]} samples')\n",
        "print(f'Testing data size: {X_test.shape[0]} samples')"
      ],
      "metadata": {
        "colab": {
          "base_uri": "https://localhost:8080/"
        },
        "id": "5NnVn-jNZ0IW",
        "outputId": "81368523-46c1-450b-84af-d5e745a86aa8"
      },
      "execution_count": 18,
      "outputs": [
        {
          "output_type": "stream",
          "name": "stdout",
          "text": [
            "Training data size: 24 samples\n",
            "Testing data size: 6 samples\n"
          ]
        }
      ]
    },
    {
      "cell_type": "markdown",
      "source": [
        "7) In the above example code, we have taken the random state as 0, if we change the random state as 42, what does it mean for our training and testing data?"
      ],
      "metadata": {
        "id": "PwsYMuu6a4WV"
      }
    },
    {
      "cell_type": "code",
      "source": [
        "X_train, X_test, y_train, y_test = train_test_split(X, y, test_size=0.2, random_state=42)\n",
        "# Output the sizes of the training and testing sets\n",
        "print(f'Training data size: {X_train.shape[0]} samples')\n",
        "print(f'Testing data size: {X_test.shape[0]} samples')"
      ],
      "metadata": {
        "colab": {
          "base_uri": "https://localhost:8080/"
        },
        "id": "er9FM6gna5Mp",
        "outputId": "43a8b76c-57db-4670-ecb1-139dc012d7c6"
      },
      "execution_count": 22,
      "outputs": [
        {
          "output_type": "stream",
          "name": "stdout",
          "text": [
            "Training data size: 24 samples\n",
            "Testing data size: 6 samples\n"
          ]
        }
      ]
    },
    {
      "cell_type": "markdown",
      "source": [
        "# Output the sizes of the training and testing sets\n",
        "print(f'Training data size: {X_train.shape[0]} samples')\n",
        "print(f'Testing data size: {X_test.shape[0]} samples')"
      ],
      "metadata": {
        "id": "Id8GlfOLbZnZ"
      }
    },
    {
      "cell_type": "markdown",
      "source": [
        "8) If the r2 score calculated in the above example is 0.98 , change the sample size of the training and testing set in the ratio 60:40, and build a linear regression model again. After plotting the best fit line on the test data, calculate the r2_score for the new model."
      ],
      "metadata": {
        "id": "oylumJ9xb1tY"
      }
    },
    {
      "cell_type": "code",
      "source": [
        "import matplotlib.pyplot as plt\n",
        "from sklearn.model_selection import train_test_split\n",
        "from sklearn.linear_model import LinearRegression\n",
        "from sklearn.metrics import r2_score\n",
        "\n",
        "\n",
        "# Create a DataFrame\n",
        "df = pd.DataFrame(dataset)\n",
        "\n",
        "# Define features (X) and target variable (y)\n",
        "X = df[['YearsExperience']]\n",
        "y = df['Salary']\n",
        "\n",
        "# **Split the dataset into 60% training and 40% testing**\n",
        "X_train, X_test, y_train, y_test = train_test_split(X, y, test_size=0.4, random_state=0)\n",
        "\n",
        "# **Train Linear Regression model**\n",
        "model = LinearRegression()\n",
        "model.fit(X_train, y_train)\n",
        "\n",
        "# **Predict on test data**\n",
        "y_pred = model.predict(X_test)\n",
        "\n",
        "# **Calculate new R² score**\n",
        "new_r2_score = r2_score(y_test, y_pred)\n",
        "print(f'New R² Score: {new_r2_score:.4f}')\n",
        "\n",
        "# **Plot best fit line**\n",
        "plt.scatter(X_test, y_test, color='red', label=\"Actual\")\n",
        "plt.plot(X_test, y_pred, color='blue', linewidth=2, label=\"Predicted\")\n",
        "plt.xlabel(\"Years of Experience\")\n",
        "plt.ylabel(\"Salary\")\n",
        "plt.title(\"Best Fit Line on Test Data (60:40 Split)\")\n",
        "plt.legend()\n",
        "plt.show()"
      ],
      "metadata": {
        "colab": {
          "base_uri": "https://localhost:8080/",
          "height": 489
        },
        "id": "ZLfZGMRUb9vY",
        "outputId": "e0b942b3-03cd-46db-b5c5-bb92a4f08dd5"
      },
      "execution_count": 23,
      "outputs": [
        {
          "output_type": "stream",
          "name": "stdout",
          "text": [
            "New R² Score: 0.9679\n"
          ]
        },
        {
          "output_type": "display_data",
          "data": {
            "text/plain": [
              "<Figure size 640x480 with 1 Axes>"
            ],
            "image/png": "[encoded data removed]"
          },
          "metadata": {}
        }
      ]
    },
    {
      "cell_type": "markdown",
      "source": [
        "9) If while fitting the model with training and testing data, you get the following error ValueError: Expected 2D array, got 1D array instead: What could be the issue with the data, and how can you solve it?"
      ],
      "metadata": {
        "id": "jUAyZ_FGcmq8"
      }
    },
    {
      "cell_type": "markdown",
      "source": [
        "This ValueError occurs when the input data is not in the expected shape—specifically, when a 1D array is passed instead of a 2D array.\n",
        "Possible Issue:\n",
        "- train_test_split() returns 1D arrays by default if X is a single column (X = data['YearsExperience']).\n",
        "- The Linear Regression model expects a 2D array for X (features), but X_train and X_test are 1D arrays.\n",
        "Solution: Reshape X to a 2D format\n",
        "This ensures X_train and X_test are in the correct 2D format, preventing the error.\n",
        "Would you like to explore how reshaping affects different machine learning models? I can guide you through it!\n"
      ],
      "metadata": {
        "id": "sQTodEsMdkfm"
      }
    },
    {
      "cell_type": "code",
      "source": [
        "import numpy as np\n",
        "\n",
        "# Convert X to a 2D array\n",
        "X = dataset[['YearsExperience']]  # Instead of data['YearsExperience']"
      ],
      "metadata": {
        "id": "jmFZhRf0cnbh"
      },
      "execution_count": 24,
      "outputs": []
    },
    {
      "cell_type": "code",
      "source": [
        "X_train = X_train.values.reshape(-1, 1)\n",
        "X_test = X_test.values.reshape(-1, 1)"
      ],
      "metadata": {
        "id": "F3MK9OondMTD"
      },
      "execution_count": 25,
      "outputs": []
    },
    {
      "cell_type": "code",
      "source": [
        "from sklearn.model_selection import train_test_split\n",
        "from sklearn.linear_model import LinearRegression\n",
        "\n",
        "X = dataset[['YearsExperience']]  # Ensure X is 2D\n",
        "y = dataset['Salary']\n",
        "\n",
        "# Split dataset\n",
        "X_train, X_test, y_train, y_test = train_test_split(X, y, test_size=0.2, random_state=0)\n",
        "\n",
        "# Fit the model\n",
        "model = LinearRegression()\n",
        "model.fit(X_train, y_train)\n",
        "\n",
        "# Predict on test data\n",
        "y_pred = model.predict(X_test)"
      ],
      "metadata": {
        "id": "qmeLXzNidQMp"
      },
      "execution_count": 28,
      "outputs": []
    },
    {
      "cell_type": "markdown",
      "source": [
        "10) The exercise after this contains questions that are based on the housing dataset. How many houses have a waterfront?"
      ],
      "metadata": {
        "id": "vihTdAG-d9-k"
      }
    },
    {
      "cell_type": "code",
      "source": [
        "\n",
        "\n",
        "# Assuming 'waterfront' column indicates waterfront properties (e.g., 1 for waterfront, 0 for non-waterfront)\n",
        "waterfront_houses = ho_dataset[ho_dataset['waterfront'] == 1]\n",
        "\n",
        "# Count the number of waterfront houses\n",
        "num_waterfront_houses = len(waterfront_houses)\n",
        "\n",
        "print(f'Number of houses with waterfront: {num_waterfront_houses}')"
      ],
      "metadata": {
        "colab": {
          "base_uri": "https://localhost:8080/"
        },
        "id": "8Bu4caIleDXq",
        "outputId": "61a7f534-a4b1-4e0e-d1d0-d1a6d11e559b"
      },
      "execution_count": 31,
      "outputs": [
        {
          "output_type": "stream",
          "name": "stdout",
          "text": [
            "Number of houses with waterfront: 163\n"
          ]
        }
      ]
    },
    {
      "cell_type": "markdown",
      "source": [
        "11) The exercise after this contains questions that are based on the housing dataset. How many houses have 2 floors?"
      ],
      "metadata": {
        "id": "ZGUVq72Ie2hO"
      }
    },
    {
      "cell_type": "code",
      "source": [
        "\n",
        "\n",
        "# Assuming 'floors' column represents the number of floors in each house\n",
        "two_floor_houses = ho_dataset[ho_dataset['floors'] == 2]\n",
        "\n",
        "# Count the number of houses with 2 floors\n",
        "num_two_floor_houses = len(two_floor_houses)\n",
        "\n",
        "print(f'Number of houses with 2 floors: {num_two_floor_houses}')"
      ],
      "metadata": {
        "colab": {
          "base_uri": "https://localhost:8080/"
        },
        "id": "ez7A7mFFe3Z7",
        "outputId": "c3148adf-efc5-43f5-dcf0-d150c06acec1"
      },
      "execution_count": 32,
      "outputs": [
        {
          "output_type": "stream",
          "name": "stdout",
          "text": [
            "Number of houses with 2 floors: 8241\n"
          ]
        }
      ]
    },
    {
      "cell_type": "markdown",
      "source": [
        "The exercise after this contains questions that are based on the housing dataset. How many houses built before 1960 have a waterfront?"
      ],
      "metadata": {
        "id": "u3iJG4wcfIHq"
      }
    },
    {
      "cell_type": "code",
      "source": [
        "\n",
        "\n",
        "# Filter houses built before 1960 AND have a waterfront (assuming 1 indicates waterfront)\n",
        "waterfront_houses_pre1960 = ho_dataset[(ho_dataset['yr_built'] < 1960) & (ho_dataset['waterfront'] == 1)]\n",
        "\n",
        "# Count the number of matching houses\n",
        "num_houses = len(waterfront_houses_pre1960)\n",
        "\n",
        "print(f'Number of houses built before 1960 with a waterfront: {num_houses}')"
      ],
      "metadata": {
        "colab": {
          "base_uri": "https://localhost:8080/"
        },
        "id": "cKdg_B3ZfI9X",
        "outputId": "46af5707-b765-457f-a59a-4697ceee7260"
      },
      "execution_count": 33,
      "outputs": [
        {
          "output_type": "stream",
          "name": "stdout",
          "text": [
            "Number of houses built before 1960 with a waterfront: 80\n"
          ]
        }
      ]
    },
    {
      "cell_type": "markdown",
      "source": [
        " The exercise after this contains questions that are based on the housing dataset. What is the price of the most expensive house having more than 4 bathrooms"
      ],
      "metadata": {
        "id": "dPKh7jcxfXEC"
      }
    },
    {
      "cell_type": "code",
      "source": [
        "\n",
        "\n",
        "# Filter houses with more than 4 bathrooms\n",
        "houses_with_4plus_bathrooms = ho_dataset[ho_dataset['bathrooms'] > 4]\n",
        "\n",
        "# Find the most expensive house in this subset\n",
        "most_expensive_price = houses_with_4plus_bathrooms['price'].max()\n",
        "\n",
        "print(f'The price of the most expensive house with more than 4 bathrooms: ${most_expensive_price:,.2f}')"
      ],
      "metadata": {
        "colab": {
          "base_uri": "https://localhost:8080/"
        },
        "id": "cYHPBawjfX7X",
        "outputId": "e8dcf8cf-b5c3-45a1-9c2b-2969cd6c1435"
      },
      "execution_count": 34,
      "outputs": [
        {
          "output_type": "stream",
          "name": "stdout",
          "text": [
            "The price of the most expensive house with more than 4 bathrooms: $7,700,000.00\n"
          ]
        }
      ]
    },
    {
      "cell_type": "markdown",
      "source": [
        "14) The exercise after this contains questions that are based on the housing dataset. The image shown below shows the boxplot of the price column from the housing dataset. What inferences can you make from the plot?"
      ],
      "metadata": {
        "id": "k0ivGdPhfsIc"
      }
    },
    {
      "cell_type": "markdown",
      "source": [
        "The box plot in the image provides useful insights into the dataset's distribution:\n",
        "- Interquartile Range (IQR): The main box represents the middle 50% of the data, showing where most values are concentrated.\n",
        "- Median: The line inside the box indicates the median value, providing a measure of central tendency.\n",
        "- Whiskers: The whiskers extend to the minimum and maximum values within 1.5 times the IQR.\n",
        "- Outliers: There are numerous outliers beyond the whiskers, reaching up to approximately 8. These extreme values may indicate anomalies or high variability in the dataset.\n",
        "Possible Inferences\n",
        "- If the box plot is right-skewed, it suggests a larger number of high-value data points.\n",
        "- The presence of multiple outliers indicates that there are extreme values significantly different from the rest of the data.\n",
        "- A wide IQR means the data is more spread out, while a narrow IQR suggests less variability.\n",
        "Would you like to explore statistical methods to handle these outliers, such as trimming or transforming the data in Python?\n"
      ],
      "metadata": {
        "id": "BiYBblEbgFLs"
      }
    },
    {
      "cell_type": "markdown",
      "source": [
        "The exercise after this contains questions that are based on the housing dataset. For instance, if the ‘price’ column consists of outliers, how can you make the data clean and remove the redundancies?"
      ],
      "metadata": {
        "id": "ilzB95pBgx84"
      }
    },
    {
      "cell_type": "markdown",
      "source": [
        "To clean the ‘price’ column and handle outliers in your housing dataset, you can use different techniques depending on the nature of the outliers and how you want to preserve meaningful data. Here are some common approaches using Python’s pandas and numpy:\n",
        "1. Identifying Outliers\n",
        "Before removing or modifying outliers, first detect them using statistical methods such as the Interquartile Range (IQR) or Z-score.\n",
        "Using IQR Method\n"
      ],
      "metadata": {
        "id": "BFS_OYRDgzZA"
      }
    },
    {
      "cell_type": "code",
      "source": [
        "\n",
        "\n",
        "# Compute Q1, Q3, and IQR\n",
        "Q1 = ho_dataset['price'].quantile(0.25)\n",
        "Q3 = ho_dataset['price'].quantile(0.75)\n",
        "IQR = Q3 - Q1\n",
        "\n",
        "# Define lower and upper bounds for outliers\n",
        "lower_bound = Q1 - 1.5 * IQR\n",
        "upper_bound = Q3 + 1.5 * IQR\n",
        "\n",
        "# Identify outliers\n",
        "outliers = ho_dataset[(ho_dataset['price'] < lower_bound) | (ho_dataset['price'] > upper_bound)]\n",
        "print(f\"Number of outliers: {len(outliers)}\")"
      ],
      "metadata": {
        "colab": {
          "base_uri": "https://localhost:8080/"
        },
        "id": "SW3blTpig8gH",
        "outputId": "81741e7e-d864-423f-e389-1bb5e6fcaa0b"
      },
      "execution_count": 35,
      "outputs": [
        {
          "output_type": "stream",
          "name": "stdout",
          "text": [
            "Number of outliers: 1146\n"
          ]
        }
      ]
    },
    {
      "cell_type": "code",
      "source": [
        "df_cleaned = ho_dataset[(ho_dataset['price'] >= lower_bound) & (ho_dataset['price'] <= upper_bound)]"
      ],
      "metadata": {
        "id": "5Ft3U-BGhW1k"
      },
      "execution_count": 36,
      "outputs": []
    },
    {
      "cell_type": "code",
      "source": [
        "median_price = ho_dataset['price'].median()\n",
        "ho_dataset['price'] = ho_dataset['price'].apply(lambda x: median_price if x > upper_bound or x < lower_bound else x)\n",
        "print(f\"Number of outliers after cleaning: {len(outliers)}\")"
      ],
      "metadata": {
        "colab": {
          "base_uri": "https://localhost:8080/"
        },
        "id": "L6giDaimheSq",
        "outputId": "b5672342-2cfc-47c8-bf89-35a2fc6b5193"
      },
      "execution_count": 38,
      "outputs": [
        {
          "output_type": "stream",
          "name": "stdout",
          "text": [
            "Number of outliers after cleaning: 1146\n"
          ]
        }
      ]
    },
    {
      "cell_type": "markdown",
      "source": [
        "16) The exercise after this contains questions that are based on the housing dataset. What are the various parameters that can be used to determine the dependent variables in the housing data to determine the price of the house?"
      ],
      "metadata": {
        "id": "WWmK7beVh677"
      }
    },
    {
      "cell_type": "markdown",
      "source": [
        "To determine the price of a house (dependent variable) in a housing dataset, various independent variables (features) can be used for analysis and modeling. Some of the most impactful parameters include:\n",
        "Key Factors Influencing House Prices\n",
        "- Location (zipcode, latitude, longitude)\n",
        "- Proximity to schools, businesses, and transportation hubs.\n",
        "- Neighborhood desirability and local economic conditions.\n",
        "- Size & Structure (sqft_living, sqft_lot, floors)\n",
        "- Larger living space generally correlates with higher prices.\n",
        "- The total lot size can influence land value.\n",
        "- Age & Condition (yr_built, yr_renovated, condition, grade)\n",
        "- Newer or well-maintained homes tend to be priced higher.\n",
        "- Renovations can significantly boost a house’s market value.\n",
        "- Number of Rooms (bedrooms, bathrooms)\n",
        "- More rooms usually indicate higher value, but excessive bedrooms may not always be beneficial.\n",
        "- Bathroom count can also influence price, with luxury homes having more.\n",
        "- Special Features (waterfront, view, basement, garage_spaces)\n",
        "- Houses with scenic views or located on a waterfront usually command higher prices.\n",
        "- Basement and garage spaces contribute to utility and appeal.\n",
        "- Market & Economic Factors (price_per_sqft, housing_index, interest_rate)\n",
        "- Supply and demand dynamics in the housing market.\n",
        "- Interest rates and inflation impacting buyer affordability.\n",
        "Building a Predictive Model in Python\n",
        "If you want to build a Linear Regression model to predict house prices based on these features, I can help set it up! You can use:\n"
      ],
      "metadata": {
        "id": "oaM8XlZ4iLUw"
      }
    },
    {
      "cell_type": "code",
      "source": [
        "from sklearn.linear_model import LinearRegression\n",
        "from sklearn.model_selection import train_test_split\n",
        "\n",
        "# Selecting relevant features\n",
        "X = ho_dataset[['sqft_living', 'bathrooms', 'floors', 'zipcode', 'yr_built']]\n",
        "y = ho_dataset['price']\n",
        "\n",
        "# Splitting dataset\n",
        "X_train, X_test, y_train, y_test = train_test_split(X, y, test_size=0.2, random_state=0)\n",
        "\n",
        "# Training model\n",
        "model = LinearRegression()\n",
        "model.fit(X_train, y_train)\n",
        "\n",
        "# Predicting house prices\n",
        "y_pred = model.predict(X_test)"
      ],
      "metadata": {
        "id": "Ob_Aoth0h7_t"
      },
      "execution_count": 40,
      "outputs": []
    },
    {
      "cell_type": "code",
      "source": [
        "ho_dataset.info()"
      ],
      "metadata": {
        "colab": {
          "base_uri": "https://localhost:8080/"
        },
        "id": "aUXs3dWdiqCd",
        "outputId": "f535edee-02f6-4271-905f-f75b85abfe24"
      },
      "execution_count": 42,
      "outputs": [
        {
          "output_type": "stream",
          "name": "stdout",
          "text": [
            "<class 'pandas.core.frame.DataFrame'>\n",
            "RangeIndex: 21613 entries, 0 to 21612\n",
            "Data columns (total 21 columns):\n",
            " #   Column         Non-Null Count  Dtype  \n",
            "---  ------         --------------  -----  \n",
            " 0   id             21613 non-null  int64  \n",
            " 1   date           21613 non-null  object \n",
            " 2   price          21613 non-null  float64\n",
            " 3   bedrooms       21613 non-null  int64  \n",
            " 4   bathrooms      21613 non-null  float64\n",
            " 5   sqft_living    21613 non-null  int64  \n",
            " 6   sqft_lot       21613 non-null  int64  \n",
            " 7   floors         21613 non-null  float64\n",
            " 8   waterfront     21613 non-null  int64  \n",
            " 9   view           21613 non-null  int64  \n",
            " 10  condition      21613 non-null  int64  \n",
            " 11  grade          21613 non-null  int64  \n",
            " 12  sqft_above     21613 non-null  int64  \n",
            " 13  sqft_basement  21613 non-null  int64  \n",
            " 14  yr_built       21613 non-null  int64  \n",
            " 15  yr_renovated   21613 non-null  int64  \n",
            " 16  zipcode        21613 non-null  int64  \n",
            " 17  lat            21613 non-null  float64\n",
            " 18  long           21613 non-null  float64\n",
            " 19  sqft_living15  21613 non-null  int64  \n",
            " 20  sqft_lot15     21613 non-null  int64  \n",
            "dtypes: float64(5), int64(15), object(1)\n",
            "memory usage: 3.5+ MB\n"
          ]
        }
      ]
    },
    {
      "cell_type": "code",
      "source": [
        "from sklearn.model_selection import train_test_split\n",
        "from sklearn.linear_model import LinearRegression\n",
        "from sklearn.metrics import mean_absolute_error, r2_score\n",
        "\n",
        "# Select improved feature set\n",
        "X = ho_dataset[['sqft_living', 'bathrooms', 'floors', 'bedrooms', 'yr_built', 'yr_renovated']]\n",
        "y = ho_dataset['price']\n",
        "\n",
        "# Split data\n",
        "X_train, X_test, y_train, y_test = train_test_split(X, y, test_size=0.2, random_state=0)\n",
        "\n",
        "# Train Linear Regression model\n",
        "model = LinearRegression()\n",
        "model.fit(X_train, y_train)\n",
        "\n",
        "# Predict on test data\n",
        "y_pred = model.predict(X_test)\n",
        "\n",
        "# Evaluate Model\n",
        "r2 = r2_score(y_test, y_pred)\n",
        "mae = mean_absolute_error(y_test, y_pred)\n",
        "\n",
        "print(f'Model Performance:')\n",
        "print(f'R² Score: {r2:.4f}')\n",
        "print(f'Mean Absolute Error: {mae:,.2f}')"
      ],
      "metadata": {
        "colab": {
          "base_uri": "https://localhost:8080/"
        },
        "id": "TscZeECYiMji",
        "outputId": "bdf55aff-5d7f-40d9-b7c5-f95e312d1457"
      },
      "execution_count": 43,
      "outputs": [
        {
          "output_type": "stream",
          "name": "stdout",
          "text": [
            "Model Performance:\n",
            "R² Score: 0.3002\n",
            "Mean Absolute Error: 137,216.52\n"
          ]
        }
      ]
    },
    {
      "cell_type": "markdown",
      "source": [
        "17) The exercise after this contains questions that are based on the housing dataset. If we get the r2 score as 0.38, what inferences can we make about the model and its efficiency?"
      ],
      "metadata": {
        "id": "eTbuIhzXjj5J"
      }
    },
    {
      "cell_type": "markdown",
      "source": [
        "An R² score of 0.38 indicates that the model explains only 38% of the variance in house prices based on the given features. This suggests that the model is not very effective in making accurate predictions. Here’s what this means:\n",
        "Possible Inferences:\n",
        "- Low Predictive Power\n",
        "- Since R² is close to 0, it means the model does not fit the data well and struggles to capture price variations based on the independent variables.\n",
        "- A better model should ideally have R² closer to 1, indicating a strong relationship between the features and house prices.\n",
        "- Missing Influential Features\n",
        "- The model might be missing key variables that significantly impact house prices, such as:\n",
        "- Location (latitude, longitude, zipcode)\n",
        "- House condition (grade, view, renovation)\n",
        "- Local market trends (housing index, interest rate)\n",
        "- Adding more relevant features could improve predictive accuracy.\n",
        "- Non-Linear Relationships\n",
        "- If the price doesn’t change linearly with features like sqft_living or bathrooms, a linear regression model might not be suitable.\n",
        "- Trying polynomial regression or non-linear models like decision trees or random forests might provide better predictions.\n",
        "- Data Quality Issues\n",
        "- If there are outliers, missing values, or incorrect data, they could be affecting the model's performance.\n",
        "- Cleaning the data (removing extreme outliers) and normalizing numerical variables could help.\n",
        "How to Improve the Model:\n",
        "✅ Feature Engineering → Introduce new variables (e.g., price per square foot, age of the house).\n",
        "✅ Try Advanced Models → Use Random Forest, Gradient Boosting, or Neural Networks for better predictions.\n",
        "✅ Evaluate Data Quality → Check for missing values, skewed distributions, and outliers.\n",
        "✅ Use Polynomial or Interaction Features → Capture non-linear relationships between variables.\n",
        "Would you like to test other model types and compare their performance? I can guide you through that!\n"
      ],
      "metadata": {
        "id": "GDd2e9uyj2uN"
      }
    },
    {
      "cell_type": "markdown",
      "source": [
        "18)\n",
        "What will be the appropriate metrics for performance evaluation of Linear Regression model?"
      ],
      "metadata": {
        "id": "u5hBmmSIkTgI"
      }
    },
    {
      "cell_type": "markdown",
      "source": [
        "Evaluating a Linear Regression model involves using various metrics to assess its accuracy and effectiveness. Here are the most appropriate ones:\n",
        "1. R² Score (Coefficient of Determination)\n",
        "- Measures how well the independent variables explain the variance in the dependent variable.\n",
        "- Ranges from 0 to 1 → Higher values (closer to 1) indicate a better fit.\n",
        "from sklearn.metrics import r2_score\n",
        "r2 = r2_score(y_test, y_pred)\n",
        "print(f'R² Score: {r2:.4f}')\n",
        "\n",
        "\n",
        "2. Mean Absolute Error (MAE)\n",
        "- Measures the average absolute difference between actual and predicted values.\n",
        "- Lower values indicate better performance.\n",
        "from sklearn.metrics import mean_absolute_error\n",
        "mae = mean_absolute_error(y_test, y_pred)\n",
        "print(f'MAE: {mae:,.2f}')\n",
        "\n",
        "\n",
        "3. Mean Squared Error (MSE)\n",
        "- Penalizes larger errors more than MAE by squaring differences.\n",
        "- Lower values mean better accuracy, but units are squared.\n",
        "from sklearn.metrics import mean_squared_error\n",
        "mse = mean_squared_error(y_test, y_pred)\n",
        "print(f'MSE: {mse:,.2f}')\n",
        "\n",
        "\n",
        "4. Root Mean Squared Error (RMSE)\n",
        "- Same as MSE, but takes the square root to bring it back to the original scale of prediction.\n",
        "- Smaller values mean better predictions.\n",
        "rmse = mse ** 0.5\n",
        "print(f'RMSE: {rmse:,.2f}')\n",
        "\n",
        "\n",
        "5. Residual Analysis\n",
        "- Residuals (errors) should be randomly distributed without patterns.\n",
        "- Plot residuals to check if the model meets assumptions of Linear Regression.\n",
        "import matplotlib.pyplot as plt\n",
        "\n",
        "residuals = y_test - y_pred\n",
        "plt.scatter(y_test, residuals)\n",
        "plt.axhline(y=0, color='r', linestyle='--')\n",
        "plt.xlabel(\"Actual Values\")\n",
        "plt.ylabel(\"Residuals\")\n",
        "plt.title(\"Residual Plot\")\n",
        "plt.show()\n",
        "\n",
        "\n",
        "How to Improve Performance?\n",
        "- Feature Engineering: Add relevant predictors like price_per_sqft, house condition, etc.\n",
        "- Check for Outliers: Remove or transform extreme data points.\n",
        "- Try Polynomial Regression or Regularization: If the model underfits, adjust complexity.\n",
        "Would you like to explore regression assumptions or compare models for better accuracy? I can guide you through that too!\n"
      ],
      "metadata": {
        "id": "Y5BRIFMKkeBy"
      }
    },
    {
      "cell_type": "code",
      "source": [
        "from sklearn.metrics import r2_score\n",
        "r2 = r2_score(y_test, y_pred)\n",
        "print(f'R² Score: {r2:.4f}')"
      ],
      "metadata": {
        "colab": {
          "base_uri": "https://localhost:8080/"
        },
        "id": "sl-7CZmKjkyB",
        "outputId": "900abcd8-f052-46f8-90c2-1fc6d16419f8"
      },
      "execution_count": 44,
      "outputs": [
        {
          "output_type": "stream",
          "name": "stdout",
          "text": [
            "R² Score: 0.3002\n"
          ]
        }
      ]
    },
    {
      "cell_type": "code",
      "source": [
        "from sklearn.metrics import mean_absolute_error\n",
        "mae = mean_absolute_error(y_test, y_pred)\n",
        "print(f'MAE: {mae:,.2f}')"
      ],
      "metadata": {
        "colab": {
          "base_uri": "https://localhost:8080/"
        },
        "id": "MzoolXZ1k3dz",
        "outputId": "92f669f8-e3fa-4ba2-e13c-9787471802a9"
      },
      "execution_count": 45,
      "outputs": [
        {
          "output_type": "stream",
          "name": "stdout",
          "text": [
            "MAE: 137,216.52\n"
          ]
        }
      ]
    },
    {
      "cell_type": "code",
      "source": [
        "from sklearn.metrics import mean_squared_error\n",
        "mse = mean_squared_error(y_test, y_pred)\n",
        "print(f'MSE: {mse:,.2f}')"
      ],
      "metadata": {
        "colab": {
          "base_uri": "https://localhost:8080/"
        },
        "id": "UAkVYKInk7d1",
        "outputId": "1bf047b6-5b47-47c1-b158-afd3854624bf"
      },
      "execution_count": 46,
      "outputs": [
        {
          "output_type": "stream",
          "name": "stdout",
          "text": [
            "MSE: 29,716,879,225.06\n"
          ]
        }
      ]
    },
    {
      "cell_type": "code",
      "source": [
        "rmse = mse ** 0.5\n",
        "print(f'RMSE: {rmse:,.2f}')"
      ],
      "metadata": {
        "colab": {
          "base_uri": "https://localhost:8080/"
        },
        "id": "M2fr66nPlA5H",
        "outputId": "481a801b-2ead-4456-a1fd-0964d0533a97"
      },
      "execution_count": 47,
      "outputs": [
        {
          "output_type": "stream",
          "name": "stdout",
          "text": [
            "RMSE: 172,385.84\n"
          ]
        }
      ]
    },
    {
      "cell_type": "code",
      "source": [
        "import matplotlib.pyplot as plt\n",
        "\n",
        "residuals = y_test - y_pred\n",
        "plt.scatter(y_test, residuals)\n",
        "plt.axhline(y=0, color='r', linestyle='--')\n",
        "plt.xlabel(\"Actual Values\")\n",
        "plt.ylabel(\"Residuals\")\n",
        "plt.title(\"Residual Plot\")\n",
        "plt.show()"
      ],
      "metadata": {
        "colab": {
          "base_uri": "https://localhost:8080/",
          "height": 472
        },
        "id": "EzN6wtRBlCVK",
        "outputId": "c1583673-575b-40da-fc5a-c01eb4f776f7"
      },
      "execution_count": 48,
      "outputs": [
        {
          "output_type": "display_data",
          "data": {
            "text/plain": [
              "<Figure size 640x480 with 1 Axes>"
            ],
            "image/png": "[encoded data removed]"
          },
          "metadata": {}
        }
      ]
    },
    {
      "cell_type": "markdown",
      "source": [
        "19) The exercise after this contains questions that are based on the housing dataset. If the Variance Inflation Factor value for a feature is considerably higher than the other features, what can we say about that column/feature?"
      ],
      "metadata": {
        "id": "UNEb5o6cljs4"
      }
    },
    {
      "cell_type": "markdown",
      "source": [
        "A high Variance Inflation Factor (VIF) for a feature in the housing dataset suggests that the feature is highly collinear with other independent variables. Here’s what it means:\n",
        "Implications of a High VIF:\n",
        "- Multicollinearity Issue\n",
        "- The feature is strongly correlated with one or more other features.\n",
        "- This redundancy can distort regression coefficients and make interpretation difficult.\n",
        "- Instability in Regression Model\n",
        "- High collinearity can lead to inflated standard errors for coefficients, reducing the reliability of estimates.\n",
        "- Small changes in data may cause large fluctuations in coefficient values.\n",
        "- Potentially Unnecessary Feature\n",
        "- If a feature has a very high VIF (e.g., >10), it may not add unique predictive value and could be removed or combined with other features.\n",
        "How to Handle High VIF?\n",
        "✅ Drop the feature: If it doesn’t add unique information, removing it can improve model stability.\n",
        "✅ Feature Engineering: Combine correlated features (e.g., sqft_living and sqft_above).\n",
        "✅ Principal Component Analysis (PCA): Reduce dimensionality while preserving essential variance.\n",
        "✅ Use Regularization (Ridge/Lasso Regression): Helps mitigate multicollinearity effects.\n",
        "Would you like to check VIF values for your dataset and analyze which features might be problematic? I can help set it up in Python!\n"
      ],
      "metadata": {
        "id": "7aIQLLPWlxOE"
      }
    },
    {
      "cell_type": "code",
      "source": [],
      "metadata": {
        "id": "1U-t3dIKlzE6"
      },
      "execution_count": null,
      "outputs": []
    },
    {
      "cell_type": "code",
      "source": [
        "\n",
        "# Get unique values and count in the 'clarity' feature\n",
        "unique_clarity_values = di_dataset['clarity'].unique()\n",
        "num_unique_clarity = len(unique_clarity_values)\n",
        "\n",
        "print(f'Unique values in clarity: {unique_clarity_values}')\n",
        "print(f'Number of unique values in clarity: {num_unique_clarity}')"
      ],
      "metadata": {
        "colab": {
          "base_uri": "https://localhost:8080/"
        },
        "id": "cY0GTkffmK8p",
        "outputId": "03c4acf5-3d76-4731-af64-b3f477774fb3"
      },
      "execution_count": 49,
      "outputs": [
        {
          "output_type": "stream",
          "name": "stdout",
          "text": [
            "Unique values in clarity: ['SI2' 'SI1' 'VS1' 'VS2' 'VVS2' 'VVS1' 'I1' 'IF']\n",
            "Number of unique values in clarity: 8\n"
          ]
        }
      ]
    },
    {
      "cell_type": "markdown",
      "source": [
        "Use the diamond.csv of size : 53940 x 10 for the questions mentioned below Which category in the feature cut has more records?"
      ],
      "metadata": {
        "id": "TnlfcEB6mZ1U"
      }
    },
    {
      "cell_type": "code",
      "source": [
        "\n",
        "\n",
        "# Count occurrences of each category in 'cut'\n",
        "cut_counts = di_dataset['cut'].value_counts()\n",
        "\n",
        "# Count occurrences of each category in 'cut'\n",
        "cut_counts = di_dataset['cut'].value_counts()\n",
        "\n",
        "# Identify the category with the most records\n",
        "most_common_cut = cut_counts.idxmax()\n",
        "num_records = cut_counts.max()\n",
        "\n",
        "print(f'The category with the most records in \\'cut\\' is: {most_common_cut} ({num_records} records)')"
      ],
      "metadata": {
        "colab": {
          "base_uri": "https://localhost:8080/"
        },
        "id": "Qw_CSPBKmen_",
        "outputId": "32010215-d5e0-4fb6-ca84-06f3e7924507"
      },
      "execution_count": 52,
      "outputs": [
        {
          "output_type": "stream",
          "name": "stdout",
          "text": [
            "The category with the most records in 'cut' is: Ideal (21551 records)\n"
          ]
        }
      ]
    },
    {
      "cell_type": "markdown",
      "source": [],
      "metadata": {
        "id": "TdrpMEo-m9Yp"
      }
    },
    {
      "cell_type": "code",
      "source": [
        "\n",
        "\n",
        "\n",
        "# Group by 'color' and sum the prices\n",
        "color_price_sum = di_dataset.groupby('color')['price'].sum()\n",
        "\n",
        "# Find the color with the highest total price\n",
        "highest_price_color = color_price_sum.idxmax()\n",
        "highest_price_value = color_price_sum.max()\n",
        "\n",
        "print(f'The diamond color with the highest total price is: {highest_price_color}')\n",
        "print(f'Total price for this color: ${highest_price_value:,.2f}')"
      ],
      "metadata": {
        "colab": {
          "base_uri": "https://localhost:8080/"
        },
        "id": "UunQsAZQm93H",
        "outputId": "2d6fd2e8-638e-4f88-c6b2-d98ebc3cb071"
      },
      "execution_count": 54,
      "outputs": [
        {
          "output_type": "stream",
          "name": "stdout",
          "text": [
            "The diamond color with the highest total price is: G\n",
            "Total price for this color: $45,158,240.00\n"
          ]
        }
      ]
    },
    {
      "cell_type": "markdown",
      "source": [],
      "metadata": {
        "id": "G4mHmqWUnYas"
      }
    },
    {
      "cell_type": "code",
      "source": [
        "\n",
        "\n",
        "# Group by 'color' and 'clarity' and calculate mean price\n",
        "color_clarity_price = di_dataset.groupby(['color', 'clarity'])['price'].mean()\n",
        "\n",
        "# Sort in descending order to find the highest mean price combinations\n",
        "highest_mean_price = color_clarity_price.sort_values(ascending=False)\n",
        "\n",
        "# Display the top combinations\n",
        "print(highest_mean_price.head())"
      ],
      "metadata": {
        "colab": {
          "base_uri": "https://localhost:8080/"
        },
        "id": "4oQdnmJynYvv",
        "outputId": "c6868e4c-e47f-4ab9-eed6-289398b9edc3"
      },
      "execution_count": 55,
      "outputs": [
        {
          "output_type": "stream",
          "name": "stdout",
          "text": [
            "color  clarity\n",
            "D      IF         8307.369863\n",
            "I      SI2        7002.649123\n",
            "J      SI2        6520.958246\n",
            "H      SI2        6099.895074\n",
            "I      VS2        5690.505560\n",
            "Name: price, dtype: float64\n"
          ]
        }
      ]
    },
    {
      "cell_type": "markdown",
      "source": [],
      "metadata": {
        "id": "KKsfKROXnyAi"
      }
    },
    {
      "cell_type": "code",
      "source": [
        "\n",
        "\n",
        "# Filter records where all three features x, y, and z are 0\n",
        "zero_records = di_dataset[(di_dataset['x'] == 0) & (di_dataset['y'] == 0) & (di_dataset['z'] == 0)]\n",
        "\n",
        "# Count the number of such records\n",
        "num_zero_records = len(zero_records)\n",
        "print(f'Number of records where x, y, and z are all 0: {num_zero_records}')"
      ],
      "metadata": {
        "colab": {
          "base_uri": "https://localhost:8080/"
        },
        "id": "KdX1UMY0nyw6",
        "outputId": "3d3e6448-d4fa-4959-f9ad-049ce656d78f"
      },
      "execution_count": 60,
      "outputs": [
        {
          "output_type": "stream",
          "name": "stdout",
          "text": [
            "Number of records where x, y, and z are all 0: 7\n"
          ]
        }
      ]
    },
    {
      "cell_type": "markdown",
      "source": [
        "Use the ToyotaCorollaX.csv of size : 1436 x 11 for the questions mentioned below The feature Fuel Type has 100 null values. Choose the right option to fill the null values?"
      ],
      "metadata": {
        "id": "6q2xcxMIoKrF"
      }
    },
    {
      "cell_type": "code",
      "source": [
        "\n",
        "\n",
        "# Filter records where all three features x, y, and z are 0\n",
        "zero_records = toy_dataset[(toy_dataset['x'] == 0) & (toy_dataset['y'] == 0) & (toy_dataset['z'] == 0)]\n",
        "\n",
        "# Count the number of such records\n",
        "num_zero_records = len(zero_records)\n",
        "\n",
        "print(f'Number of records where x, y, and z are all 0: {num_zero_records}')\n",
        "toy_dataset['Fuel Type'].fillna(toy_dataset['Fuel Type'].mode()[0], inplace=True)\n",
        "toy_dataset['Fuel Type'] = toy_dataset.groupby(['Horsepower', 'Engine Size'])['Fuel Type'].transform(lambda x: x.fillna(x.mode()[0]))\n",
        "toy_dataset['Fuel Type'].fillna(method='ffill', inplace=True)  # Forward fill\n",
        "toy_dataset['Fuel Type'].fillna(method='bfill', inplace=True)  # Backward fill\n",
        "toy_dataset['Fuel Type'].fillna('Unknown', inplace=True)"
      ],
      "metadata": {
        "colab": {
          "base_uri": "https://localhost:8080/",
          "height": 547
        },
        "id": "XMxw7QUgoOBN",
        "outputId": "19468a49-46ec-470d-a97c-f5d8197b5cdf"
      },
      "execution_count": 63,
      "outputs": [
        {
          "output_type": "error",
          "ename": "KeyError",
          "evalue": "'x'",
          "traceback": [
            "\u001b[0;31m---------------------------------------------------------------------------\u001b[0m",
            "\u001b[0;31mKeyError\u001b[0m                                  Traceback (most recent call last)",
            "\u001b[0;32m/usr/local/lib/python3.11/dist-packages/pandas/core/indexes/base.py\u001b[0m in \u001b[0;36mget_loc\u001b[0;34m(self, key)\u001b[0m\n\u001b[1;32m   3804\u001b[0m         \u001b[0;32mtry\u001b[0m\u001b[0;34m:\u001b[0m\u001b[0;34m\u001b[0m\u001b[0;34m\u001b[0m\u001b[0m\n\u001b[0;32m-> 3805\u001b[0;31m             \u001b[0;32mreturn\u001b[0m \u001b[0mself\u001b[0m\u001b[0;34m.\u001b[0m\u001b[0m_engine\u001b[0m\u001b[0;34m.\u001b[0m\u001b[0mget_loc\u001b[0m\u001b[0;34m(\u001b[0m\u001b[0mcasted_key\u001b[0m\u001b[0;34m)\u001b[0m\u001b[0;34m\u001b[0m\u001b[0;34m\u001b[0m\u001b[0m\n\u001b[0m\u001b[1;32m   3806\u001b[0m         \u001b[0;32mexcept\u001b[0m \u001b[0mKeyError\u001b[0m \u001b[0;32mas\u001b[0m \u001b[0merr\u001b[0m\u001b[0;34m:\u001b[0m\u001b[0;34m\u001b[0m\u001b[0;34m\u001b[0m\u001b[0m\n",
            "\u001b[0;32mindex.pyx\u001b[0m in \u001b[0;36mpandas._libs.index.IndexEngine.get_loc\u001b[0;34m()\u001b[0m\n",
            "\u001b[0;32mindex.pyx\u001b[0m in \u001b[0;36mpandas._libs.index.IndexEngine.get_loc\u001b[0;34m()\u001b[0m\n",
            "\u001b[0;32mpandas/_libs/hashtable_class_helper.pxi\u001b[0m in \u001b[0;36mpandas._libs.hashtable.PyObjectHashTable.get_item\u001b[0;34m()\u001b[0m\n",
            "\u001b[0;32mpandas/_libs/hashtable_class_helper.pxi\u001b[0m in \u001b[0;36mpandas._libs.hashtable.PyObjectHashTable.get_item\u001b[0;34m()\u001b[0m\n",
            "\u001b[0;31mKeyError\u001b[0m: 'x'",
            "\nThe above exception was the direct cause of the following exception:\n",
            "\u001b[0;31mKeyError\u001b[0m                                  Traceback (most recent call last)",
            "\u001b[0;32m<ipython-input-63-fb5790520e7d>\u001b[0m in \u001b[0;36m<cell line: 0>\u001b[0;34m()\u001b[0m\n\u001b[1;32m      1\u001b[0m \u001b[0;31m# Filter records where all three features x, y, and z are 0\u001b[0m\u001b[0;34m\u001b[0m\u001b[0;34m\u001b[0m\u001b[0m\n\u001b[0;32m----> 2\u001b[0;31m \u001b[0mzero_records\u001b[0m \u001b[0;34m=\u001b[0m \u001b[0mtoy_dataset\u001b[0m\u001b[0;34m[\u001b[0m\u001b[0;34m(\u001b[0m\u001b[0mtoy_dataset\u001b[0m\u001b[0;34m[\u001b[0m\u001b[0;34m'x'\u001b[0m\u001b[0;34m]\u001b[0m \u001b[0;34m==\u001b[0m \u001b[0;36m0\u001b[0m\u001b[0;34m)\u001b[0m \u001b[0;34m&\u001b[0m \u001b[0;34m(\u001b[0m\u001b[0mtoy_dataset\u001b[0m\u001b[0;34m[\u001b[0m\u001b[0;34m'y'\u001b[0m\u001b[0;34m]\u001b[0m \u001b[0;34m==\u001b[0m \u001b[0;36m0\u001b[0m\u001b[0;34m)\u001b[0m \u001b[0;34m&\u001b[0m \u001b[0;34m(\u001b[0m\u001b[0mtoy_dataset\u001b[0m\u001b[0;34m[\u001b[0m\u001b[0;34m'z'\u001b[0m\u001b[0;34m]\u001b[0m \u001b[0;34m==\u001b[0m \u001b[0;36m0\u001b[0m\u001b[0;34m)\u001b[0m\u001b[0;34m]\u001b[0m\u001b[0;34m\u001b[0m\u001b[0;34m\u001b[0m\u001b[0m\n\u001b[0m\u001b[1;32m      3\u001b[0m \u001b[0;34m\u001b[0m\u001b[0m\n\u001b[1;32m      4\u001b[0m \u001b[0;31m# Count the number of such records\u001b[0m\u001b[0;34m\u001b[0m\u001b[0;34m\u001b[0m\u001b[0m\n\u001b[1;32m      5\u001b[0m \u001b[0mnum_zero_records\u001b[0m \u001b[0;34m=\u001b[0m \u001b[0mlen\u001b[0m\u001b[0;34m(\u001b[0m\u001b[0mzero_records\u001b[0m\u001b[0;34m)\u001b[0m\u001b[0;34m\u001b[0m\u001b[0;34m\u001b[0m\u001b[0m\n",
            "\u001b[0;32m/usr/local/lib/python3.11/dist-packages/pandas/core/frame.py\u001b[0m in \u001b[0;36m__getitem__\u001b[0;34m(self, key)\u001b[0m\n\u001b[1;32m   4100\u001b[0m             \u001b[0;32mif\u001b[0m \u001b[0mself\u001b[0m\u001b[0;34m.\u001b[0m\u001b[0mcolumns\u001b[0m\u001b[0;34m.\u001b[0m\u001b[0mnlevels\u001b[0m \u001b[0;34m>\u001b[0m \u001b[0;36m1\u001b[0m\u001b[0;34m:\u001b[0m\u001b[0;34m\u001b[0m\u001b[0;34m\u001b[0m\u001b[0m\n\u001b[1;32m   4101\u001b[0m                 \u001b[0;32mreturn\u001b[0m \u001b[0mself\u001b[0m\u001b[0;34m.\u001b[0m\u001b[0m_getitem_multilevel\u001b[0m\u001b[0;34m(\u001b[0m\u001b[0mkey\u001b[0m\u001b[0;34m)\u001b[0m\u001b[0;34m\u001b[0m\u001b[0;34m\u001b[0m\u001b[0m\n\u001b[0;32m-> 4102\u001b[0;31m             \u001b[0mindexer\u001b[0m \u001b[0;34m=\u001b[0m \u001b[0mself\u001b[0m\u001b[0;34m.\u001b[0m\u001b[0mcolumns\u001b[0m\u001b[0;34m.\u001b[0m\u001b[0mget_loc\u001b[0m\u001b[0;34m(\u001b[0m\u001b[0mkey\u001b[0m\u001b[0;34m)\u001b[0m\u001b[0;34m\u001b[0m\u001b[0;34m\u001b[0m\u001b[0m\n\u001b[0m\u001b[1;32m   4103\u001b[0m             \u001b[0;32mif\u001b[0m \u001b[0mis_integer\u001b[0m\u001b[0;34m(\u001b[0m\u001b[0mindexer\u001b[0m\u001b[0;34m)\u001b[0m\u001b[0;34m:\u001b[0m\u001b[0;34m\u001b[0m\u001b[0;34m\u001b[0m\u001b[0m\n\u001b[1;32m   4104\u001b[0m                 \u001b[0mindexer\u001b[0m \u001b[0;34m=\u001b[0m \u001b[0;34m[\u001b[0m\u001b[0mindexer\u001b[0m\u001b[0;34m]\u001b[0m\u001b[0;34m\u001b[0m\u001b[0;34m\u001b[0m\u001b[0m\n",
            "\u001b[0;32m/usr/local/lib/python3.11/dist-packages/pandas/core/indexes/base.py\u001b[0m in \u001b[0;36mget_loc\u001b[0;34m(self, key)\u001b[0m\n\u001b[1;32m   3810\u001b[0m             ):\n\u001b[1;32m   3811\u001b[0m                 \u001b[0;32mraise\u001b[0m \u001b[0mInvalidIndexError\u001b[0m\u001b[0;34m(\u001b[0m\u001b[0mkey\u001b[0m\u001b[0;34m)\u001b[0m\u001b[0;34m\u001b[0m\u001b[0;34m\u001b[0m\u001b[0m\n\u001b[0;32m-> 3812\u001b[0;31m             \u001b[0;32mraise\u001b[0m \u001b[0mKeyError\u001b[0m\u001b[0;34m(\u001b[0m\u001b[0mkey\u001b[0m\u001b[0;34m)\u001b[0m \u001b[0;32mfrom\u001b[0m \u001b[0merr\u001b[0m\u001b[0;34m\u001b[0m\u001b[0;34m\u001b[0m\u001b[0m\n\u001b[0m\u001b[1;32m   3813\u001b[0m         \u001b[0;32mexcept\u001b[0m \u001b[0mTypeError\u001b[0m\u001b[0;34m:\u001b[0m\u001b[0;34m\u001b[0m\u001b[0;34m\u001b[0m\u001b[0m\n\u001b[1;32m   3814\u001b[0m             \u001b[0;31m# If we have a listlike key, _check_indexing_error will raise\u001b[0m\u001b[0;34m\u001b[0m\u001b[0;34m\u001b[0m\u001b[0m\n",
            "\u001b[0;31mKeyError\u001b[0m: 'x'"
          ]
        }
      ]
    },
    {
      "cell_type": "code",
      "source": [
        "toy_dataset.info()"
      ],
      "metadata": {
        "colab": {
          "base_uri": "https://localhost:8080/"
        },
        "id": "wfGlr2CZpSlT",
        "outputId": "75998829-12a2-464b-85bb-d8d8738fce75"
      },
      "execution_count": 65,
      "outputs": [
        {
          "output_type": "stream",
          "name": "stdout",
          "text": [
            "<class 'pandas.core.frame.DataFrame'>\n",
            "RangeIndex: 1436 entries, 0 to 1435\n",
            "Data columns (total 11 columns):\n",
            " #   Column      Non-Null Count  Dtype  \n",
            "---  ------      --------------  -----  \n",
            " 0   Unnamed: 0  1436 non-null   int64  \n",
            " 1   Price       1436 non-null   int64  \n",
            " 2   Age         1336 non-null   float64\n",
            " 3   KM          1436 non-null   int64  \n",
            " 4   FuelType    1336 non-null   object \n",
            " 5   HP          1436 non-null   int64  \n",
            " 6   MetColor    1286 non-null   float64\n",
            " 7   Automatic   1436 non-null   int64  \n",
            " 8   CC          1436 non-null   int64  \n",
            " 9   Doors       1436 non-null   int64  \n",
            " 10  Weight      1436 non-null   int64  \n",
            "dtypes: float64(2), int64(8), object(1)\n",
            "memory usage: 123.5+ KB\n"
          ]
        }
      ]
    },
    {
      "cell_type": "code",
      "source": [
        "\n",
        "\n",
        "# Apply One-Hot Encoding\n",
        "df_encoded = pd.get_dummies(toy_dataset, columns=['FuelType'], drop_first=True)\n",
        "\n",
        "print(df_encoded.head())"
      ],
      "metadata": {
        "colab": {
          "base_uri": "https://localhost:8080/"
        },
        "id": "pubRBr7epEye",
        "outputId": "76819925-9475-4921-9fe1-f883c767d018"
      },
      "execution_count": 66,
      "outputs": [
        {
          "output_type": "stream",
          "name": "stdout",
          "text": [
            "   Unnamed: 0  Price   Age     KM  HP  MetColor  Automatic    CC  Doors  \\\n",
            "0           0  13500  23.0  46986  90       1.0          0  2000      3   \n",
            "1           1  13750  23.0  72937  90       1.0          0  2000      3   \n",
            "2           2  13950  24.0  41711  90       NaN          0  2000      3   \n",
            "3           3  14950  26.0  48000  90       0.0          0  2000      3   \n",
            "4           4  13750  30.0  38500  90       0.0          0  2000      3   \n",
            "\n",
            "   Weight  FuelType_Diesel  FuelType_Petrol  \n",
            "0    1165             True            False  \n",
            "1    1165             True            False  \n",
            "2    1165             True            False  \n",
            "3    1165             True            False  \n",
            "4    1170             True            False  \n"
          ]
        }
      ]
    },
    {
      "cell_type": "code",
      "source": [
        "from sklearn.preprocessing import LabelEncoder\n",
        "\n",
        "label_encoder = LabelEncoder()\n",
        "toy_dataset['FuelType'] = label_encoder.fit_transform(df['FuelType'])\n",
        "\n",
        "print(toy_dataset[['FuelType']].head())"
      ],
      "metadata": {
        "colab": {
          "base_uri": "https://localhost:8080/"
        },
        "id": "ObUrEN7bpk-i",
        "outputId": "2ddb1a0f-7d0e-45ad-de54-9123ce0c8e5a"
      },
      "execution_count": 68,
      "outputs": [
        {
          "output_type": "stream",
          "name": "stdout",
          "text": [
            "   FuelType\n",
            "0         1\n",
            "1         1\n",
            "2         1\n",
            "3         1\n",
            "4         1\n"
          ]
        }
      ]
    },
    {
      "cell_type": "code",
      "source": [
        "toy_dataset['FuelType'] = df['FuelType'].map({'Diesel': 0, 'Petrol': 1, 'Hybrid': 2})\n",
        "print(toy_dataset[['FuelType']].head())"
      ],
      "metadata": {
        "colab": {
          "base_uri": "https://localhost:8080/"
        },
        "id": "Dkm-nrlApxlQ",
        "outputId": "18119245-c37c-4e80-91d0-c6a27b5c5eab"
      },
      "execution_count": 70,
      "outputs": [
        {
          "output_type": "stream",
          "name": "stdout",
          "text": [
            "   FuelType\n",
            "0       0.0\n",
            "1       0.0\n",
            "2       0.0\n",
            "3       0.0\n",
            "4       0.0\n"
          ]
        }
      ]
    },
    {
      "cell_type": "markdown",
      "source": [
        "Use the ToyotaCorollaX.csv of size : 1436 x 11 for the questions mentioned below Consider the coefficients for the features KM, HP, Doors are -0.0369, 89.3144, 1012.8434 respectively, choose the right absolute error for the below given data? KM HP Doors Price 6000 90 5 24990"
      ],
      "metadata": {
        "id": "6YnTw6lRqNes"
      }
    },
    {
      "cell_type": "markdown",
      "source": [
        "To calculate the absolute error, follow these steps:\n",
        "Formula for Predicted Price\n",
        "Using the given coefficients: [ \\text{Predicted Price} = (\\text{KM} \\times -0.0369) + (\\text{HP} \\times 89.3144) + (\\text{Doors} \\times 1012.8434) ]\n",
        "Substituting the provided values: [ \\text{Predicted Price} = (6000 \\times -0.0369) + (90 \\times 89.3144) + (5 \\times 1012.8434) ]\n",
        "Step-by-step Calculation\n",
        "- ( 6000 \\times -0.0369 = -221.4 )\n",
        "- ( 90 \\times 89.3144 = 8038.3 )\n",
        "- ( 5 \\times 1012.8434 = 5064.2 )\n",
        "[ \\text{Predicted Price} = -221.4 + 8038.3 + 5064.2 = 14881.1 ]\n",
        "Absolute Error Calculation\n",
        "[ \\text{Absolute Error} = |\\text{Actual Price} - \\text{Predicted Price}| ]\n",
        "[ = |24990 - 14881.1| = 10108.9 ]\n",
        "Final Answer:\n",
        "The absolute error is 10,108.9.\n",
        "Would you like me to analyze other predictive models to improve accuracy? I can explore alternative regression methods!\n"
      ],
      "metadata": {
        "id": "IFEEKW_MqOQd"
      }
    },
    {
      "cell_type": "markdown",
      "source": [],
      "metadata": {
        "id": "5MD2WjNnqU3H"
      }
    }
  ]
}