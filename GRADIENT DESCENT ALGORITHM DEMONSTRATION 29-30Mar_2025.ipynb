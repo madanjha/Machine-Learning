{
 "cells": [
  {
   "cell_type": "code",
   "execution_count": 1,
   "id": "f8228c0d",
   "metadata": {},
   "outputs": [
    {
     "name": "stderr",
     "output_type": "stream",
     "text": [
      "C:\\Users\\think\\anaconda3\\lib\\site-packages\\scipy\\__init__.py:138: UserWarning: A NumPy version >=1.16.5 and <1.23.0 is required for this version of SciPy (detected version 1.24.4)\n",
      "  warnings.warn(f\"A NumPy version >={np_minversion} and <{np_maxversion} is required for this version of \"\n"
     ]
    }
   ],
   "source": [
    "import numpy as np\n",
    "import pandas as pd\n",
    "import os\n",
    "import seaborn as sns\n",
    "import matplotlib.pyplot as plt"
   ]
  },
  {
   "cell_type": "code",
   "execution_count": 2,
   "id": "9dd569b9",
   "metadata": {},
   "outputs": [
    {
     "data": {
      "text/plain": [
       "'C:\\\\Users\\\\think\\\\OneDrive - Thinking Mojo\\\\TSLC\\\\Intellipaat\\\\Session Master\\\\05. AI and DL IITR-15Mar2025(M)'"
      ]
     },
     "execution_count": 2,
     "metadata": {},
     "output_type": "execute_result"
    }
   ],
   "source": [
    "### To see the current working directory\n",
    "os.getcwd()"
   ]
  },
  {
   "cell_type": "markdown",
   "id": "3d7dfac0",
   "metadata": {},
   "source": [
    "`os`: to use operating system related functions"
   ]
  },
  {
   "cell_type": "markdown",
   "id": "8db75969",
   "metadata": {},
   "source": [
    "- To know the `current working directory`: `os.getcwd()`\n",
    "\n",
    "- To change the `change directory`: `os.chdir(path)`"
   ]
  },
  {
   "cell_type": "code",
   "execution_count": 3,
   "id": "382589f0",
   "metadata": {},
   "outputs": [],
   "source": [
    "# -------------------------------\n",
    "# 1. Data Generation and Setup\n",
    "# -------------------------------"
   ]
  },
  {
   "cell_type": "code",
   "execution_count": 4,
   "id": "2ad02aca",
   "metadata": {},
   "outputs": [],
   "source": [
    "def generate_data(n_samples = 100, noise=0.1, seed=42):\n",
    "    \"\"\"\n",
    "    Generate dummy linear data: y = 4 + 3*X + noise.\n",
    "    \"\"\"\n",
    "    np.random.seed(seed)\n",
    "    X = 2 * np.random.rand(n_samples, 1) #generates random numbers in a given shape\n",
    "    y = 4 + 3*X + noise * np.random.randn(n_samples, 1)\n",
    "    return X, y"
   ]
  },
  {
   "cell_type": "code",
   "execution_count": 5,
   "id": "a82c142e",
   "metadata": {},
   "outputs": [],
   "source": [
    "## Generated data\n",
    "X, y = generate_data(n_samples=100, noise=0.7)"
   ]
  },
  {
   "cell_type": "code",
   "execution_count": 6,
   "id": "060f1f62",
   "metadata": {},
   "outputs": [
    {
     "data": {
      "text/plain": [
       "2"
      ]
     },
     "execution_count": 6,
     "metadata": {},
     "output_type": "execute_result"
    }
   ],
   "source": [
    "X.ndim"
   ]
  },
  {
   "cell_type": "code",
   "execution_count": 7,
   "id": "d9157db4",
   "metadata": {},
   "outputs": [
    {
     "data": {
      "text/plain": [
       "(100, 1)"
      ]
     },
     "execution_count": 7,
     "metadata": {},
     "output_type": "execute_result"
    }
   ],
   "source": [
    "X.shape"
   ]
  },
  {
   "cell_type": "code",
   "execution_count": 8,
   "id": "4045dccb",
   "metadata": {},
   "outputs": [
    {
     "data": {
      "image/png": "[encoded data removed]",
      "text/plain": [
       "<Figure size 576x288 with 1 Axes>"
      ]
     },
     "metadata": {
      "needs_background": "light"
     },
     "output_type": "display_data"
    }
   ],
   "source": [
    "### let us plot the data distribution - WITHOUT NOISE\n",
    "plt.figure(figsize = (8,4))\n",
    "plt.scatter(X, y, color = 'blue', label='Generated Data with Noise')\n",
    "plt.show()"
   ]
  },
  {
   "cell_type": "code",
   "execution_count": 9,
   "id": "ee95d9bb",
   "metadata": {},
   "outputs": [],
   "source": [
    "def generate_data_test(n_samples = 100, noise=0.1, seed=42):\n",
    "    \"\"\"\n",
    "    Generate dummy linear data: y = 4 + 3*X + noise.\n",
    "    \"\"\"\n",
    "    np.random.seed(seed)\n",
    "    X = 2 * np.random.rand(n_samples, 1) #generates random numbers in a given shape\n",
    "    y = 4 + 3*X \n",
    "    return X, y"
   ]
  },
  {
   "cell_type": "code",
   "execution_count": 10,
   "id": "4c030fea",
   "metadata": {},
   "outputs": [],
   "source": [
    "## Generated data\n",
    "X_test, y_test = generate_data_test(n_samples=100, noise=0.2)"
   ]
  },
  {
   "cell_type": "code",
   "execution_count": 11,
   "id": "26b5e8fc",
   "metadata": {},
   "outputs": [
    {
     "data": {
      "image/png": "[encoded data removed]",
      "text/plain": [
       "<Figure size 576x288 with 1 Axes>"
      ]
     },
     "metadata": {
      "needs_background": "light"
     },
     "output_type": "display_data"
    }
   ],
   "source": [
    "### let us plot the data distribution - WITHOUT NOISE\n",
    "plt.figure(figsize = (8,4))\n",
    "plt.scatter(X_test, y_test, color = 'red', label='Generated Data without Noise')\n",
    "plt.legend()\n",
    "plt.show()"
   ]
  },
  {
   "cell_type": "code",
   "execution_count": 12,
   "id": "9a1e2e3b",
   "metadata": {},
   "outputs": [],
   "source": [
    "# Number of rows in data\n",
    "m = len(y)\n",
    "\n",
    "### Let us add the bias term\n",
    "X_b = np.c_[np.ones((m,1)), X]  # adding a bias term which is fixed value 1 to the existing X"
   ]
  },
  {
   "cell_type": "code",
   "execution_count": 13,
   "id": "9582c231",
   "metadata": {},
   "outputs": [
    {
     "data": {
      "text/plain": [
       "array([[1.        , 0.74908024],\n",
       "       [1.        , 1.90142861],\n",
       "       [1.        , 1.46398788],\n",
       "       [1.        , 1.19731697],\n",
       "       [1.        , 0.31203728],\n",
       "       [1.        , 0.31198904],\n",
       "       [1.        , 0.11616722],\n",
       "       [1.        , 1.73235229],\n",
       "       [1.        , 1.20223002],\n",
       "       [1.        , 1.41614516],\n",
       "       [1.        , 0.04116899],\n",
       "       [1.        , 1.9398197 ],\n",
       "       [1.        , 1.66488528],\n",
       "       [1.        , 0.42467822],\n",
       "       [1.        , 0.36364993],\n",
       "       [1.        , 0.36680902],\n",
       "       [1.        , 0.60848449],\n",
       "       [1.        , 1.04951286],\n",
       "       [1.        , 0.86389004],\n",
       "       [1.        , 0.58245828],\n",
       "       [1.        , 1.22370579],\n",
       "       [1.        , 0.27898772],\n",
       "       [1.        , 0.5842893 ],\n",
       "       [1.        , 0.73272369],\n",
       "       [1.        , 0.91213997],\n",
       "       [1.        , 1.57035192],\n",
       "       [1.        , 0.39934756],\n",
       "       [1.        , 1.02846888],\n",
       "       [1.        , 1.18482914],\n",
       "       [1.        , 0.09290083],\n",
       "       [1.        , 1.2150897 ],\n",
       "       [1.        , 0.34104825],\n",
       "       [1.        , 0.13010319],\n",
       "       [1.        , 1.89777107],\n",
       "       [1.        , 1.93126407],\n",
       "       [1.        , 1.6167947 ],\n",
       "       [1.        , 0.60922754],\n",
       "       [1.        , 0.19534423],\n",
       "       [1.        , 1.36846605],\n",
       "       [1.        , 0.88030499],\n",
       "       [1.        , 0.24407647],\n",
       "       [1.        , 0.99035382],\n",
       "       [1.        , 0.06877704],\n",
       "       [1.        , 1.8186408 ],\n",
       "       [1.        , 0.51755996],\n",
       "       [1.        , 1.32504457],\n",
       "       [1.        , 0.62342215],\n",
       "       [1.        , 1.04013604],\n",
       "       [1.        , 1.09342056],\n",
       "       [1.        , 0.36970891],\n",
       "       [1.        , 1.93916926],\n",
       "       [1.        , 1.55026565],\n",
       "       [1.        , 1.87899788],\n",
       "       [1.        , 1.7896547 ],\n",
       "       [1.        , 1.19579996],\n",
       "       [1.        , 1.84374847],\n",
       "       [1.        , 0.176985  ],\n",
       "       [1.        , 0.39196572],\n",
       "       [1.        , 0.09045458],\n",
       "       [1.        , 0.65066066],\n",
       "       [1.        , 0.77735458],\n",
       "       [1.        , 0.54269806],\n",
       "       [1.        , 1.65747502],\n",
       "       [1.        , 0.71350665],\n",
       "       [1.        , 0.56186902],\n",
       "       [1.        , 1.08539217],\n",
       "       [1.        , 0.28184845],\n",
       "       [1.        , 1.60439396],\n",
       "       [1.        , 0.14910129],\n",
       "       [1.        , 1.97377387],\n",
       "       [1.        , 1.54448954],\n",
       "       [1.        , 0.39743136],\n",
       "       [1.        , 0.01104423],\n",
       "       [1.        , 1.63092286],\n",
       "       [1.        , 1.41371469],\n",
       "       [1.        , 1.45801434],\n",
       "       [1.        , 1.54254069],\n",
       "       [1.        , 0.1480893 ],\n",
       "       [1.        , 0.71693146],\n",
       "       [1.        , 0.23173812],\n",
       "       [1.        , 1.72620685],\n",
       "       [1.        , 1.24659625],\n",
       "       [1.        , 0.66179605],\n",
       "       [1.        , 0.1271167 ],\n",
       "       [1.        , 0.62196464],\n",
       "       [1.        , 0.65036664],\n",
       "       [1.        , 1.45921236],\n",
       "       [1.        , 1.27511494],\n",
       "       [1.        , 1.77442549],\n",
       "       [1.        , 0.94442985],\n",
       "       [1.        , 0.23918849],\n",
       "       [1.        , 1.42648957],\n",
       "       [1.        , 1.5215701 ],\n",
       "       [1.        , 1.1225544 ],\n",
       "       [1.        , 1.54193436],\n",
       "       [1.        , 0.98759119],\n",
       "       [1.        , 1.04546566],\n",
       "       [1.        , 0.85508204],\n",
       "       [1.        , 0.05083825],\n",
       "       [1.        , 0.21578285]])"
      ]
     },
     "execution_count": 13,
     "metadata": {},
     "output_type": "execute_result"
    }
   ],
   "source": [
    "X_b"
   ]
  },
  {
   "attachments": {
    "image.png": {
     "image/png": "[encoded data removed]"
    }
   },
   "cell_type": "markdown",
   "id": "2092179b",
   "metadata": {},
   "source": [
    "![image.png](attachment:image.png)"
   ]
  },
  {
   "cell_type": "code",
   "execution_count": 14,
   "id": "8f00af8e",
   "metadata": {},
   "outputs": [],
   "source": [
    "### Define the cost function\n",
    "def compute_cost(X,y, theta):\n",
    "    \"\"\"\n",
    "    Compute the Mean Squared Error Cost Function\n",
    "    \"\"\"\n",
    "    m = len(y)\n",
    "    return np.sum((X.dot(theta) - y) ** 2)/(2*m) # in denominator there is an extra 2"
   ]
  },
  {
   "cell_type": "markdown",
   "id": "de9bb95a",
   "metadata": {},
   "source": [
    "### BATCH GRADIENT DESCENT FUNCTION"
   ]
  },
  {
   "cell_type": "code",
   "execution_count": 15,
   "id": "dcbec6ce",
   "metadata": {},
   "outputs": [],
   "source": [
    "def bgd(X,y,theta, learning_rate = 0.1, epochs = 1000):\n",
    "    \n",
    "    \"\"\"\n",
    "    Vanilla Gradient Descent using the entire dataset\n",
    "    Returns the final theta and a history of the cost function\n",
    "    X = Array of X with added bias\n",
    "    y = Vector of y\n",
    "    theta: vector of weight parameter randomly assigned\n",
    "    learning_rate: default to 0.1\n",
    "    epochs: number of times model will run through the entire training dataset\n",
    "    \n",
    "    \"\"\"\n",
    "    m = len(y)\n",
    "    cost_history = np.zeros(epochs) # zero-array to store the cost after each update\n",
    "    theta_history = np.zeros((epochs, theta.shape[0])) #zero-array to store the parameter (weights & biases) values\n",
    "    \n",
    "    \n",
    "    for epoch in range(epochs):\n",
    "        \n",
    "        gradients = (X.T.dot(X.dot(theta) - y))/m\n",
    "        theta = theta - learning_rate * gradients\n",
    "        cost = compute_cost(X,y, theta)\n",
    "        \n",
    "        #Update the empty arrays for theta and cost_history\n",
    "        cost_history[epoch] = cost #uni-dimension\n",
    "        theta_history[epoch, :]=theta.T # 2 dimensions\n",
    "        \n",
    "    return theta, cost_history, theta_history"
   ]
  },
  {
   "cell_type": "markdown",
   "id": "0889912a",
   "metadata": {},
   "source": [
    "### Running the algorithm\n"
   ]
  },
  {
   "cell_type": "code",
   "execution_count": 16,
   "id": "a55839fd",
   "metadata": {},
   "outputs": [
    {
     "name": "stdout",
     "output_type": "stream",
     "text": [
      "[[1.76405235]\n",
      " [0.40015721]]\n"
     ]
    }
   ],
   "source": [
    "### Initialize the parameters \n",
    "np.random.seed(0)\n",
    "### Initialize the theta\n",
    "theta = np.random.randn(2,1)\n",
    "print(theta)"
   ]
  },
  {
   "cell_type": "code",
   "execution_count": 17,
   "id": "b0f41292",
   "metadata": {},
   "outputs": [],
   "source": [
    "theta_bgd, cost_history_bgd, theta_history_bgd = bgd(X_b, y, theta,  learning_rate = 0.1, epochs=30)"
   ]
  },
  {
   "cell_type": "code",
   "execution_count": 18,
   "id": "80b8ea05",
   "metadata": {},
   "outputs": [
    {
     "data": {
      "text/plain": [
       "array([7.75001556, 4.95373459, 3.19306184, 2.08444818, 1.38639656,\n",
       "       0.94685122, 0.6700721 , 0.49577758, 0.38601205, 0.31687719,\n",
       "       0.2733257 , 0.24588318, 0.22858419, 0.21767263, 0.21078349,\n",
       "       0.20642765, 0.20366748, 0.2019126 , 0.20079125, 0.20006936,\n",
       "       0.19959952, 0.19928888, 0.19907899, 0.19893301, 0.19882774,\n",
       "       0.19874855, 0.19868622, 0.19863492, 0.19859097, 0.19855204])"
      ]
     },
     "execution_count": 18,
     "metadata": {},
     "output_type": "execute_result"
    }
   ],
   "source": [
    "cost_history_bgd"
   ]
  },
  {
   "cell_type": "code",
   "execution_count": 19,
   "id": "9d457c4f",
   "metadata": {},
   "outputs": [
    {
     "data": {
      "text/plain": [
       "array([[2.23205069, 0.92571924],\n",
       "       [2.60382737, 1.3423793 ],\n",
       "       [2.89924527, 1.67263224],\n",
       "       [3.13406567, 1.93432758],\n",
       "       [3.32079521, 2.14162876],\n",
       "       [3.46935799, 2.30577432],\n",
       "       [3.58762888, 2.4356819 ],\n",
       "       [3.68185666, 2.53842754],\n",
       "       [3.75699987, 2.61962596],\n",
       "       [3.81699317, 2.6837323 ],\n",
       "       [3.86495882, 2.73428165],\n",
       "       [3.90337444, 2.77407896],\n",
       "       [3.93420612, 2.80534988],\n",
       "       [3.95901403, 2.82986037],\n",
       "       [3.97903628, 2.84901161],\n",
       "       [3.99525539, 2.86391535],\n",
       "       [4.0084511 , 2.87545369],\n",
       "       [4.01924222, 2.88432647],\n",
       "       [4.02811987, 2.89108894],\n",
       "       [4.03547383, 2.8961816 ],\n",
       "       [4.04161351, 2.89995391],\n",
       "       [4.04678448, 2.90268308],\n",
       "       [4.05118172, 2.90458902],\n",
       "       [4.05496   , 2.90584612],\n",
       "       [4.05824224, 2.90659271],\n",
       "       [4.06112606, 2.90693847],\n",
       "       [4.06368897, 2.90697035],\n",
       "       [4.0659926 , 2.90675728],\n",
       "       [4.0680859 , 2.9063539 ],\n",
       "       [4.0700078 , 2.90580348]])"
      ]
     },
     "execution_count": 19,
     "metadata": {},
     "output_type": "execute_result"
    }
   ],
   "source": [
    "theta_history_bgd"
   ]
  },
  {
   "cell_type": "code",
   "execution_count": 20,
   "id": "70b610e1",
   "metadata": {},
   "outputs": [
    {
     "name": "stdout",
     "output_type": "stream",
     "text": [
      "BGD Theta 0: 4.070, \n",
      "BGD Theta 1: 2.906\n",
      "BGD Final Cost Value: 0.199\n"
     ]
    }
   ],
   "source": [
    "print('BGD Theta 0: {:0.3f}, \\nBGD Theta 1: {:0.3f}'.format(theta_bgd[0][0], theta_bgd[1][0]))\n",
    "print('BGD Final Cost Value: {:0.3f}'.format(cost_history_bgd[-1]))"
   ]
  },
  {
   "cell_type": "code",
   "execution_count": 21,
   "id": "b103d545",
   "metadata": {},
   "outputs": [
    {
     "data": {
      "text/plain": [
       "Text(0.5, 0.5, 'Final Cost: 0.199\\nTheta0: 4.070\\nTheta1: 2.906')"
      ]
     },
     "execution_count": 21,
     "metadata": {},
     "output_type": "execute_result"
    },
    {
     "data": {
      "image/png": "[encoded data removed]",
      "text/plain": [
       "<Figure size 720x1440 with 1 Axes>"
      ]
     },
     "metadata": {
      "needs_background": "light"
     },
     "output_type": "display_data"
    }
   ],
   "source": [
    "# Plotting cost history in separate subplots under the same chart\n",
    "plt.figure(figsize=(10,20)) #canvas ready\n",
    "\n",
    "# Plot for BGD\n",
    "plt.subplot(3,1,1)\n",
    "plt.plot(range(len(cost_history_bgd)), cost_history_bgd, label='BGD', color='blue')\n",
    "plt.title('Cost vs iteration - Batch Gradient Descent')\n",
    "plt.xlabel('No. of epochs')\n",
    "plt.ylabel('Cost')\n",
    "plt.ylim(0,5)\n",
    "# plt.xlim(100,2000)\n",
    "plt.legend()\n",
    "plt.annotate(f'Final Cost: {cost_history_bgd[-1]:.3f}\\nTheta0: {theta_bgd[0][0]:.3f}\\nTheta1: {theta_bgd[1][0]:.3f}',\n",
    "             xy=(0.5, 0.5), xycoords='axes fraction',\n",
    "             bbox=dict(boxstyle=\"round,pad=0.3\", edgecolor='black', facecolor='lightgray'), fontsize=12)\n"
   ]
  },
  {
   "cell_type": "code",
   "execution_count": 22,
   "id": "0a72f7e9",
   "metadata": {},
   "outputs": [
    {
     "data": {
      "text/plain": [
       "(array([[1, 2],\n",
       "        [1, 4],\n",
       "        [1, 6]]),\n",
       " array([[0.5],\n",
       "        [2. ]]),\n",
       " array([[ 4.5],\n",
       "        [ 8.5],\n",
       "        [12.5]]))"
      ]
     },
     "execution_count": 22,
     "metadata": {},
     "output_type": "execute_result"
    }
   ],
   "source": [
    "### GPT code - Review later\n",
    "\n",
    "import numpy as np\n",
    "\n",
    "# Create a small sample dataset\n",
    "X_sample = np.array([[1, 2],\n",
    "                     [1, 4],\n",
    "                     [1, 6]])  # Includes bias term as the first column (1s)\n",
    "\n",
    "theta_sample = np.array([[0.5],\n",
    "                         [2.0]])  # theta = [bias, weight]\n",
    "\n",
    "# Perform the dot product\n",
    "predictions = X_sample.dot(theta_sample)\n",
    "\n",
    "X_sample, theta_sample, predictions\n"
   ]
  },
  {
   "cell_type": "code",
   "execution_count": 23,
   "id": "187a9013",
   "metadata": {},
   "outputs": [
    {
     "data": {
      "text/plain": [
       "array([[1, 2],\n",
       "       [1, 4],\n",
       "       [1, 6]])"
      ]
     },
     "execution_count": 23,
     "metadata": {},
     "output_type": "execute_result"
    }
   ],
   "source": [
    "X_sample"
   ]
  },
  {
   "cell_type": "code",
   "execution_count": 24,
   "id": "5755a3bd",
   "metadata": {},
   "outputs": [
    {
     "data": {
      "text/plain": [
       "array([[0.5],\n",
       "       [2. ]])"
      ]
     },
     "execution_count": 24,
     "metadata": {},
     "output_type": "execute_result"
    }
   ],
   "source": [
    "theta_sample"
   ]
  },
  {
   "cell_type": "code",
   "execution_count": 25,
   "id": "710b26b5",
   "metadata": {},
   "outputs": [
    {
     "data": {
      "text/plain": [
       "array([[ 4.5],\n",
       "       [ 8.5],\n",
       "       [12.5]])"
      ]
     },
     "execution_count": 25,
     "metadata": {},
     "output_type": "execute_result"
    }
   ],
   "source": [
    "predictions"
   ]
  },
  {
   "cell_type": "markdown",
   "id": "09d8eedb",
   "metadata": {},
   "source": [
    "### Let us plot the best fit line"
   ]
  },
  {
   "cell_type": "markdown",
   "id": "a1cfbcce",
   "metadata": {},
   "source": [
    "### Visualization"
   ]
  },
  {
   "cell_type": "code",
   "execution_count": 66,
   "id": "85e3bd37",
   "metadata": {
    "scrolled": true
   },
   "outputs": [
    {
     "data": {
      "image/png": "[encoded data removed]",
      "text/plain": [
       "<Figure size 576x432 with 1 Axes>"
      ]
     },
     "metadata": {
      "needs_background": "light"
     },
     "output_type": "display_data"
    }
   ],
   "source": [
    "# Create a range of values for plotting the best fit line\n",
    "x_plot = np.linspace(0, 2, 100).reshape(100, 1)\n",
    "x_plot_b = np.c_[np.ones((100, 1)), x_plot]\n",
    "\n",
    "# Plot best-fit lines for each algorithm\n",
    "plt.figure(figsize=(8,6))\n",
    "\n",
    "plt.scatter(X, y, color='blue', label='Data Points')\n",
    "plt.plot(x_plot, x_plot_b.dot(theta_bgd), color='red', label='Batch GD Fit')\n",
    "plt.title(\"Batch Gradient Descent\")\n",
    "plt.xlabel(\"X\")\n",
    "plt.ylabel(\"y\")\n",
    "plt.legend()\n",
    "plt.show()"
   ]
  },
  {
   "cell_type": "markdown",
   "id": "0efe6579",
   "metadata": {},
   "source": [
    "## MINI-BATCH GRADIENT DESCENT (MBGD) DEMONSTRATION"
   ]
  },
  {
   "cell_type": "code",
   "execution_count": 67,
   "id": "97cb0b7c",
   "metadata": {},
   "outputs": [
    {
     "data": {
      "text/plain": [
       "array([25, 77, 54, 43, 93, 30, 85,  8, 27, 28, 17, 95, 65, 73, 62,  4, 41,\n",
       "       26, 66, 60, 48, 82, 89, 10, 38, 79, 71, 12, 75, 49, 72, 64, 61, 44,\n",
       "        7, 29, 88, 74, 34, 35,  9, 37, 32, 83, 18, 13, 51, 84, 63, 56, 22,\n",
       "       94,  6, 45, 15, 70, 68, 11,  2, 24, 47, 52, 36, 96, 76, 21, 16, 23,\n",
       "       19, 98, 59, 67, 90,  0, 99, 97, 31, 20, 81, 50, 40, 14, 33,  3, 80,\n",
       "       69, 39, 53, 55, 87,  1, 86, 57, 58,  5, 78, 42, 92, 46, 91])"
      ]
     },
     "execution_count": 67,
     "metadata": {},
     "output_type": "execute_result"
    }
   ],
   "source": [
    "indices = np.random.permutation(m)\n",
    "indices"
   ]
  },
  {
   "cell_type": "code",
   "execution_count": 68,
   "id": "703e5dab",
   "metadata": {},
   "outputs": [],
   "source": [
    "def mbgd(X,y,theta, learning_rate = 0.1, epochs = 100, batch_size =32):\n",
    "    \n",
    "    \"\"\"\n",
    "    Min-Batch Gradient Descent using the entire dataset\n",
    "    Returns the final theta and a history of the cost function\n",
    "    X = Array of X with added bias\n",
    "    y = Vector of y\n",
    "    theta: vector of weight parameter randomly assigned\n",
    "    learning_rate: default to 0.1\n",
    "    epochs: number of times model will run through the entire training dataset\n",
    "    batch_size: default batch size is 32 which means that in a mini batch there are 32 samples by default\n",
    "    \n",
    "    \"\"\"\n",
    "    m = len(y) #no. of rows\n",
    "    n_batches = int(np.ceil(m/batch_size)) # number of batches\n",
    "    total_updates = epochs * n_batches ### total number of updates\n",
    "    \n",
    "    ## Empty Arrays to store the output\n",
    "    cost_history = np.zeros(total_updates) # zero-array to store the cost after each update\n",
    "    theta_history = np.zeros((total_updates, theta.shape[0])) #zero-array to store the parameter (weights & biases) values\n",
    "    \n",
    "    iter_num = 0 ### to index cost_history and theta_history\n",
    "    \n",
    "    for epoch in range(epochs):\n",
    "        \n",
    "        ## Shuffle the data at the beginning of each epoch\n",
    "        indices = np.random.permutation(m)\n",
    "        X_shuffled = X[indices]\n",
    "        y_shuffled = y[indices]\n",
    "        for i in range(0, m, batch_size):\n",
    "            X_batch = X_shuffled[i: i+batch_size]\n",
    "#             print(len(X_batch))\n",
    "            y_batch = y_shuffled[i: i+batch_size]\n",
    "            \n",
    "            ### Calculate the gradients\n",
    "            gradients = (X_batch.T.dot(X_batch.dot(theta) - y_batch))/len(y_batch)\n",
    "            theta = theta - learning_rate * gradients\n",
    "        \n",
    "            ### Optionally record cost and theta after each mini-batch update\n",
    "            cost = compute_cost(X,y, theta)\n",
    "            #Update the empty arrays for theta and cost_history\n",
    "            cost_history[iter_num] = cost #uni-dimension\n",
    "            theta_history[iter_num, :]=theta.T # 2 dimensions \n",
    "            iter_num +=1\n",
    "        \n",
    "    return theta, cost_history, theta_history          "
   ]
  },
  {
   "cell_type": "code",
   "execution_count": 69,
   "id": "0b34dc65",
   "metadata": {},
   "outputs": [],
   "source": [
    "theta_mbgd, cost_history_mbgd, theta_history_mbgd = mbgd(X_b, y, theta,  learning_rate = 0.1, epochs=100, batch_size=32)"
   ]
  },
  {
   "cell_type": "code",
   "execution_count": 70,
   "id": "1db46deb",
   "metadata": {},
   "outputs": [
    {
     "name": "stdout",
     "output_type": "stream",
     "text": [
      "MBGD Theta 0: 4.139, \n",
      "BGD Theta 1: 2.819\n",
      "MBGD Final Cost Value: 0.198\n"
     ]
    }
   ],
   "source": [
    "print('MBGD Theta 0: {:0.3f}, \\nBGD Theta 1: {:0.3f}'.format(theta_mbgd[0][0], theta_mbgd[1][0]))\n",
    "print('MBGD Final Cost Value: {:0.3f}'.format(cost_history_mbgd[-1]))"
   ]
  },
  {
   "cell_type": "code",
   "execution_count": 71,
   "id": "90e30761",
   "metadata": {},
   "outputs": [
    {
     "data": {
      "text/plain": [
       "400"
      ]
     },
     "execution_count": 71,
     "metadata": {},
     "output_type": "execute_result"
    }
   ],
   "source": [
    "len(cost_history_mbgd)"
   ]
  },
  {
   "cell_type": "code",
   "execution_count": 72,
   "id": "68cf5ba2",
   "metadata": {},
   "outputs": [
    {
     "data": {
      "text/plain": [
       "array([7.14574824, 4.98817532, 3.2282768 , 1.81162601, 1.25914298,\n",
       "       0.86950132, 0.61537652, 0.40773181, 0.32975746, 0.28439907,\n",
       "       0.25138521, 0.23466497, 0.22403536, 0.21086432, 0.20731504,\n",
       "       0.21147977, 0.20393337, 0.20302156, 0.20233934, 0.21339648,\n",
       "       0.203321  , 0.20517389, 0.20390252, 0.20201034, 0.19922017,\n",
       "       0.19928607, 0.20105615, 0.1993492 , 0.19916657, 0.19957782,\n",
       "       0.19894631, 0.1995457 , 0.19969242, 0.19961907, 0.19886584,\n",
       "       0.20030616, 0.20013608, 0.20069355, 0.198672  , 0.20004004,\n",
       "       0.19917471, 0.19994914, 0.19921744, 0.19911911, 0.19913296,\n",
       "       0.19897708, 0.19886521, 0.19908084, 0.19910901, 0.19888363,\n",
       "       0.19902583, 0.19931622, 0.19966365, 0.19864398, 0.19890109,\n",
       "       0.19999986, 0.20087685, 0.19947438, 0.19896259, 0.20147744,\n",
       "       0.20465556, 0.20025706, 0.19865368, 0.19860824, 0.19907805,\n",
       "       0.19854993, 0.19828268, 0.20290521, 0.19908809, 0.19992082,\n",
       "       0.1995278 , 0.20041812, 0.20054376, 0.20005729, 0.19853117,\n",
       "       0.1982883 , 0.19823575, 0.19819106, 0.19816611, 0.19874371,\n",
       "       0.19813308, 0.19818101, 0.1982041 , 0.20325437, 0.20225615,\n",
       "       0.19986723, 0.19917036, 0.20184546, 0.20068624, 0.20033521,\n",
       "       0.19926657, 0.19917712, 0.19937394, 0.19799098, 0.19810902,\n",
       "       0.19929266, 0.19830283, 0.19847577, 0.19845674, 0.19805302,\n",
       "       0.19796269, 0.19813723, 0.19801756, 0.20020906, 0.19914969,\n",
       "       0.19871228, 0.19839247, 0.20103401, 0.20196244, 0.19890859,\n",
       "       0.19820135, 0.20437082, 0.20093443, 0.20029712, 0.19964574,\n",
       "       0.19863912, 0.19837471, 0.19836873, 0.19808685, 0.19789329,\n",
       "       0.19788312, 0.1979417 , 0.19790403, 0.19775211, 0.19792986,\n",
       "       0.19805373, 0.19771715, 0.20008228, 0.20048994, 0.20063374,\n",
       "       0.19837792, 0.2005015 , 0.19877322, 0.19839109, 0.19836902,\n",
       "       0.20099878, 0.20028677, 0.19909308, 0.19832747, 0.19886261,\n",
       "       0.19795386, 0.19772919, 0.19815671, 0.19818892, 0.1981929 ,\n",
       "       0.19778359, 0.1977569 , 0.19823756, 0.19802737, 0.19813914,\n",
       "       0.19773859, 0.19829158, 0.19797663, 0.19798741, 0.19777096,\n",
       "       0.19881914, 0.19796927, 0.19848406, 0.1978066 , 0.20082208,\n",
       "       0.19946918, 0.19860189, 0.19850261, 0.19900628, 0.19792092,\n",
       "       0.19839978, 0.19807911, 0.19806482, 0.19805282, 0.19786635,\n",
       "       0.19778184, 0.20075744, 0.1987337 , 0.19841871, 0.1988377 ,\n",
       "       0.20015473, 0.20029328, 0.19958284, 0.19846733, 0.19816685,\n",
       "       0.19827265, 0.1978638 , 0.19796782, 0.19825052, 0.19805234,\n",
       "       0.19801123, 0.19794498, 0.19777731, 0.19777578, 0.19788163,\n",
       "       0.19787334, 0.203798  , 0.19813359, 0.19914272, 0.20060762,\n",
       "       0.19809776, 0.19773321, 0.19865378, 0.19778599, 0.19820282,\n",
       "       0.19775307, 0.19844332, 0.19786489, 0.19771225, 0.19763794,\n",
       "       0.19763558, 0.19780244, 0.19873032, 0.19789345, 0.1980247 ,\n",
       "       0.19771345, 0.20553788, 0.20133365, 0.20082211, 0.19973061,\n",
       "       0.19903508, 0.19909694, 0.19812663, 0.19804443, 0.19767522,\n",
       "       0.19775513, 0.19782324, 0.1978096 , 0.20304415, 0.20304751,\n",
       "       0.19848106, 0.19898466, 0.19881773, 0.19796893, 0.19843525,\n",
       "       0.19818789, 0.19820979, 0.19781366, 0.19820226, 0.19799226,\n",
       "       0.19841334, 0.19766967, 0.19779998, 0.1979445 , 0.19838399,\n",
       "       0.19830098, 0.1982189 , 0.19809553, 0.20130167, 0.20356742,\n",
       "       0.19992924, 0.19820682, 0.19775927, 0.19767932, 0.19770759,\n",
       "       0.19770149, 0.19766032, 0.1979991 , 0.19766121, 0.19766946,\n",
       "       0.19773177, 0.19782746, 0.19778743, 0.1976643 , 0.19874418,\n",
       "       0.19792914, 0.19789015, 0.1984093 , 0.19888894, 0.19800043,\n",
       "       0.1979274 , 0.1983028 , 0.19908629, 0.19844389, 0.19952904,\n",
       "       0.19799913, 0.19796701, 0.19801788, 0.19783955, 0.19787671,\n",
       "       0.1983987 , 0.19822144, 0.19820697, 0.19793065, 0.19972817,\n",
       "       0.1982887 , 0.19871519, 0.19828693, 0.19944135, 0.19834007,\n",
       "       0.1982285 , 0.19792565, 0.20521718, 0.20051507, 0.19985253,\n",
       "       0.19906851, 0.21291796, 0.21040761, 0.204278  , 0.20100601,\n",
       "       0.20079404, 0.2000466 , 0.19934336, 0.19872952, 0.19802274,\n",
       "       0.19772595, 0.19781686, 0.1979041 , 0.19775136, 0.19787005,\n",
       "       0.19813305, 0.19770481, 0.1986467 , 0.19829768, 0.19765362,\n",
       "       0.19792458, 0.19869549, 0.19821176, 0.19764354, 0.19789279,\n",
       "       0.2003633 , 0.19876201, 0.19831036, 0.19856421, 0.19792915,\n",
       "       0.19861566, 0.19815116, 0.19765467, 0.19776538, 0.19859219,\n",
       "       0.19792461, 0.19764759, 0.19913868, 0.19829637, 0.19768648,\n",
       "       0.19818628, 0.19916694, 0.19916606, 0.19828701, 0.19789501,\n",
       "       0.19896036, 0.19957075, 0.19798812, 0.19795797, 0.19764656,\n",
       "       0.19898184, 0.19806367, 0.19771598, 0.19771938, 0.19847058,\n",
       "       0.19777139, 0.19761623, 0.19773959, 0.19796575, 0.19762758,\n",
       "       0.19768277, 0.19786011, 0.19856046, 0.19821923, 0.1977019 ,\n",
       "       0.20040901, 0.19875113, 0.19864294, 0.19873943, 0.19776212,\n",
       "       0.19795569, 0.19764334, 0.19763181, 0.20127825, 0.20160694,\n",
       "       0.19873436, 0.19838424, 0.19853598, 0.20040708, 0.19809714,\n",
       "       0.19783586, 0.19913665, 0.19892732, 0.19831352, 0.19801861,\n",
       "       0.19791186, 0.19770402, 0.19770654, 0.19764153, 0.20227553,\n",
       "       0.20075411, 0.19892549, 0.19850776, 0.2013147 , 0.20156453,\n",
       "       0.19931943, 0.19834899, 0.19812038, 0.19765142, 0.1980245 ,\n",
       "       0.19771861, 0.19827646, 0.19779506, 0.1980053 , 0.1976724 ,\n",
       "       0.20069002, 0.2010499 , 0.19810126, 0.1983343 , 0.19813149])"
      ]
     },
     "execution_count": 72,
     "metadata": {},
     "output_type": "execute_result"
    }
   ],
   "source": [
    "cost_history_mbgd"
   ]
  },
  {
   "cell_type": "code",
   "execution_count": 73,
   "id": "c82c017a",
   "metadata": {},
   "outputs": [
    {
     "data": {
      "text/plain": [
       "400"
      ]
     },
     "execution_count": 73,
     "metadata": {},
     "output_type": "execute_result"
    }
   ],
   "source": [
    "len(theta_history_mbgd)"
   ]
  },
  {
   "cell_type": "code",
   "execution_count": 74,
   "id": "bb556a47",
   "metadata": {},
   "outputs": [
    {
     "data": {
      "text/plain": [
       "array([[2.26937706, 1.0405276 ],\n",
       "       [2.58836767, 1.34580303],\n",
       "       [2.88843301, 1.66891768],\n",
       "       [3.17849441, 2.03113235],\n",
       "       [3.34339348, 2.20094758],\n",
       "       [3.48634508, 2.35151917],\n",
       "       [3.59543292, 2.48350417],\n",
       "       [3.72657028, 2.61516296],\n",
       "       [3.78899127, 2.68550924],\n",
       "       [3.83713626, 2.73428609],\n",
       "       [3.88237618, 2.77769028],\n",
       "       [3.90816311, 2.8080336 ],\n",
       "       [3.92894106, 2.83036496],\n",
       "       [3.96587619, 2.86302158],\n",
       "       [3.97960572, 2.87443387],\n",
       "       [3.95605758, 2.86989677],\n",
       "       [3.99117224, 2.89416348],\n",
       "       [3.99965648, 2.89463801],\n",
       "       [3.99938483, 2.90521535],\n",
       "       [3.95593594, 2.85747189],\n",
       "       [3.99526466, 2.89651968],\n",
       "       [3.98887045, 2.883255  ],\n",
       "       [3.9947633 , 2.88986191],\n",
       "       [4.01001182, 2.89532089],\n",
       "       [4.0464488 , 2.92890686],\n",
       "       [4.04500146, 2.93163877],\n",
       "       [4.02079877, 2.89660874],\n",
       "       [4.04121196, 2.91442919],\n",
       "       [4.0461204 , 2.92151616],\n",
       "       [4.03812014, 2.90811596],\n",
       "       [4.05464441, 2.91878094],\n",
       "       [4.04005815, 2.90527195],\n",
       "       [4.0372232 , 2.90503701],\n",
       "       [4.03979786, 2.90273935],\n",
       "       [4.05751604, 2.91615875],\n",
       "       [4.03969865, 2.88431851],\n",
       "       [4.04332137, 2.8827757 ],\n",
       "       [4.03513228, 2.88310323],\n",
       "       [4.06485535, 2.89923631],\n",
       "       [4.03345917, 2.90036833],\n",
       "       [4.04679587, 2.91076974],\n",
       "       [4.03646339, 2.89785851],\n",
       "       [4.04746452, 2.90515553],\n",
       "       [4.06338544, 2.93178226],\n",
       "       [4.06510887, 2.93214269],\n",
       "       [4.05312198, 2.91842765],\n",
       "       [4.06711829, 2.92330107],\n",
       "       [4.05356389, 2.92759109],\n",
       "       [4.04790307, 2.91720319],\n",
       "       [4.06134172, 2.92212267],\n",
       "       [4.06041015, 2.92822706],\n",
       "       [4.05056895, 2.89379322],\n",
       "       [4.04447697, 2.89278441],\n",
       "       [4.06588561, 2.89896843],\n",
       "       [4.05940966, 2.89524198],\n",
       "       [4.09807503, 2.93591113],\n",
       "       [4.11023401, 2.93988514],\n",
       "       [4.09927848, 2.92723172],\n",
       "       [4.09126725, 2.9213539 ],\n",
       "       [4.04463156, 2.85910015],\n",
       "       [4.02901818, 2.84214637],\n",
       "       [4.0544055 , 2.86587389],\n",
       "       [4.07257078, 2.8815427 ],\n",
       "       [4.07075223, 2.88772806],\n",
       "       [4.06568259, 2.87696139],\n",
       "       [4.07263099, 2.88743494],\n",
       "       [4.0880097 , 2.90031556],\n",
       "       [4.04216769, 2.84501453],\n",
       "       [4.0659183 , 2.87631064],\n",
       "       [4.06000362, 2.86501165],\n",
       "       [4.06556132, 2.86586979],\n",
       "       [4.06196154, 2.85422896],\n",
       "       [4.06185574, 2.85243966],\n",
       "       [4.06405254, 2.85765733],\n",
       "       [4.08317246, 2.86936403],\n",
       "       [4.0926676 , 2.90114329],\n",
       "       [4.08800997, 2.8971516 ],\n",
       "       [4.09041693, 2.8951008 ],\n",
       "       [4.09248542, 2.89427226],\n",
       "       [4.10646965, 2.90986739],\n",
       "       [4.09036778, 2.88192654],\n",
       "       [4.09678723, 2.89600102],\n",
       "       [4.1032438 , 2.89615115],\n",
       "       [4.12602318, 2.95263445],\n",
       "       [4.12191681, 2.94652523],\n",
       "       [4.10881672, 2.92788751],\n",
       "       [4.10108952, 2.92102701],\n",
       "       [4.13964967, 2.93002506],\n",
       "       [4.14234969, 2.91577985],\n",
       "       [4.14198089, 2.91189129],\n",
       "       [4.12461097, 2.90907863],\n",
       "       [4.08219882, 2.85295523],\n",
       "       [4.08314514, 2.84791807],\n",
       "       [4.10249392, 2.86671126],\n",
       "       [4.09881265, 2.86480679],\n",
       "       [4.07660318, 2.85716354],\n",
       "       [4.08758061, 2.87273032],\n",
       "       [4.08661086, 2.86641347],\n",
       "       [4.08887413, 2.86389638],\n",
       "       [4.09542478, 2.88473759],\n",
       "       [4.10163218, 2.88029672],\n",
       "       [4.09470833, 2.87015226],\n",
       "       [4.0972015 , 2.88025923],\n",
       "       [4.12495333, 2.92225657],\n",
       "       [4.12391754, 2.90759876],\n",
       "       [4.11754675, 2.90333731],\n",
       "       [4.10958712, 2.89988945],\n",
       "       [4.13650832, 2.92391804],\n",
       "       [4.1471778 , 2.92557808],\n",
       "       [4.12351622, 2.90361284],\n",
       "       [4.11128088, 2.89345023],\n",
       "       [4.1687169 , 2.9295165 ],\n",
       "       [4.14799784, 2.91437177],\n",
       "       [4.15121867, 2.90451671],\n",
       "       [4.14776407, 2.89857654],\n",
       "       [4.12251745, 2.89892389],\n",
       "       [4.11807004, 2.895304  ],\n",
       "       [4.11638844, 2.89601625],\n",
       "       [4.11657935, 2.88736137],\n",
       "       [4.1088184 , 2.87815485],\n",
       "       [4.10724629, 2.87447638],\n",
       "       [4.10335983, 2.87058318],\n",
       "       [4.10873918, 2.87923396],\n",
       "       [4.13560888, 2.86364507],\n",
       "       [4.14085683, 2.86863806],\n",
       "       [4.14394981, 2.8706422 ],\n",
       "       [4.12726097, 2.85023523],\n",
       "       [4.15615701, 2.8980057 ],\n",
       "       [4.1573954 , 2.90206221],\n",
       "       [4.16186784, 2.90020974],\n",
       "       [4.14331157, 2.87962738],\n",
       "       [4.08711029, 2.826148  ],\n",
       "       [4.10047895, 2.84113964],\n",
       "       [4.1071065 , 2.84344213],\n",
       "       [4.10594099, 2.84538164],\n",
       "       [4.08911936, 2.81793706],\n",
       "       [4.09362869, 2.82256563],\n",
       "       [4.10111007, 2.83391112],\n",
       "       [4.11133555, 2.84061847],\n",
       "       [4.10493566, 2.83452434],\n",
       "       [4.11827611, 2.84600646],\n",
       "       [4.12472485, 2.85290092],\n",
       "       [4.11399493, 2.84299779],\n",
       "       [4.1156532 , 2.84012941],\n",
       "       [4.11519406, 2.84049809],\n",
       "       [4.12216596, 2.85119386],\n",
       "       [4.12558478, 2.8486576 ],\n",
       "       [4.11518264, 2.83913043],\n",
       "       [4.11452987, 2.84722997],\n",
       "       [4.1116255 , 2.84630314],\n",
       "       [4.12673987, 2.84870721],\n",
       "       [4.11233196, 2.84058125],\n",
       "       [4.11063298, 2.85459146],\n",
       "       [4.11475551, 2.84870963],\n",
       "       [4.12335676, 2.85056661],\n",
       "       [4.10816925, 2.83212497],\n",
       "       [4.11922581, 2.84421556],\n",
       "       [4.10913634, 2.83875807],\n",
       "       [4.12416231, 2.84682159],\n",
       "       [4.09122468, 2.81803105],\n",
       "       [4.10147026, 2.82695215],\n",
       "       [4.10836435, 2.83669527],\n",
       "       [4.11061311, 2.83674125],\n",
       "       [4.10422689, 2.83238578],\n",
       "       [4.120781  , 2.84460432],\n",
       "       [4.11365809, 2.83619063],\n",
       "       [4.1180865 , 2.84118631],\n",
       "       [4.10305176, 2.8606892 ],\n",
       "       [4.10621783, 2.85673329],\n",
       "       [4.11064328, 2.86288085],\n",
       "       [4.11674212, 2.86802292],\n",
       "       [4.06585975, 2.84491015],\n",
       "       [4.08062356, 2.86607294],\n",
       "       [4.08634687, 2.8691033 ],\n",
       "       [4.08350448, 2.85933879],\n",
       "       [4.07303883, 2.84582686],\n",
       "       [4.07290049, 2.84387431],\n",
       "       [4.07958239, 2.84806239],\n",
       "       [4.09030447, 2.86155114],\n",
       "       [4.12148325, 2.8877307 ],\n",
       "       [4.12959833, 2.88614652],\n",
       "       [4.12101559, 2.87590841],\n",
       "       [4.11963239, 2.88146453],\n",
       "       [4.09777433, 2.85949679],\n",
       "       [4.10666624, 2.85613568],\n",
       "       [4.1043776 , 2.86183663],\n",
       "       [4.10523917, 2.86553423],\n",
       "       [4.1166002 , 2.86570029],\n",
       "       [4.1224295 , 2.8695259 ],\n",
       "       [4.11276419, 2.85756149],\n",
       "       [4.11368747, 2.85674172],\n",
       "       [4.16200683, 2.93030649],\n",
       "       [4.12318356, 2.88582862],\n",
       "       [4.13378146, 2.90098229],\n",
       "       [4.14734943, 2.9111568 ],\n",
       "       [4.13237615, 2.87955639],\n",
       "       [4.1248551 , 2.86517254],\n",
       "       [4.14404509, 2.88498182],\n",
       "       [4.12459657, 2.87003003],\n",
       "       [4.14321069, 2.87538348],\n",
       "       [4.13368276, 2.86462666],\n",
       "       [4.14306493, 2.88128469],\n",
       "       [4.13705449, 2.86849323],\n",
       "       [4.13221523, 2.8439463 ],\n",
       "       [4.13933962, 2.8509561 ],\n",
       "       [4.14212893, 2.84996242],\n",
       "       [4.13009274, 2.84017639],\n",
       "       [4.15895085, 2.87504194],\n",
       "       [4.14647511, 2.86341067],\n",
       "       [4.1481309 , 2.86672543],\n",
       "       [4.14533364, 2.85555759],\n",
       "       [4.18643671, 2.9237457 ],\n",
       "       [4.17033543, 2.90107248],\n",
       "       [4.17029496, 2.89552684],\n",
       "       [4.16006549, 2.89023199],\n",
       "       [4.14974649, 2.88769352],\n",
       "       [4.1511506 , 2.88765783],\n",
       "       [4.13808618, 2.87679471],\n",
       "       [4.13883563, 2.87383693],\n",
       "       [4.13254068, 2.85787995],\n",
       "       [4.12980754, 2.86632664],\n",
       "       [4.13170053, 2.86952173],\n",
       "       [4.12417163, 2.84661475],\n",
       "       [4.18230215, 2.90745984],\n",
       "       [4.18131511, 2.90831752],\n",
       "       [4.15533748, 2.87286952],\n",
       "       [4.16025722, 2.87860213],\n",
       "       [4.14947303, 2.88408019],\n",
       "       [4.14256629, 2.86886792],\n",
       "       [4.14755308, 2.87783625],\n",
       "       [4.14434023, 2.87418498],\n",
       "       [4.10775316, 2.84834208],\n",
       "       [4.11597223, 2.85838659],\n",
       "       [4.10881506, 2.847353  ],\n",
       "       [4.11122828, 2.85297026],\n",
       "       [4.15423206, 2.87224565],\n",
       "       [4.13313029, 2.85700132],\n",
       "       [4.14004829, 2.8637363 ],\n",
       "       [4.14915666, 2.86330848],\n",
       "       [4.14989564, 2.87492334],\n",
       "       [4.14347638, 2.87768295],\n",
       "       [4.14837325, 2.87205472],\n",
       "       [4.14768354, 2.86919205],\n",
       "       [4.09040913, 2.81318351],\n",
       "       [4.07733553, 2.80313653],\n",
       "       [4.09718742, 2.82408714],\n",
       "       [4.11565416, 2.83956712],\n",
       "       [4.1247881 , 2.84955764],\n",
       "       [4.12954431, 2.85275121],\n",
       "       [4.12995597, 2.84734682],\n",
       "       [4.12787849, 2.85139426],\n",
       "       [4.1337798 , 2.85525762],\n",
       "       [4.14217644, 2.87014481],\n",
       "       [4.13228119, 2.85393717],\n",
       "       [4.13174196, 2.85031308],\n",
       "       [4.13692144, 2.86168768],\n",
       "       [4.14444593, 2.8621373 ],\n",
       "       [4.12583397, 2.84601811],\n",
       "       [4.13627713, 2.85594528],\n",
       "       [4.13950388, 2.88997595],\n",
       "       [4.13452996, 2.87256775],\n",
       "       [4.1321735 , 2.87234404],\n",
       "       [4.13957354, 2.88297242],\n",
       "       [4.08531011, 2.8558015 ],\n",
       "       [4.0985969 , 2.87614397],\n",
       "       [4.10700819, 2.8807826 ],\n",
       "       [4.09357905, 2.86323464],\n",
       "       [4.09149908, 2.84426538],\n",
       "       [4.09845529, 2.85191124],\n",
       "       [4.08610608, 2.84182549],\n",
       "       [4.10787538, 2.8572358 ],\n",
       "       [4.10395575, 2.86599724],\n",
       "       [4.10436709, 2.86142716],\n",
       "       [4.111279  , 2.86556942],\n",
       "       [4.10900495, 2.86528184],\n",
       "       [4.11868797, 2.89558685],\n",
       "       [4.11901295, 2.8906118 ],\n",
       "       [4.1128199 , 2.89301061],\n",
       "       [4.11039818, 2.88164075],\n",
       "       [4.13554751, 2.90860337],\n",
       "       [4.1192325 , 2.8924125 ],\n",
       "       [4.12769092, 2.89730187],\n",
       "       [4.12195741, 2.89091994],\n",
       "       [4.1457868 , 2.89708844],\n",
       "       [4.13792535, 2.88248016],\n",
       "       [4.13527203, 2.88143382],\n",
       "       [4.12982571, 2.87505448],\n",
       "       [4.17431539, 2.93138818],\n",
       "       [4.14991477, 2.90813471],\n",
       "       [4.14313088, 2.90486335],\n",
       "       [4.14393019, 2.89258116],\n",
       "       [4.19882716, 2.95806502],\n",
       "       [4.1928329 , 2.9494155 ],\n",
       "       [4.17219794, 2.92598803],\n",
       "       [4.15821826, 2.90729368],\n",
       "       [4.14971375, 2.91150723],\n",
       "       [4.14299746, 2.90752112],\n",
       "       [4.13652806, 2.90227989],\n",
       "       [4.13538688, 2.89253553],\n",
       "       [4.1104917 , 2.8524496 ],\n",
       "       [4.12272845, 2.85817349],\n",
       "       [4.11681706, 2.85653589],\n",
       "       [4.11381766, 2.85438994],\n",
       "       [4.13266831, 2.86496315],\n",
       "       [4.13297197, 2.87104981],\n",
       "       [4.13996591, 2.87572207],\n",
       "       [4.13045159, 2.86183873],\n",
       "       [4.11468745, 2.82928254],\n",
       "       [4.11874306, 2.83372131],\n",
       "       [4.13423971, 2.8494761 ],\n",
       "       [4.12498234, 2.83975343],\n",
       "       [4.11607964, 2.82687876],\n",
       "       [4.11825461, 2.83667919],\n",
       "       [4.1362229 , 2.85135358],\n",
       "       [4.12679854, 2.83921001],\n",
       "       [4.1098476 , 2.80626804],\n",
       "       [4.12243099, 2.8195343 ],\n",
       "       [4.12974473, 2.82285108],\n",
       "       [4.12552792, 2.82078241],\n",
       "       [4.12610246, 2.83836851],\n",
       "       [4.11758889, 2.82713144],\n",
       "       [4.12888142, 2.82796837],\n",
       "       [4.13512692, 2.84732526],\n",
       "       [4.14514846, 2.85868903],\n",
       "       [4.15541832, 2.87513791],\n",
       "       [4.14453023, 2.86594836],\n",
       "       [4.14301117, 2.85135685],\n",
       "       [4.10280546, 2.8313348 ],\n",
       "       [4.11158442, 2.84125048],\n",
       "       [4.12912847, 2.85901434],\n",
       "       [4.11396943, 2.84204532],\n",
       "       [4.10465106, 2.82897043],\n",
       "       [4.10350578, 2.83013087],\n",
       "       [4.11563769, 2.83720453],\n",
       "       [4.12036346, 2.84637428],\n",
       "       [4.11430286, 2.82334167],\n",
       "       [4.10988144, 2.81724242],\n",
       "       [4.12864762, 2.83348407],\n",
       "       [4.1252646 , 2.83807046],\n",
       "       [4.15305729, 2.84443425],\n",
       "       [4.175525  , 2.86560951],\n",
       "       [4.16562965, 2.85363643],\n",
       "       [4.14195416, 2.8334163 ],\n",
       "       [4.16180497, 2.84247596],\n",
       "       [4.17027294, 2.86011999],\n",
       "       [4.16022686, 2.84704457],\n",
       "       [4.15508857, 2.83605963],\n",
       "       [4.15137106, 2.82416558],\n",
       "       [4.1373406 , 2.82611333],\n",
       "       [4.15625148, 2.83873052],\n",
       "       [4.15213458, 2.82729816],\n",
       "       [4.17423568, 2.83751994],\n",
       "       [4.18141898, 2.85185318],\n",
       "       [4.17854053, 2.84609014],\n",
       "       [4.17021877, 2.83152031],\n",
       "       [4.12059658, 2.79616228],\n",
       "       [4.13332367, 2.8100835 ],\n",
       "       [4.13517863, 2.81063098],\n",
       "       [4.1350365 , 2.80885078],\n",
       "       [4.14870611, 2.85600152],\n",
       "       [4.1535374 , 2.86032706],\n",
       "       [4.14394641, 2.8503434 ],\n",
       "       [4.14036887, 2.84435676],\n",
       "       [4.17555884, 2.89615759],\n",
       "       [4.18090195, 2.89508067],\n",
       "       [4.16012512, 2.87416761],\n",
       "       [4.15444411, 2.87141734],\n",
       "       [4.15726327, 2.87250725],\n",
       "       [4.17498675, 2.88672646],\n",
       "       [4.15108259, 2.866683  ],\n",
       "       [4.14926224, 2.85905344],\n",
       "       [4.10353998, 2.83063154],\n",
       "       [4.1056618 , 2.83247433],\n",
       "       [4.11024773, 2.84220674],\n",
       "       [4.11564995, 2.8462717 ],\n",
       "       [4.13462395, 2.83059881],\n",
       "       [4.13688179, 2.83930271],\n",
       "       [4.14766813, 2.85350311],\n",
       "       [4.14349954, 2.83859963],\n",
       "       [4.09635078, 2.79744715],\n",
       "       [4.10410231, 2.80670783],\n",
       "       [4.1187361 , 2.81981675],\n",
       "       [4.11996425, 2.82726273],\n",
       "       [4.11418863, 2.79134385],\n",
       "       [4.11545021, 2.78761439],\n",
       "       [4.12794858, 2.80486546],\n",
       "       [4.13634511, 2.81606866],\n",
       "       [4.13679522, 2.82167738],\n",
       "       [4.15079669, 2.83103929],\n",
       "       [4.14019858, 2.82164889],\n",
       "       [4.14410887, 2.83130439],\n",
       "       [4.13826197, 2.81620966],\n",
       "       [4.14702586, 2.82469853],\n",
       "       [4.14309532, 2.81982499],\n",
       "       [4.15095412, 2.82899526],\n",
       "       [4.11124097, 2.80099886],\n",
       "       [4.10884898, 2.79897258],\n",
       "       [4.12946474, 2.82891802],\n",
       "       [4.12901167, 2.82292012],\n",
       "       [4.13916984, 2.81930578]])"
      ]
     },
     "execution_count": 74,
     "metadata": {},
     "output_type": "execute_result"
    }
   ],
   "source": [
    "theta_history_mbgd"
   ]
  },
  {
   "cell_type": "code",
   "execution_count": 75,
   "id": "bef083b7",
   "metadata": {},
   "outputs": [
    {
     "data": {
      "text/plain": [
       "400"
      ]
     },
     "execution_count": 75,
     "metadata": {},
     "output_type": "execute_result"
    }
   ],
   "source": [
    "len(theta_history_mbgd)"
   ]
  },
  {
   "cell_type": "markdown",
   "id": "afb395b8",
   "metadata": {},
   "source": [
    "### Let us plot the cost function vs updates"
   ]
  },
  {
   "cell_type": "code",
   "execution_count": 76,
   "id": "11929a34",
   "metadata": {},
   "outputs": [
    {
     "data": {
      "image/png": "[encoded data removed]",
      "text/plain": [
       "<Figure size 720x1440 with 1 Axes>"
      ]
     },
     "metadata": {
      "needs_background": "light"
     },
     "output_type": "display_data"
    }
   ],
   "source": [
    "# Plotting cost history in separate subplots under the same chart\n",
    "plt.figure(figsize=(10,20)) #canvas ready\n",
    "\n",
    "# Plot for MBGD\n",
    "plt.subplot(3,1,1)\n",
    "plt.plot(range(len(cost_history_mbgd)), cost_history_mbgd, label='MBGD', color='red')\n",
    "plt.title('Cost vs iteration - Mini-Batch Gradient Descent')\n",
    "plt.xlabel('No. of updates')\n",
    "plt.ylabel('Cost')\n",
    "plt.ylim(0,5)\n",
    "# plt.xlim(100,2000)\n",
    "plt.legend()\n",
    "plt.annotate(f'Final Cost: {cost_history_mbgd[-1]:.3f}\\nTheta0: {theta_mbgd[0][0]:.3f}\\nTheta1: {theta_mbgd[1][0]:.3f}',\n",
    "             xy=(0.5, 0.5), xycoords='axes fraction',\n",
    "             bbox=dict(boxstyle=\"round,pad=0.3\", edgecolor='black', facecolor='lightgray'), fontsize=12)\n",
    "\n",
    "plt.show()\n"
   ]
  },
  {
   "cell_type": "markdown",
   "id": "f7c0ce60",
   "metadata": {},
   "source": [
    "### Visualization"
   ]
  },
  {
   "cell_type": "code",
   "execution_count": 77,
   "id": "3fa239a4",
   "metadata": {
    "scrolled": false
   },
   "outputs": [
    {
     "data": {
      "image/png": "[encoded data removed]",
      "text/plain": [
       "<Figure size 576x432 with 1 Axes>"
      ]
     },
     "metadata": {
      "needs_background": "light"
     },
     "output_type": "display_data"
    }
   ],
   "source": [
    "# Create a range of values for plotting the best fit line\n",
    "x_plot = np.linspace(0, 2, 100).reshape(100, 1)\n",
    "x_plot_b = np.c_[np.ones((100, 1)), x_plot]\n",
    "\n",
    "# Plot best-fit lines for each algorithm\n",
    "plt.figure(figsize=(8,6))\n",
    "plt.scatter(X, y, color='blue', label='Data Points')\n",
    "plt.plot(x_plot, x_plot_b.dot(theta_mbgd), color='red', label='Mini-Batch GD Fit')\n",
    "plt.title(\"Mini Batch Gradient Descent\")\n",
    "plt.xlabel(\"X\")\n",
    "plt.ylabel(\"y\")\n",
    "plt.legend()\n",
    "plt.show()"
   ]
  },
  {
   "cell_type": "markdown",
   "id": "f8d62891",
   "metadata": {},
   "source": [
    "## STOCHASTIC GRADIENT DESCENT (SGD) DEMONSTRATION"
   ]
  },
  {
   "cell_type": "code",
   "execution_count": 91,
   "id": "61e82f42",
   "metadata": {},
   "outputs": [],
   "source": [
    "def sgd(X,y,theta, learning_rate = 0.1, epochs = 100):\n",
    "    \n",
    "    \"\"\"\n",
    "    Stochastic Gradient Descent using the entire dataset\n",
    "    Returns the final theta and a history of the cost function\n",
    "    X = Array of X with added bias\n",
    "    y = Vector of y\n",
    "    theta: vector of weight parameter randomly assigned\n",
    "    learning_rate: default to 0.1\n",
    "    epochs: number of times model will run through the entire training dataset\n",
    "    \n",
    "    \"\"\"\n",
    "    m = len(y)\n",
    "    cost_history = np.zeros(epochs * m) # zero-array to store the cost after each update\n",
    "    theta_history = np.zeros((epochs * m , theta.shape[0])) #zero-array to store the parameter (weights & biases) values\n",
    "    \n",
    "    \n",
    "    for epoch in range(epochs): # loop over number of epochs\n",
    "        \n",
    "        for i in range(m): #loop over each training row per epoch\n",
    "            \n",
    "            ### Randomly select a training row/training example\n",
    "            rand_index = np.random.randint(0,m)\n",
    "            X_i = X[rand_index, :].reshape(1, X.shape[1])\n",
    "            y_i = y[rand_index, :].reshape(1,1)\n",
    "            \n",
    "            ### Compute the gradient for each row and update the theta\n",
    "            gradients = X_i.T.dot(X_i.dot(theta) - y_i)\n",
    "            theta = theta - learning_rate * gradients\n",
    "            cost = compute_cost(X,y, theta)\n",
    "\n",
    "            #Update the empty arrays for theta and cost_history\n",
    "            cost_history[epoch*m + i] = cost #uni-dimension\n",
    "            theta_history[epoch*m + i, :]=theta.T # 2 dimensions\n",
    "\n",
    "    return theta, cost_history, theta_history"
   ]
  },
  {
   "cell_type": "markdown",
   "id": "4d939fa7",
   "metadata": {},
   "source": [
    "### Running the `SGD` algorithm"
   ]
  },
  {
   "cell_type": "code",
   "execution_count": 92,
   "id": "b598a63d",
   "metadata": {},
   "outputs": [],
   "source": [
    "theta_sgd, cost_history_sgd, theta_history_sgd = sgd(X_b, y, theta,  learning_rate = 0.1, epochs=100)"
   ]
  },
  {
   "cell_type": "code",
   "execution_count": 93,
   "id": "165bd35b",
   "metadata": {},
   "outputs": [
    {
     "name": "stdout",
     "output_type": "stream",
     "text": [
      "SGD Theta 0: 3.980, \n",
      "BGD Theta 1: 2.713\n",
      "MBGD Final Cost Value: 0.242\n"
     ]
    }
   ],
   "source": [
    "print('SGD Theta 0: {:0.3f}, \\nBGD Theta 1: {:0.3f}'.format(theta_sgd[0][0], theta_sgd[1][0]))\n",
    "print('MBGD Final Cost Value: {:0.3f}'.format(cost_history_sgd[-1]))"
   ]
  },
  {
   "cell_type": "code",
   "execution_count": 98,
   "id": "ad916ca6",
   "metadata": {},
   "outputs": [
    {
     "name": "stdout",
     "output_type": "stream",
     "text": [
      "Total number of total updates for the cost is: 10000\n"
     ]
    }
   ],
   "source": [
    "print('Total number of total updates for the cost is:', len(cost_history_sgd))"
   ]
  },
  {
   "cell_type": "code",
   "execution_count": 95,
   "id": "921a0622",
   "metadata": {},
   "outputs": [
    {
     "data": {
      "text/plain": [
       "array([10.8096283 ,  7.35466828,  3.64190312, ...,  0.23813188,\n",
       "        0.2876264 ,  0.24225407])"
      ]
     },
     "execution_count": 95,
     "metadata": {},
     "output_type": "execute_result"
    }
   ],
   "source": [
    "cost_history_sgd"
   ]
  },
  {
   "cell_type": "markdown",
   "id": "0925d0a3",
   "metadata": {},
   "source": [
    "### Let us plot the cost function vs updates - `SGD`"
   ]
  },
  {
   "cell_type": "code",
   "execution_count": 108,
   "id": "6add62bc",
   "metadata": {},
   "outputs": [
    {
     "data": {
      "image/png": "[encoded data removed]",
      "text/plain": [
       "<Figure size 2160x720 with 1 Axes>"
      ]
     },
     "metadata": {
      "needs_background": "light"
     },
     "output_type": "display_data"
    }
   ],
   "source": [
    "# Plotting cost history in separate subplots under the same chart\n",
    "plt.figure(figsize=(30,10)) #canvas ready\n",
    "plt.plot(range(len(cost_history_sgd)), cost_history_sgd, label='SGD', color='purple')\n",
    "plt.title('Cost vs iteration - Stochastic Gradient Descent')\n",
    "plt.xlabel('No. of updates')\n",
    "plt.ylabel('Cost')\n",
    "plt.ylim(0,2)\n",
    "# plt.xlim(100,2000)\n",
    "plt.legend()\n",
    "plt.annotate(f'Final Cost: {cost_history_sgd[-1]:.3f}\\nTheta0: {theta_sgd[0][0]:.3f}\\nTheta1: {theta_sgd[1][0]:.3f}',\n",
    "             xy=(0.5, 0.5), xycoords='axes fraction',\n",
    "             bbox=dict(boxstyle=\"round,pad=0.3\", edgecolor='black', facecolor='lightgray'), fontsize=12)\n",
    "\n",
    "plt.show()\n"
   ]
  },
  {
   "cell_type": "markdown",
   "id": "ec097ea4",
   "metadata": {},
   "source": [
    "### Visualization"
   ]
  },
  {
   "cell_type": "code",
   "execution_count": 109,
   "id": "e247335e",
   "metadata": {
    "scrolled": false
   },
   "outputs": [
    {
     "data": {
      "image/png": "[encoded data removed]",
      "text/plain": [
       "<Figure size 576x432 with 1 Axes>"
      ]
     },
     "metadata": {
      "needs_background": "light"
     },
     "output_type": "display_data"
    }
   ],
   "source": [
    "# Create a range of values for plotting the best fit line\n",
    "x_plot = np.linspace(0, 2, 100).reshape(100, 1)\n",
    "x_plot_b = np.c_[np.ones((100, 1)), x_plot]\n",
    "\n",
    "# Plot best-fit lines for each algorithm\n",
    "plt.figure(figsize=(8,6))\n",
    "plt.scatter(X, y, color='purple', label='Data Points')\n",
    "plt.plot(x_plot, x_plot_b.dot(theta_sgd), color='red', label='Stochastic GD Fit')\n",
    "plt.title(\"Stochastic Gradient Descent\")\n",
    "plt.xlabel(\"X\")\n",
    "plt.ylabel(\"y\")\n",
    "plt.legend()\n",
    "plt.show()"
   ]
  },
  {
   "cell_type": "code",
   "execution_count": 111,
   "id": "eabf8080",
   "metadata": {},
   "outputs": [
    {
     "data": {
      "image/png": "[encoded data removed]",
      "text/plain": [
       "<Figure size 864x288 with 3 Axes>"
      ]
     },
     "metadata": {
      "needs_background": "light"
     },
     "output_type": "display_data"
    },
    {
     "data": {
      "image/png": "[encoded data removed]",
      "text/plain": [
       "<Figure size 864x288 with 3 Axes>"
      ]
     },
     "metadata": {
      "needs_background": "light"
     },
     "output_type": "display_data"
    }
   ],
   "source": [
    "# -------------------------------\n",
    "# 4. Visualization\n",
    "# -------------------------------\n",
    "\n",
    "# Create a range of values for plotting the best fit line\n",
    "x_plot = np.linspace(0, 2, 100).reshape(100, 1)\n",
    "x_plot_b = np.c_[np.ones((100, 1)), x_plot]\n",
    "\n",
    "# Plot best-fit lines for each algorithm\n",
    "plt.figure(figsize=(12, 4))\n",
    "\n",
    "plt.subplot(1, 3, 1)\n",
    "plt.scatter(X, y, color='blue', label='Data Points')\n",
    "plt.plot(x_plot, x_plot_b.dot(theta_bgd), color='red', label='Batch GD Fit')\n",
    "plt.title(\"Batch Gradient Descent\")\n",
    "plt.xlabel(\"X\")\n",
    "plt.ylabel(\"y\")\n",
    "plt.legend()\n",
    "\n",
    "plt.subplot(1, 3, 2)\n",
    "plt.scatter(X, y, color='blue', label='Data Points')\n",
    "plt.plot(x_plot, x_plot_b.dot(theta_mbgd), color='green', label='Mini-Batch GD Fit')\n",
    "plt.title(\"Mini-Batch Gradient Descent\")\n",
    "plt.xlabel(\"X\")\n",
    "plt.ylabel(\"y\")\n",
    "plt.legend()\n",
    "\n",
    "plt.subplot(1, 3, 3)\n",
    "plt.scatter(X, y, color='blue', label='Data Points')\n",
    "plt.plot(x_plot, x_plot_b.dot(theta_sgd), color='purple', label='SGD Fit')\n",
    "plt.title(\"Stochastic Gradient Descent\")\n",
    "plt.xlabel(\"X\")\n",
    "plt.ylabel(\"y\")\n",
    "plt.legend()\n",
    "\n",
    "plt.tight_layout()\n",
    "plt.show()\n",
    "\n",
    "# Plot cost history curves for each algorithm to compare convergence\n",
    "plt.figure(figsize=(12, 4))\n",
    "\n",
    "plt.subplot(1, 3, 1)\n",
    "plt.plot(cost_history_bgd, color='red')\n",
    "plt.title(\"Cost History (Batch)\")\n",
    "plt.xlabel(\"Iteration\")\n",
    "plt.ylabel(\"Cost\")\n",
    "\n",
    "plt.subplot(1, 3, 2)\n",
    "plt.plot(cost_history_mbgd, color='green')\n",
    "plt.title(\"Cost History (Mini-Batch)\")\n",
    "plt.xlabel(\"Iteration\")\n",
    "plt.ylabel(\"Cost\")\n",
    "\n",
    "plt.subplot(1, 3, 3)\n",
    "plt.plot(cost_history_sgd, color='purple')\n",
    "plt.title(\"Cost History (SGD)\")\n",
    "plt.xlabel(\"Iteration\")\n",
    "plt.ylabel(\"Cost\")\n",
    "\n",
    "plt.tight_layout()\n",
    "plt.show()\n"
   ]
  },
  {
   "cell_type": "code",
   "execution_count": null,
   "id": "c4ae49e2",
   "metadata": {},
   "outputs": [],
   "source": []
  }
 ],
 "metadata": {
  "kernelspec": {
   "display_name": "Python 3",
   "language": "python",
   "name": "python3"
  },
  "language_info": {
   "codemirror_mode": {
    "name": "ipython",
    "version": 3
   },
   "file_extension": ".py",
   "mimetype": "text/x-python",
   "name": "python",
   "nbconvert_exporter": "python",
   "pygments_lexer": "ipython3",
   "version": "3.8.8"
  }
 },
 "nbformat": 4,
 "nbformat_minor": 5
}
