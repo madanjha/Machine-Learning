{
 "cells": [
  {
   "cell_type": "code",
   "execution_count": 1,
   "id": "0f6cb02b",
   "metadata": {},
   "outputs": [
    {
     "name": "stderr",
     "output_type": "stream",
     "text": [
      "C:\\Users\\think\\anaconda3\\lib\\site-packages\\scipy\\__init__.py:138: UserWarning: A NumPy version >=1.16.5 and <1.23.0 is required for this version of SciPy (detected version 1.24.4)\n",
      "  warnings.warn(f\"A NumPy version >={np_minversion} and <{np_maxversion} is required for this version of \"\n"
     ]
    }
   ],
   "source": [
    "import numpy as np\n",
    "import pandas as pd\n",
    "import os\n",
    "import seaborn as sns\n",
    "import matplotlib.pyplot as plt"
   ]
  },
  {
   "cell_type": "code",
   "execution_count": 2,
   "id": "74898ba1",
   "metadata": {},
   "outputs": [
    {
     "data": {
      "text/plain": [
       "'C:\\\\Users\\\\think\\\\OneDrive - Thinking Mojo\\\\TSLC\\\\Intellipaat\\\\Session Master\\\\05. AI and DL IITR-15Mar2025(M)'"
      ]
     },
     "execution_count": 2,
     "metadata": {},
     "output_type": "execute_result"
    }
   ],
   "source": [
    "### To see the current working directory\n",
    "os.getcwd()"
   ]
  },
  {
   "cell_type": "markdown",
   "id": "a79058dd",
   "metadata": {},
   "source": [
    "`os`: to use operating system related functions"
   ]
  },
  {
   "cell_type": "markdown",
   "id": "87709638",
   "metadata": {},
   "source": [
    "- To know the `current working directory`: `os.getcwd()`\n",
    "\n",
    "- To change the `change directory`: `os.chdir(path)`"
   ]
  },
  {
   "cell_type": "code",
   "execution_count": 3,
   "id": "19a9d299",
   "metadata": {},
   "outputs": [],
   "source": [
    "# -------------------------------\n",
    "# 1. Data Generation and Setup\n",
    "# -------------------------------"
   ]
  },
  {
   "cell_type": "code",
   "execution_count": 5,
   "id": "b215bca3",
   "metadata": {},
   "outputs": [],
   "source": [
    "def generate_data(n_samples = 100, noise=0.1, seed=42):\n",
    "    \"\"\"\n",
    "    Generate dummy linear data: y = 4 + 3*X + noise.\n",
    "    \"\"\"\n",
    "    np.random.seed(seed)\n",
    "    X = 2 * np.random.rand(n_samples, 1) #generates random numbers in a given shape\n",
    "    y = 4 + 3*X + noise * np.random.randn(n_samples, 1)\n",
    "    return X, y"
   ]
  },
  {
   "cell_type": "code",
   "execution_count": 45,
   "id": "7110f3a1",
   "metadata": {},
   "outputs": [],
   "source": [
    "## Generated data\n",
    "X, y = generate_data(n_samples=100, noise=0.7)"
   ]
  },
  {
   "cell_type": "code",
   "execution_count": 46,
   "id": "5d7d33f1",
   "metadata": {},
   "outputs": [
    {
     "data": {
      "text/plain": [
       "2"
      ]
     },
     "execution_count": 46,
     "metadata": {},
     "output_type": "execute_result"
    }
   ],
   "source": [
    "X.ndim"
   ]
  },
  {
   "cell_type": "code",
   "execution_count": 47,
   "id": "92fe4f3c",
   "metadata": {},
   "outputs": [
    {
     "data": {
      "text/plain": [
       "(100, 1)"
      ]
     },
     "execution_count": 47,
     "metadata": {},
     "output_type": "execute_result"
    }
   ],
   "source": [
    "X.shape"
   ]
  },
  {
   "cell_type": "code",
   "execution_count": 48,
   "id": "69d0c08d",
   "metadata": {},
   "outputs": [
    {
     "data": {
      "image/png": "[encoded data removed]",
      "text/plain": [
       "<Figure size 576x288 with 1 Axes>"
      ]
     },
     "metadata": {
      "needs_background": "light"
     },
     "output_type": "display_data"
    }
   ],
   "source": [
    "### let us plot the data distribution - WITHOUT NOISE\n",
    "plt.figure(figsize = (8,4))\n",
    "plt.scatter(X, y, color = 'blue', label='Generated Data with Noise')\n",
    "plt.show()"
   ]
  },
  {
   "cell_type": "code",
   "execution_count": null,
   "id": "afeab90a",
   "metadata": {},
   "outputs": [],
   "source": [
    "def generate_data_test(n_samples = 100, noise=0.1, seed=42):\n",
    "    \"\"\"\n",
    "    Generate dummy linear data: y = 4 + 3*X + noise.\n",
    "    \"\"\"\n",
    "    np.random.seed(seed)\n",
    "    X = 2 * np.random.rand(n_samples, 1) #generates random numbers in a given shape\n",
    "    y = 4 + 3*X \n",
    "    return X, y"
   ]
  },
  {
   "cell_type": "code",
   "execution_count": null,
   "id": "3b9a2352",
   "metadata": {},
   "outputs": [],
   "source": [
    "## Generated data\n",
    "X_test, y_test = generate_data_test(n_samples=100, noise=0.2)"
   ]
  },
  {
   "cell_type": "code",
   "execution_count": 40,
   "id": "868905b4",
   "metadata": {},
   "outputs": [
    {
     "data": {
      "image/png": "[encoded data removed]",
      "text/plain": [
       "<Figure size 576x288 with 1 Axes>"
      ]
     },
     "metadata": {
      "needs_background": "light"
     },
     "output_type": "display_data"
    }
   ],
   "source": [
    "### let us plot the data distribution - WITHOUT NOISE\n",
    "plt.figure(figsize = (8,4))\n",
    "plt.scatter(X_test, y_test, color = 'red', label='Generated Data without Noise')\n",
    "plt.legend()\n",
    "plt.show()"
   ]
  },
  {
   "cell_type": "code",
   "execution_count": 49,
   "id": "b07457e4",
   "metadata": {},
   "outputs": [],
   "source": [
    "# Number of rows in data\n",
    "m = len(y)\n",
    "\n",
    "### Let us add the bias term\n",
    "X_b = np.c_[np.ones((m,1)), X]  # adding a bias term which is fixed value 1 to the existing X"
   ]
  },
  {
   "cell_type": "code",
   "execution_count": 50,
   "id": "2be6880c",
   "metadata": {},
   "outputs": [
    {
     "data": {
      "text/plain": [
       "array([[1.        , 0.74908024],\n",
       "       [1.        , 1.90142861],\n",
       "       [1.        , 1.46398788],\n",
       "       [1.        , 1.19731697],\n",
       "       [1.        , 0.31203728],\n",
       "       [1.        , 0.31198904],\n",
       "       [1.        , 0.11616722],\n",
       "       [1.        , 1.73235229],\n",
       "       [1.        , 1.20223002],\n",
       "       [1.        , 1.41614516],\n",
       "       [1.        , 0.04116899],\n",
       "       [1.        , 1.9398197 ],\n",
       "       [1.        , 1.66488528],\n",
       "       [1.        , 0.42467822],\n",
       "       [1.        , 0.36364993],\n",
       "       [1.        , 0.36680902],\n",
       "       [1.        , 0.60848449],\n",
       "       [1.        , 1.04951286],\n",
       "       [1.        , 0.86389004],\n",
       "       [1.        , 0.58245828],\n",
       "       [1.        , 1.22370579],\n",
       "       [1.        , 0.27898772],\n",
       "       [1.        , 0.5842893 ],\n",
       "       [1.        , 0.73272369],\n",
       "       [1.        , 0.91213997],\n",
       "       [1.        , 1.57035192],\n",
       "       [1.        , 0.39934756],\n",
       "       [1.        , 1.02846888],\n",
       "       [1.        , 1.18482914],\n",
       "       [1.        , 0.09290083],\n",
       "       [1.        , 1.2150897 ],\n",
       "       [1.        , 0.34104825],\n",
       "       [1.        , 0.13010319],\n",
       "       [1.        , 1.89777107],\n",
       "       [1.        , 1.93126407],\n",
       "       [1.        , 1.6167947 ],\n",
       "       [1.        , 0.60922754],\n",
       "       [1.        , 0.19534423],\n",
       "       [1.        , 1.36846605],\n",
       "       [1.        , 0.88030499],\n",
       "       [1.        , 0.24407647],\n",
       "       [1.        , 0.99035382],\n",
       "       [1.        , 0.06877704],\n",
       "       [1.        , 1.8186408 ],\n",
       "       [1.        , 0.51755996],\n",
       "       [1.        , 1.32504457],\n",
       "       [1.        , 0.62342215],\n",
       "       [1.        , 1.04013604],\n",
       "       [1.        , 1.09342056],\n",
       "       [1.        , 0.36970891],\n",
       "       [1.        , 1.93916926],\n",
       "       [1.        , 1.55026565],\n",
       "       [1.        , 1.87899788],\n",
       "       [1.        , 1.7896547 ],\n",
       "       [1.        , 1.19579996],\n",
       "       [1.        , 1.84374847],\n",
       "       [1.        , 0.176985  ],\n",
       "       [1.        , 0.39196572],\n",
       "       [1.        , 0.09045458],\n",
       "       [1.        , 0.65066066],\n",
       "       [1.        , 0.77735458],\n",
       "       [1.        , 0.54269806],\n",
       "       [1.        , 1.65747502],\n",
       "       [1.        , 0.71350665],\n",
       "       [1.        , 0.56186902],\n",
       "       [1.        , 1.08539217],\n",
       "       [1.        , 0.28184845],\n",
       "       [1.        , 1.60439396],\n",
       "       [1.        , 0.14910129],\n",
       "       [1.        , 1.97377387],\n",
       "       [1.        , 1.54448954],\n",
       "       [1.        , 0.39743136],\n",
       "       [1.        , 0.01104423],\n",
       "       [1.        , 1.63092286],\n",
       "       [1.        , 1.41371469],\n",
       "       [1.        , 1.45801434],\n",
       "       [1.        , 1.54254069],\n",
       "       [1.        , 0.1480893 ],\n",
       "       [1.        , 0.71693146],\n",
       "       [1.        , 0.23173812],\n",
       "       [1.        , 1.72620685],\n",
       "       [1.        , 1.24659625],\n",
       "       [1.        , 0.66179605],\n",
       "       [1.        , 0.1271167 ],\n",
       "       [1.        , 0.62196464],\n",
       "       [1.        , 0.65036664],\n",
       "       [1.        , 1.45921236],\n",
       "       [1.        , 1.27511494],\n",
       "       [1.        , 1.77442549],\n",
       "       [1.        , 0.94442985],\n",
       "       [1.        , 0.23918849],\n",
       "       [1.        , 1.42648957],\n",
       "       [1.        , 1.5215701 ],\n",
       "       [1.        , 1.1225544 ],\n",
       "       [1.        , 1.54193436],\n",
       "       [1.        , 0.98759119],\n",
       "       [1.        , 1.04546566],\n",
       "       [1.        , 0.85508204],\n",
       "       [1.        , 0.05083825],\n",
       "       [1.        , 0.21578285]])"
      ]
     },
     "execution_count": 50,
     "metadata": {},
     "output_type": "execute_result"
    }
   ],
   "source": [
    "X_b"
   ]
  },
  {
   "attachments": {
    "image.png": {
     "image/png": "[encoded data removed]"
    }
   },
   "cell_type": "markdown",
   "id": "742c8aad",
   "metadata": {},
   "source": [
    "![image.png](attachment:image.png)"
   ]
  },
  {
   "cell_type": "code",
   "execution_count": 51,
   "id": "6e71519a",
   "metadata": {},
   "outputs": [],
   "source": [
    "### Define the cost function\n",
    "def compute_cost(X,y, theta):\n",
    "    \"\"\"\n",
    "    Compute the Mean Squared Error Cost Function\n",
    "    \"\"\"\n",
    "    m = len(y)\n",
    "    return np.sum((X.dot(theta) - y) ** 2)/(2*m) # in denominator there is an extra 2"
   ]
  },
  {
   "cell_type": "markdown",
   "id": "f37dae0d",
   "metadata": {},
   "source": [
    "### BATCH GRADIENT DESCENT FUNCTION"
   ]
  },
  {
   "cell_type": "code",
   "execution_count": 61,
   "id": "96a5cb21",
   "metadata": {},
   "outputs": [],
   "source": [
    "def bgd(X,y,theta, learning_rate = 0.1, epochs = 1000):\n",
    "    \n",
    "    \"\"\"\n",
    "    Vanilla Gradient Descent using the entire dataset\n",
    "    Returns the final theta and a history of the cost function\n",
    "    X = Array of X with added bias\n",
    "    y = Vector of y\n",
    "    theta: vector of weight parameter randomly assigned\n",
    "    learning_rate: default to 0.1\n",
    "    epochs: number of times model will run through the entire training dataset\n",
    "    \n",
    "    \"\"\"\n",
    "    m = len(y)\n",
    "    cost_history = np.zeros(epochs) # zero-array to store the cost after each update\n",
    "    theta_history = np.zeros((epochs, theta.shape[0])) #zero-array to store the parameter (weights & biases) values\n",
    "    \n",
    "    \n",
    "    for epoch in range(epochs):\n",
    "        \n",
    "        gradients = (X.T.dot(X.dot(theta) - y))/m\n",
    "        theta = theta - learning_rate * gradients\n",
    "        cost = compute_cost(X,y, theta)\n",
    "        \n",
    "        #Update the empty arrays for theta and cost_history\n",
    "        cost_history[epoch] = cost #uni-dimension\n",
    "        theta_history[epoch, :]=theta.T # 2 dimensions\n",
    "        \n",
    "    return theta, cost_history, theta_history"
   ]
  },
  {
   "cell_type": "markdown",
   "id": "8478279e",
   "metadata": {},
   "source": [
    "### Running the algorithm\n"
   ]
  },
  {
   "cell_type": "code",
   "execution_count": 62,
   "id": "05d6a774",
   "metadata": {},
   "outputs": [
    {
     "name": "stdout",
     "output_type": "stream",
     "text": [
      "[[1.76405235]\n",
      " [0.40015721]]\n"
     ]
    }
   ],
   "source": [
    "### Initialize the parameters \n",
    "np.random.seed(0)\n",
    "### Initialize the theta\n",
    "theta = np.random.randn(2,1)\n",
    "print(theta)"
   ]
  },
  {
   "cell_type": "code",
   "execution_count": 95,
   "id": "22f3c0db",
   "metadata": {},
   "outputs": [],
   "source": [
    "theta_bgd, cost_history_bgd, theta_history_bgd = bgd(X_b, y, theta,  learning_rate = 0.1, epochs=30)"
   ]
  },
  {
   "cell_type": "code",
   "execution_count": 96,
   "id": "35c0a7c0",
   "metadata": {},
   "outputs": [
    {
     "data": {
      "text/plain": [
       "array([7.75001556, 4.95373459, 3.19306184, 2.08444818, 1.38639656,\n",
       "       0.94685122, 0.6700721 , 0.49577758, 0.38601205, 0.31687719,\n",
       "       0.2733257 , 0.24588318, 0.22858419, 0.21767263, 0.21078349,\n",
       "       0.20642765, 0.20366748, 0.2019126 , 0.20079125, 0.20006936,\n",
       "       0.19959952, 0.19928888, 0.19907899, 0.19893301, 0.19882774,\n",
       "       0.19874855, 0.19868622, 0.19863492, 0.19859097, 0.19855204])"
      ]
     },
     "execution_count": 96,
     "metadata": {},
     "output_type": "execute_result"
    }
   ],
   "source": [
    "cost_history_bgd"
   ]
  },
  {
   "cell_type": "code",
   "execution_count": 103,
   "id": "405c96fb",
   "metadata": {},
   "outputs": [
    {
     "data": {
      "text/plain": [
       "array([[2.23205069, 0.92571924],\n",
       "       [2.60382737, 1.3423793 ],\n",
       "       [2.89924527, 1.67263224],\n",
       "       [3.13406567, 1.93432758],\n",
       "       [3.32079521, 2.14162876],\n",
       "       [3.46935799, 2.30577432],\n",
       "       [3.58762888, 2.4356819 ],\n",
       "       [3.68185666, 2.53842754],\n",
       "       [3.75699987, 2.61962596],\n",
       "       [3.81699317, 2.6837323 ],\n",
       "       [3.86495882, 2.73428165],\n",
       "       [3.90337444, 2.77407896],\n",
       "       [3.93420612, 2.80534988],\n",
       "       [3.95901403, 2.82986037],\n",
       "       [3.97903628, 2.84901161],\n",
       "       [3.99525539, 2.86391535],\n",
       "       [4.0084511 , 2.87545369],\n",
       "       [4.01924222, 2.88432647],\n",
       "       [4.02811987, 2.89108894],\n",
       "       [4.03547383, 2.8961816 ],\n",
       "       [4.04161351, 2.89995391],\n",
       "       [4.04678448, 2.90268308],\n",
       "       [4.05118172, 2.90458902],\n",
       "       [4.05496   , 2.90584612],\n",
       "       [4.05824224, 2.90659271],\n",
       "       [4.06112606, 2.90693847],\n",
       "       [4.06368897, 2.90697035],\n",
       "       [4.0659926 , 2.90675728],\n",
       "       [4.0680859 , 2.9063539 ],\n",
       "       [4.0700078 , 2.90580348]])"
      ]
     },
     "execution_count": 103,
     "metadata": {},
     "output_type": "execute_result"
    }
   ],
   "source": [
    "theta_history_bgd"
   ]
  },
  {
   "cell_type": "code",
   "execution_count": 97,
   "id": "252a3763",
   "metadata": {},
   "outputs": [
    {
     "name": "stdout",
     "output_type": "stream",
     "text": [
      "BGD Theta 0: 4.070, \n",
      "BGD Theta 1: 2.906\n",
      "BGD Final Cost Value: 0.199\n"
     ]
    }
   ],
   "source": [
    "print('BGD Theta 0: {:0.3f}, \\nBGD Theta 1: {:0.3f}'.format(theta_bgd[0][0], theta_bgd[1][0]))\n",
    "print('BGD Final Cost Value: {:0.3f}'.format(cost_history_bgd[-1]))"
   ]
  },
  {
   "cell_type": "code",
   "execution_count": 98,
   "id": "19e9f5dc",
   "metadata": {},
   "outputs": [
    {
     "data": {
      "text/plain": [
       "Text(0.5, 0.5, 'Final Cost: 0.199\\nTheta0: 4.070\\nTheta1: 2.906')"
      ]
     },
     "execution_count": 98,
     "metadata": {},
     "output_type": "execute_result"
    },
    {
     "data": {
      "image/png": "[encoded data removed]",
      "text/plain": [
       "<Figure size 720x1440 with 1 Axes>"
      ]
     },
     "metadata": {
      "needs_background": "light"
     },
     "output_type": "display_data"
    }
   ],
   "source": [
    "# Plotting cost history in separate subplots under the same chart\n",
    "plt.figure(figsize=(10,20)) #canvas ready\n",
    "\n",
    "# Plot for BGD\n",
    "plt.subplot(3,1,1)\n",
    "plt.plot(range(len(cost_history_bgd)), cost_history_bgd, label='BGD', color='blue')\n",
    "plt.title('Cost vs iteration - Batch Gradient Descent')\n",
    "plt.xlabel('No. of epochs')\n",
    "plt.ylabel('Cost')\n",
    "plt.ylim(0,5)\n",
    "# plt.xlim(100,2000)\n",
    "plt.legend()\n",
    "plt.annotate(f'Final Cost: {cost_history_bgd[-1]:.3f}\\nTheta0: {theta_bgd[0][0]:.3f}\\nTheta1: {theta_bgd[1][0]:.3f}',\n",
    "             xy=(0.5, 0.5), xycoords='axes fraction',\n",
    "             bbox=dict(boxstyle=\"round,pad=0.3\", edgecolor='black', facecolor='lightgray'), fontsize=12)\n"
   ]
  },
  {
   "cell_type": "code",
   "execution_count": 99,
   "id": "8d3896dd",
   "metadata": {},
   "outputs": [
    {
     "data": {
      "text/plain": [
       "(array([[1, 2],\n",
       "        [1, 4],\n",
       "        [1, 6]]),\n",
       " array([[0.5],\n",
       "        [2. ]]),\n",
       " array([[ 4.5],\n",
       "        [ 8.5],\n",
       "        [12.5]]))"
      ]
     },
     "execution_count": 99,
     "metadata": {},
     "output_type": "execute_result"
    }
   ],
   "source": [
    "### GPT code - Review later\n",
    "\n",
    "import numpy as np\n",
    "\n",
    "# Create a small sample dataset\n",
    "X_sample = np.array([[1, 2],\n",
    "                     [1, 4],\n",
    "                     [1, 6]])  # Includes bias term as the first column (1s)\n",
    "\n",
    "theta_sample = np.array([[0.5],\n",
    "                         [2.0]])  # theta = [bias, weight]\n",
    "\n",
    "# Perform the dot product\n",
    "predictions = X_sample.dot(theta_sample)\n",
    "\n",
    "X_sample, theta_sample, predictions\n"
   ]
  },
  {
   "cell_type": "code",
   "execution_count": 100,
   "id": "7cf02211",
   "metadata": {},
   "outputs": [
    {
     "data": {
      "text/plain": [
       "array([[1, 2],\n",
       "       [1, 4],\n",
       "       [1, 6]])"
      ]
     },
     "execution_count": 100,
     "metadata": {},
     "output_type": "execute_result"
    }
   ],
   "source": [
    "X_sample"
   ]
  },
  {
   "cell_type": "code",
   "execution_count": 101,
   "id": "0bbe1e36",
   "metadata": {},
   "outputs": [
    {
     "data": {
      "text/plain": [
       "array([[0.5],\n",
       "       [2. ]])"
      ]
     },
     "execution_count": 101,
     "metadata": {},
     "output_type": "execute_result"
    }
   ],
   "source": [
    "theta_sample"
   ]
  },
  {
   "cell_type": "code",
   "execution_count": 102,
   "id": "64e0f22d",
   "metadata": {},
   "outputs": [
    {
     "data": {
      "text/plain": [
       "array([[ 4.5],\n",
       "       [ 8.5],\n",
       "       [12.5]])"
      ]
     },
     "execution_count": 102,
     "metadata": {},
     "output_type": "execute_result"
    }
   ],
   "source": [
    "predictions"
   ]
  },
  {
   "cell_type": "markdown",
   "id": "4868a325",
   "metadata": {},
   "source": [
    "### Let us plot the best fit line"
   ]
  },
  {
   "cell_type": "markdown",
   "id": "844f894f",
   "metadata": {},
   "source": [
    "### Visualization"
   ]
  },
  {
   "cell_type": "code",
   "execution_count": 109,
   "id": "33471e1f",
   "metadata": {},
   "outputs": [
    {
     "data": {
      "image/png": "[encoded data removed]",
      "text/plain": [
       "<Figure size 1296x432 with 1 Axes>"
      ]
     },
     "metadata": {
      "needs_background": "light"
     },
     "output_type": "display_data"
    }
   ],
   "source": [
    "# Create a range of values for plotting the best fit line\n",
    "x_plot = np.linspace(0, 2, 100).reshape(100, 1)\n",
    "x_plot_b = np.c_[np.ones((100, 1)), x_plot]\n",
    "\n",
    "# Plot best-fit lines for each algorithm\n",
    "plt.figure(figsize=(18, 6))\n",
    "\n",
    "plt.subplot(1, 3, 1)\n",
    "plt.scatter(X, y, color='blue', label='Data Points')\n",
    "plt.plot(x_plot, x_plot_b.dot(theta_bgd), color='red', label='Batch GD Fit')\n",
    "plt.title(\"Batch Gradient Descent\")\n",
    "plt.xlabel(\"X\")\n",
    "plt.ylabel(\"y\")\n",
    "plt.legend()\n",
    "plt.show()"
   ]
  },
  {
   "cell_type": "code",
   "execution_count": null,
   "id": "0ea88b70",
   "metadata": {},
   "outputs": [],
   "source": []
  }
 ],
 "metadata": {
  "kernelspec": {
   "display_name": "Python 3",
   "language": "python",
   "name": "python3"
  },
  "language_info": {
   "codemirror_mode": {
    "name": "ipython",
    "version": 3
   },
   "file_extension": ".py",
   "mimetype": "text/x-python",
   "name": "python",
   "nbconvert_exporter": "python",
   "pygments_lexer": "ipython3",
   "version": "3.8.8"
  }
 },
 "nbformat": 4,
 "nbformat_minor": 5
}
